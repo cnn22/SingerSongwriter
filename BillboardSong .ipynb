{
 "cells": [
  {
   "cell_type": "code",
   "execution_count": 32,
   "metadata": {},
   "outputs": [],
   "source": [
    "# Web scraping, pickle imports\n",
    "import requests\n",
    "from bs4 import BeautifulSoup\n",
    "import pickle\n",
    "import pandas as pd\n",
    "from datetime import datetime\n",
    "import string\n",
    "from functools import reduce\n",
    "from datetime import datetime\n",
    "from datetime import timedelta"
   ]
  },
  {
   "cell_type": "code",
   "execution_count": 35,
   "metadata": {
    "scrolled": true
   },
   "outputs": [
    {
     "name": "stdout",
     "output_type": "stream",
     "text": [
      "https://www.billboard.com/charts/billboard-200/2020-01-01\n",
      "https://www.billboard.com/charts/billboard-200/2020-01-08\n",
      "https://www.billboard.com/charts/billboard-200/2020-01-15\n",
      "https://www.billboard.com/charts/billboard-200/2020-01-22\n",
      "https://www.billboard.com/charts/billboard-200/2020-01-29\n",
      "https://www.billboard.com/charts/billboard-200/2020-02-05\n",
      "https://www.billboard.com/charts/billboard-200/2020-02-12\n",
      "https://www.billboard.com/charts/billboard-200/2020-02-19\n",
      "https://www.billboard.com/charts/billboard-200/2020-02-26\n",
      "https://www.billboard.com/charts/billboard-200/2020-03-04\n",
      "https://www.billboard.com/charts/billboard-200/2020-03-11\n",
      "https://www.billboard.com/charts/billboard-200/2020-03-18\n",
      "https://www.billboard.com/charts/billboard-200/2020-03-25\n",
      "https://www.billboard.com/charts/billboard-200/2020-04-01\n",
      "https://www.billboard.com/charts/billboard-200/2020-04-08\n",
      "https://www.billboard.com/charts/billboard-200/2020-04-15\n",
      "https://www.billboard.com/charts/billboard-200/2020-04-22\n",
      "https://www.billboard.com/charts/billboard-200/2020-04-29\n",
      "https://www.billboard.com/charts/billboard-200/2020-05-06\n",
      "https://www.billboard.com/charts/billboard-200/2020-05-13\n",
      "https://www.billboard.com/charts/billboard-200/2020-05-20\n",
      "https://www.billboard.com/charts/billboard-200/2020-05-27\n",
      "https://www.billboard.com/charts/billboard-200/2020-06-03\n",
      "https://www.billboard.com/charts/billboard-200/2020-06-10\n",
      "https://www.billboard.com/charts/billboard-200/2020-06-17\n",
      "https://www.billboard.com/charts/billboard-200/2020-06-24\n",
      "https://www.billboard.com/charts/billboard-200/2020-07-01\n",
      "https://www.billboard.com/charts/billboard-200/2020-07-08\n",
      "https://www.billboard.com/charts/billboard-200/2020-07-15\n",
      "https://www.billboard.com/charts/billboard-200/2020-07-22\n",
      "https://www.billboard.com/charts/billboard-200/2020-07-29\n",
      "https://www.billboard.com/charts/billboard-200/2020-08-05\n",
      "https://www.billboard.com/charts/billboard-200/2020-08-12\n",
      "https://www.billboard.com/charts/billboard-200/2020-08-19\n",
      "https://www.billboard.com/charts/billboard-200/2020-08-26\n",
      "https://www.billboard.com/charts/billboard-200/2020-09-02\n",
      "https://www.billboard.com/charts/billboard-200/2020-09-09\n",
      "https://www.billboard.com/charts/billboard-200/2020-09-16\n",
      "https://www.billboard.com/charts/billboard-200/2020-09-23\n",
      "https://www.billboard.com/charts/billboard-200/2020-09-30\n",
      "https://www.billboard.com/charts/billboard-200/2020-10-07\n",
      "https://www.billboard.com/charts/billboard-200/2020-10-14\n",
      "https://www.billboard.com/charts/billboard-200/2020-10-21\n",
      "https://www.billboard.com/charts/billboard-200/2020-10-28\n",
      "https://www.billboard.com/charts/billboard-200/2020-11-04\n",
      "https://www.billboard.com/charts/billboard-200/2020-11-11\n",
      "https://www.billboard.com/charts/billboard-200/2020-11-18\n",
      "https://www.billboard.com/charts/billboard-200/2020-11-25\n",
      "https://www.billboard.com/charts/billboard-200/2020-12-02\n",
      "https://www.billboard.com/charts/billboard-200/2020-12-09\n",
      "https://www.billboard.com/charts/billboard-200/2020-12-16\n",
      "https://www.billboard.com/charts/billboard-200/2020-12-23\n",
      "https://www.billboard.com/charts/billboard-200/2020-12-30\n",
      "https://www.billboard.com/charts/billboard-200/2021-01-06\n",
      "https://www.billboard.com/charts/billboard-200/2021-01-13\n"
     ]
    },
    {
     "data": {
      "text/plain": [
       "524"
      ]
     },
     "execution_count": 35,
     "metadata": {},
     "output_type": "execute_result"
    }
   ],
   "source": [
    "SONG_TITLE_KEY = \"chart-element__information__song text--truncate color--primary\"\n",
    "SONG_ARTIST_KEY = \"chart-element__information__artist text--truncate color--secondary\"\n",
    "SONG_ELEMENT_KEY = \"chart-element__information\"\n",
    "urlBase = \"https://www.billboard.com/charts/billboard-200\"\n",
    "\n",
    "songDictionary = {}\n",
    "def getSongs(url):\n",
    "    page = requests.get(url).text\n",
    "    soup = BeautifulSoup(page, \"lxml\")\n",
    "    for element in soup.find_all(class_ = SONG_ELEMENT_KEY):\n",
    "        songName = element.find(class_ = SONG_TITLE_KEY).text #not unique\n",
    "        songArtist = element.find(class_ = SONG_ARTIST_KEY).text #not unique \n",
    "        songTuple = (songName, songArtist)\n",
    "        if songTuple not in songDictionary:\n",
    "            songDictionary[songTuple] = songTuple\n",
    "\n",
    "def pageIterator(url, startDate, endDate):\n",
    "    \n",
    "    current = date.fromisoformat(startDate)\n",
    "    end = date.fromisoformat(endDate)\n",
    "#     url = url+startDate\n",
    "    \n",
    "    while current <= end:\n",
    "        print(url+current.strftime('%Y-%m-%d'))\n",
    "        getSongs(url+current.strftime('%Y-%m-%d'))\n",
    "        current += timedelta(weeks = 1)\n",
    "    \n",
    "        \n",
    "        \n",
    "        \n",
    "pageIterator(\"https://www.billboard.com/charts/billboard-200/\", \"2020-01-01\", \"2021-01-15\")\n",
    "len(songDictionary)\n",
    "\n",
    "#clean up dataframe - cut out song titles with the word 'Album'\n",
    "#get all song attributes - for loop using spotify API \n",
    "#note: do not check if artist and song match, because we are going to analyze the results first...\n",
    "#GOAL: get attributes for song"
   ]
  },
  {
   "cell_type": "code",
   "execution_count": 52,
   "metadata": {},
   "outputs": [],
   "source": [
    "songs = pd.DataFrame.from_dict(songDictionary, orient = 'index', columns = ['Title', 'Artist']).reset_index()\n",
    "songs.drop(columns = ['index'], inplace = True)"
   ]
  },
  {
   "cell_type": "code",
   "execution_count": 54,
   "metadata": {},
   "outputs": [],
   "source": [
    "# songs.to_pickle('songs.pkl')\n",
    "# songs = pd.read_pickle('songs.pkl')"
   ]
  },
  {
   "cell_type": "code",
   "execution_count": null,
   "metadata": {},
   "outputs": [],
   "source": []
  }
 ],
 "metadata": {
  "kernelspec": {
   "display_name": "Python 3",
   "language": "python",
   "name": "python3"
  },
  "language_info": {
   "codemirror_mode": {
    "name": "ipython",
    "version": 3
   },
   "file_extension": ".py",
   "mimetype": "text/x-python",
   "name": "python",
   "nbconvert_exporter": "python",
   "pygments_lexer": "ipython3",
   "version": "3.7.3"
  }
 },
 "nbformat": 4,
 "nbformat_minor": 4
}
