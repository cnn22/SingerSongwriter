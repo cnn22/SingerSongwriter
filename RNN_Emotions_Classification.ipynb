{
  "nbformat": 4,
  "nbformat_minor": 0,
  "metadata": {
    "colab": {
      "name": "RNN Emotions Classification.ipynb",
      "provenance": [],
      "collapsed_sections": [],
      "include_colab_link": true
    },
    "kernelspec": {
      "name": "python3",
      "display_name": "Python 3"
    },
    "language_info": {
      "name": "python"
    }
  },
  "cells": [
    {
      "cell_type": "markdown",
      "metadata": {
        "id": "view-in-github",
        "colab_type": "text"
      },
      "source": [
        "<a href=\"https://colab.research.google.com/github/cnn22/SingerSongwriter/blob/main/RNN_Emotions_Classification.ipynb\" target=\"_parent\"><img src=\"https://colab.research.google.com/assets/colab-badge.svg\" alt=\"Open In Colab\"/></a>"
      ]
    },
    {
      "cell_type": "code",
      "metadata": {
        "id": "EsusBDPtVkrC"
      },
      "source": [
        "import pandas as pd\n",
        "import numpy as np\n",
        "import tensorflow as tf\n",
        "import matplotlib.pyplot as plt"
      ],
      "execution_count": 5,
      "outputs": []
    },
    {
      "cell_type": "code",
      "metadata": {
        "id": "LA5ASQS-Vob_"
      },
      "source": [
        "#Read in data\n",
        "train = pd.read_csv('train.txt', ';', header=None, names=['Sentence', 'Emotion'], index_col=False)\n",
        "test = pd.read_csv('test.txt', ';', header=None, names=['Sentence', 'Emotion'], index_col=False)"
      ],
      "execution_count": 6,
      "outputs": []
    },
    {
      "cell_type": "code",
      "metadata": {
        "colab": {
          "base_uri": "https://localhost:8080/"
        },
        "id": "EM54PFahlA4q",
        "outputId": "d12d8e3b-37cb-47a9-c11c-22dcb5132dc7"
      },
      "source": [
        "test.Emotion.unique()"
      ],
      "execution_count": 4,
      "outputs": [
        {
          "output_type": "execute_result",
          "data": {
            "text/plain": [
              "array(['sadness', 'joy', 'fear', 'anger', 'love', 'surprise'],\n",
              "      dtype=object)"
            ]
          },
          "metadata": {},
          "execution_count": 4
        }
      ]
    },
    {
      "cell_type": "code",
      "metadata": {
        "id": "E9btJ1Czk-Nj"
      },
      "source": [
        "train.loc[train.Emotion == 'sadness', 'Emotion'] = 0\n",
        "train.loc[train.Emotion == 'anger', 'Emotion'] = 1\n",
        "train.loc[train.Emotion == 'love', 'Emotion'] = 2\n",
        "train.loc[train.Emotion == 'surprise', 'Emotion'] = 3\n",
        "train.loc[train.Emotion == 'fear', 'Emotion'] = 4\n",
        "train.loc[train.Emotion == 'joy', 'Emotion'] = 5"
      ],
      "execution_count": 7,
      "outputs": []
    },
    {
      "cell_type": "code",
      "metadata": {
        "id": "5Wl6LMjRlMpw"
      },
      "source": [
        "test.loc[test.Emotion == 'sadness', 'Emotion'] = 0\n",
        "test.loc[test.Emotion == 'anger', 'Emotion'] = 1\n",
        "test.loc[test.Emotion == 'love', 'Emotion'] = 2\n",
        "test.loc[test.Emotion == 'surprise', 'Emotion'] = 3\n",
        "test.loc[test.Emotion == 'fear', 'Emotion'] = 4\n",
        "test.loc[test.Emotion == 'joy', 'Emotion'] = 5"
      ],
      "execution_count": 8,
      "outputs": []
    },
    {
      "cell_type": "code",
      "metadata": {
        "id": "wipAE5Xpl0Gs"
      },
      "source": [
        "train.Emotion = train.Emotion.astype('int64')\n",
        "test.Emotion = test.Emotion.astype('int64')"
      ],
      "execution_count": 9,
      "outputs": []
    },
    {
      "cell_type": "code",
      "metadata": {
        "id": "L81JP7Z3eEiS"
      },
      "source": [
        "#converting pandas df into a 'TensorSliceDataset' type so we can use tensor flow objects...\n",
        "\n",
        "train = (\n",
        "    tf.data.Dataset.from_tensor_slices(\n",
        "        (\n",
        "            tf.cast(train['Sentence'].values, tf.string),\n",
        "            tf.cast(train['Emotion'].values, tf.int64)\n",
        "        )\n",
        "    )\n",
        ")\n",
        "\n",
        "test = (\n",
        "    tf.data.Dataset.from_tensor_slices(\n",
        "        (\n",
        "            tf.cast(test['Sentence'].values, tf.string),\n",
        "            tf.cast(test['Emotion'].values, tf.int64)\n",
        "        )\n",
        "    )\n",
        ")"
      ],
      "execution_count": 10,
      "outputs": []
    },
    {
      "cell_type": "code",
      "metadata": {
        "id": "m3HGWmVEYmt-"
      },
      "source": [
        "#Shuffle the train and test data sets\n",
        "BUFFER_SIZE = 10000\n",
        "BATCH_SIZE = 64\n",
        "\n",
        "train = train.shuffle(BUFFER_SIZE).batch(BATCH_SIZE).prefetch(tf.data.AUTOTUNE)\n",
        "test = test.batch(BATCH_SIZE).prefetch(tf.data.AUTOTUNE)"
      ],
      "execution_count": 11,
      "outputs": []
    },
    {
      "cell_type": "code",
      "metadata": {
        "colab": {
          "base_uri": "https://localhost:8080/"
        },
        "id": "o6JwtTdeZWDS",
        "outputId": "cc8e4e70-f6a1-41b7-cc53-853424dc2046"
      },
      "source": [
        "for example, label in train.take(1):\n",
        "  print('texts: ', example.numpy()[:3])\n",
        "  print()\n",
        "  print('labels: ', label.numpy()[:3])"
      ],
      "execution_count": 10,
      "outputs": [
        {
          "output_type": "stream",
          "name": "stdout",
          "text": [
            "texts:  [b'i have a feeling that its something ive missed because it shouldnt be that tedious'\n",
            " b'ive avoided thinking about it because i feel hurt just thinking it'\n",
            " b'ill admit that hes a pretty good designer but i feel like hes totally fake']\n",
            "\n",
            "labels:  [0 0 0]\n"
          ]
        }
      ]
    },
    {
      "cell_type": "markdown",
      "metadata": {
        "id": "PRfm7wffiMQC"
      },
      "source": [
        "# Encode Text\n"
      ]
    },
    {
      "cell_type": "code",
      "metadata": {
        "id": "nvZmS9y4hPcz"
      },
      "source": [
        "VOCAB_SIZE = 1000\n",
        "encoder = tf.keras.layers.experimental.preprocessing.TextVectorization(\n",
        "    max_tokens=VOCAB_SIZE)\n",
        "\n",
        "encoder.adapt(train.map(lambda text, label: text))"
      ],
      "execution_count": 12,
      "outputs": []
    },
    {
      "cell_type": "code",
      "metadata": {
        "colab": {
          "base_uri": "https://localhost:8080/"
        },
        "id": "OSH4eMMviz21",
        "outputId": "c6c5b94c-d220-44f8-ba00-48b8e3c349b3"
      },
      "source": [
        "vocab = np.array(encoder.get_vocabulary())\n",
        "vocab[:20]"
      ],
      "execution_count": 13,
      "outputs": [
        {
          "output_type": "execute_result",
          "data": {
            "text/plain": [
              "array(['', '[UNK]', 'i', 'feel', 'and', 'to', 'the', 'a', 'that',\n",
              "       'feeling', 'of', 'my', 'in', 'it', 'like', 'so', 'for', 'im', 'me',\n",
              "       'but'], dtype='<U13')"
            ]
          },
          "metadata": {},
          "execution_count": 13
        }
      ]
    },
    {
      "cell_type": "markdown",
      "metadata": {
        "id": "t6QUvq5qja-h"
      },
      "source": [
        "# Creating the Model"
      ]
    },
    {
      "cell_type": "code",
      "metadata": {
        "id": "wYJA183di6eH"
      },
      "source": [
        "model = tf.keras.Sequential([\n",
        "    encoder,\n",
        "    tf.keras.layers.Embedding(\n",
        "        input_dim=len(encoder.get_vocabulary()),\n",
        "        output_dim=64,\n",
        "        # Use masking to handle the variable sequence lengths\n",
        "        mask_zero=True),\n",
        "    tf.keras.layers.Bidirectional(tf.keras.layers.LSTM(64)),\n",
        "    tf.keras.layers.Dense(64, activation='relu'),\n",
        "    tf.keras.layers.Dense(6) #this is the output layer, since we have 6 emotions we should have 6 as the output number instead of 1\n",
        "])"
      ],
      "execution_count": 23,
      "outputs": []
    },
    {
      "cell_type": "code",
      "metadata": {
        "id": "sPmJzNJjj7D_"
      },
      "source": [
        "model.compile(loss=tf.keras.losses.SparseCategoricalCrossentropy(from_logits=True),\n",
        "              optimizer=tf.keras.optimizers.Adam(1e-4),\n",
        "              metrics=['accuracy'])"
      ],
      "execution_count": 14,
      "outputs": []
    },
    {
      "cell_type": "markdown",
      "metadata": {
        "id": "qU5fnwTmkbYK"
      },
      "source": [
        "# Train the Model"
      ]
    },
    {
      "cell_type": "code",
      "metadata": {
        "colab": {
          "base_uri": "https://localhost:8080/"
        },
        "id": "zDYj6H1MkC3b",
        "outputId": "9e8045b9-93b2-4ab3-ad9e-5237b2aa3b8f"
      },
      "source": [
        "history = model.fit(train, epochs=10,\n",
        "                    validation_data=test,\n",
        "                    validation_steps=30)"
      ],
      "execution_count": 15,
      "outputs": [
        {
          "output_type": "stream",
          "name": "stdout",
          "text": [
            "Epoch 1/10\n",
            "250/250 [==============================] - 34s 108ms/step - loss: 1.6728 - accuracy: 0.3290 - val_loss: 1.5680 - val_accuracy: 0.3604\n",
            "Epoch 2/10\n",
            "250/250 [==============================] - 25s 100ms/step - loss: 1.5620 - accuracy: 0.3613 - val_loss: 1.5291 - val_accuracy: 0.3802\n",
            "Epoch 3/10\n",
            "250/250 [==============================] - 25s 100ms/step - loss: 1.4791 - accuracy: 0.4098 - val_loss: 1.3450 - val_accuracy: 0.4901\n",
            "Epoch 4/10\n",
            "250/250 [==============================] - 25s 100ms/step - loss: 1.1382 - accuracy: 0.5885 - val_loss: 0.9681 - val_accuracy: 0.6672\n",
            "Epoch 5/10\n",
            "250/250 [==============================] - 25s 100ms/step - loss: 0.8903 - accuracy: 0.6736 - val_loss: 0.8401 - val_accuracy: 0.6953\n",
            "Epoch 6/10\n",
            "250/250 [==============================] - 25s 101ms/step - loss: 0.7868 - accuracy: 0.6931 - val_loss: 0.7745 - val_accuracy: 0.7047\n",
            "Epoch 7/10\n",
            "250/250 [==============================] - 25s 100ms/step - loss: 0.7318 - accuracy: 0.7110 - val_loss: 0.7303 - val_accuracy: 0.7234\n",
            "Epoch 8/10\n",
            "250/250 [==============================] - 25s 101ms/step - loss: 0.6892 - accuracy: 0.7400 - val_loss: 0.7023 - val_accuracy: 0.7443\n",
            "Epoch 9/10\n",
            "250/250 [==============================] - 25s 100ms/step - loss: 0.6504 - accuracy: 0.7601 - val_loss: 0.6731 - val_accuracy: 0.7734\n",
            "Epoch 10/10\n",
            "250/250 [==============================] - 25s 100ms/step - loss: 0.6131 - accuracy: 0.7833 - val_loss: 0.6421 - val_accuracy: 0.7901\n"
          ]
        }
      ]
    },
    {
      "cell_type": "code",
      "metadata": {
        "colab": {
          "base_uri": "https://localhost:8080/"
        },
        "id": "H6RCD1jVkr2T",
        "outputId": "ec01fdb4-2351-4def-9a44-3b185bda4543"
      },
      "source": [
        "test_loss, test_acc = model.evaluate(test)\n",
        "\n",
        "print('Test Loss:', test_loss)\n",
        "print('Test Accuracy:', test_acc)"
      ],
      "execution_count": 16,
      "outputs": [
        {
          "output_type": "stream",
          "name": "stdout",
          "text": [
            "32/32 [==============================] - 1s 25ms/step - loss: 0.6414 - accuracy: 0.7915\n",
            "Test Loss: 0.641374945640564\n",
            "Test Accuracy: 0.7914999723434448\n"
          ]
        }
      ]
    },
    {
      "cell_type": "code",
      "metadata": {
        "id": "oYd1CncyaX8y"
      },
      "source": [
        "lossFunctions = [tf.keras.losses.SparseCategoricalCrossentropy()\n",
        "                , tf.keras.losses.MeanAbsoluteError()\n",
        "                , tf.keras.losses.LogCosh()]\n",
        "\n",
        "for func in lossFunctions:\n",
        "  model.compile(loss=func,\n",
        "              optimizer=tf.keras.optimizers.Adam(1e-4),\n",
        "              metrics=['accuracy'])\n",
        "  history = model.fit(train, epochs=10,\n",
        "                    validation_data=test,\n",
        "                    validation_steps=30)\n",
        "  test_loss, test_acc = model.evaluate(test)\n",
        "\n",
        "  print('Test Loss:', test_loss)\n",
        "  print('Test Accuracy:', test_acc)"
      ],
      "execution_count": null,
      "outputs": []
    },
    {
      "cell_type": "code",
      "metadata": {
        "colab": {
          "base_uri": "https://localhost:8080/",
          "height": 518
        },
        "id": "uDmh5uEzoO5x",
        "outputId": "13b3c8c8-cd9e-414c-c2e8-d97eab6eedea"
      },
      "source": [
        "def plot_graphs(history, metric):\n",
        "  plt.plot(history.history[metric])\n",
        "  plt.plot(history.history['val_'+metric], '')\n",
        "  plt.xlabel(\"Epochs\")\n",
        "  plt.ylabel(metric)\n",
        "  plt.legend([metric, 'val_'+metric])\n",
        "\n",
        "\n",
        "plt.figure(figsize=(16, 8))\n",
        "plt.subplot(1, 2, 1)\n",
        "plot_graphs(history, 'accuracy')\n",
        "plt.ylim(None, 1)\n",
        "plt.subplot(1, 2, 2)\n",
        "plot_graphs(history, 'loss')\n",
        "plt.ylim(0, None)\n"
      ],
      "execution_count": 17,
      "outputs": [
        {
          "output_type": "execute_result",
          "data": {
            "text/plain": [
              "(0.0, 1.7257527738809586)"
            ]
          },
          "metadata": {},
          "execution_count": 17
        },
        {
          "output_type": "display_data",
          "data": {
            "image/png": "[encoded data removed]",
            "text/plain": [
              "<Figure size 1152x576 with 2 Axes>"
            ]
          },
          "metadata": {
            "needs_background": "light"
          }
        }
      ]
    },
    {
      "cell_type": "code",
      "metadata": {
        "id": "aMBq9tEYojdB"
      },
      "source": [
        ""
      ],
      "execution_count": null,
      "outputs": []
    },
    {
      "cell_type": "markdown",
      "metadata": {
        "id": "KEwYyh3ppacD"
      },
      "source": [
        "# 😅\n",
        "# improve this model...please\n",
        "\n",
        "\n"
      ]
    },
    {
      "cell_type": "code",
      "metadata": {
        "id": "xZHM1baVpjYC"
      },
      "source": [
        "# Arrido was here"
      ],
      "execution_count": null,
      "outputs": []
    },
    {
      "cell_type": "code",
      "metadata": {
        "colab": {
          "base_uri": "https://localhost:8080/"
        },
        "id": "SUwB_7wpivLL",
        "outputId": "e2207e46-dd97-4d85-90c7-681a5db74fa7"
      },
      "source": [
        "optimizers = [tf.keras.optimizers.Adamax()\n",
        "            , tf.keras.optimizers.Adadelta()\n",
        "            , tf.keras.optimizers.Adagrad()\n",
        "            , tf.keras.optimizers.SGD()\n",
        "            , tf.keras.optimizers.Adam()]\n",
        "\n",
        "for opt in optimizers:\n",
        "  model = tf.keras.Sequential([\n",
        "    encoder,\n",
        "    tf.keras.layers.Embedding(\n",
        "        input_dim=len(encoder.get_vocabulary()),\n",
        "        output_dim=64,\n",
        "        # Use masking to handle the variable sequence lengths\n",
        "        mask_zero=True),\n",
        "    tf.keras.layers.Bidirectional(tf.keras.layers.LSTM(64)),\n",
        "    tf.keras.layers.Dense(64, activation='relu'),\n",
        "    tf.keras.layers.Dense(6) #this is the output layer, since we have 6 emotions we should have 6 as the output number instead of 1\n",
        "  ])\n",
        "  model.compile(loss = tf.keras.losses.SparseCategoricalCrossentropy(from_logits = True),\n",
        "              optimizer=opt,\n",
        "              metrics=['accuracy'])\n",
        "  history = model.fit(train, epochs=10,\n",
        "                    validation_data=test,\n",
        "                    validation_steps=30)\n",
        "  test_loss, test_acc = model.evaluate(test)\n",
        "\n",
        "  print('Test Loss:', test_loss)\n",
        "  print('Test Accuracy:', test_acc)"
      ],
      "execution_count": 14,
      "outputs": [
        {
          "output_type": "stream",
          "name": "stdout",
          "text": [
            "Epoch 1/10\n",
            "250/250 [==============================] - 35s 110ms/step - loss: 1.5840 - accuracy: 0.3558 - val_loss: 1.4997 - val_accuracy: 0.4141\n",
            "Epoch 2/10\n",
            "250/250 [==============================] - 25s 100ms/step - loss: 1.3417 - accuracy: 0.4902 - val_loss: 1.1394 - val_accuracy: 0.5615\n",
            "Epoch 3/10\n",
            "250/250 [==============================] - 25s 100ms/step - loss: 0.9754 - accuracy: 0.6406 - val_loss: 0.8374 - val_accuracy: 0.7073\n",
            "Epoch 4/10\n",
            "250/250 [==============================] - 25s 101ms/step - loss: 0.7745 - accuracy: 0.7065 - val_loss: 0.7232 - val_accuracy: 0.7453\n",
            "Epoch 5/10\n",
            "250/250 [==============================] - 25s 101ms/step - loss: 0.6817 - accuracy: 0.7493 - val_loss: 0.6635 - val_accuracy: 0.7792\n",
            "Epoch 6/10\n",
            "250/250 [==============================] - 25s 101ms/step - loss: 0.6174 - accuracy: 0.7779 - val_loss: 0.6152 - val_accuracy: 0.7901\n",
            "Epoch 7/10\n",
            "250/250 [==============================] - 25s 100ms/step - loss: 0.5607 - accuracy: 0.8048 - val_loss: 0.5820 - val_accuracy: 0.8099\n",
            "Epoch 8/10\n",
            "250/250 [==============================] - 25s 100ms/step - loss: 0.5108 - accuracy: 0.8248 - val_loss: 0.5551 - val_accuracy: 0.8188\n",
            "Epoch 9/10\n",
            "250/250 [==============================] - 25s 101ms/step - loss: 0.4678 - accuracy: 0.8433 - val_loss: 0.5049 - val_accuracy: 0.8307\n",
            "Epoch 10/10\n",
            "250/250 [==============================] - 25s 101ms/step - loss: 0.4332 - accuracy: 0.8561 - val_loss: 0.5149 - val_accuracy: 0.8453\n",
            "32/32 [==============================] - 1s 25ms/step - loss: 0.5199 - accuracy: 0.8435\n",
            "Test Loss: 0.5199393630027771\n",
            "Test Accuracy: 0.843500018119812\n",
            "Epoch 1/10\n",
            "250/250 [==============================] - 34s 109ms/step - loss: 1.7906 - accuracy: 0.2480 - val_loss: 1.7898 - val_accuracy: 0.2609\n",
            "Epoch 2/10\n",
            "250/250 [==============================] - 25s 100ms/step - loss: 1.7890 - accuracy: 0.2822 - val_loss: 1.7881 - val_accuracy: 0.2854\n",
            "Epoch 3/10\n",
            "250/250 [==============================] - 25s 101ms/step - loss: 1.7873 - accuracy: 0.2930 - val_loss: 1.7862 - val_accuracy: 0.2911\n",
            "Epoch 4/10\n",
            "250/250 [==============================] - 25s 101ms/step - loss: 1.7854 - accuracy: 0.2968 - val_loss: 1.7842 - val_accuracy: 0.2917\n",
            "Epoch 5/10\n",
            "250/250 [==============================] - 25s 101ms/step - loss: 1.7834 - accuracy: 0.2979 - val_loss: 1.7821 - val_accuracy: 0.2927\n",
            "Epoch 6/10\n",
            "250/250 [==============================] - 25s 101ms/step - loss: 1.7813 - accuracy: 0.2975 - val_loss: 1.7799 - val_accuracy: 0.2922\n",
            "Epoch 7/10\n",
            "250/250 [==============================] - 25s 101ms/step - loss: 1.7792 - accuracy: 0.2980 - val_loss: 1.7777 - val_accuracy: 0.2917\n",
            "Epoch 8/10\n",
            "250/250 [==============================] - 26s 103ms/step - loss: 1.7771 - accuracy: 0.2982 - val_loss: 1.7755 - val_accuracy: 0.2901\n",
            "Epoch 9/10\n",
            "250/250 [==============================] - 25s 100ms/step - loss: 1.7749 - accuracy: 0.2982 - val_loss: 1.7732 - val_accuracy: 0.2896\n",
            "Epoch 10/10\n",
            "250/250 [==============================] - 25s 101ms/step - loss: 1.7727 - accuracy: 0.2987 - val_loss: 1.7708 - val_accuracy: 0.2880\n",
            "32/32 [==============================] - 1s 26ms/step - loss: 1.7708 - accuracy: 0.2880\n",
            "Test Loss: 1.7708324193954468\n",
            "Test Accuracy: 0.2879999876022339\n",
            "Epoch 1/10\n",
            "250/250 [==============================] - 36s 113ms/step - loss: 1.7602 - accuracy: 0.3264 - val_loss: 1.7319 - val_accuracy: 0.3484\n",
            "Epoch 2/10\n",
            "250/250 [==============================] - 25s 102ms/step - loss: 1.7175 - accuracy: 0.3351 - val_loss: 1.6946 - val_accuracy: 0.3484\n",
            "Epoch 3/10\n",
            "250/250 [==============================] - 26s 104ms/step - loss: 1.6860 - accuracy: 0.3351 - val_loss: 1.6638 - val_accuracy: 0.3484\n",
            "Epoch 4/10\n",
            "250/250 [==============================] - 26s 102ms/step - loss: 1.6594 - accuracy: 0.3351 - val_loss: 1.6376 - val_accuracy: 0.3484\n",
            "Epoch 5/10\n",
            "250/250 [==============================] - 25s 102ms/step - loss: 1.6373 - accuracy: 0.3351 - val_loss: 1.6161 - val_accuracy: 0.3484\n",
            "Epoch 6/10\n",
            "250/250 [==============================] - 27s 106ms/step - loss: 1.6199 - accuracy: 0.3351 - val_loss: 1.5997 - val_accuracy: 0.3484\n",
            "Epoch 7/10\n",
            "250/250 [==============================] - 27s 108ms/step - loss: 1.6073 - accuracy: 0.3351 - val_loss: 1.5882 - val_accuracy: 0.3484\n",
            "Epoch 8/10\n",
            "250/250 [==============================] - 27s 108ms/step - loss: 1.5988 - accuracy: 0.3351 - val_loss: 1.5805 - val_accuracy: 0.3484\n",
            "Epoch 9/10\n",
            "250/250 [==============================] - 26s 106ms/step - loss: 1.5932 - accuracy: 0.3351 - val_loss: 1.5756 - val_accuracy: 0.3484\n",
            "Epoch 10/10\n",
            "250/250 [==============================] - 27s 110ms/step - loss: 1.5896 - accuracy: 0.3351 - val_loss: 1.5723 - val_accuracy: 0.3484\n",
            "32/32 [==============================] - 1s 29ms/step - loss: 1.5715 - accuracy: 0.3475\n",
            "Test Loss: 1.571513056755066\n",
            "Test Accuracy: 0.3474999964237213\n",
            "Epoch 1/10\n",
            "250/250 [==============================] - 38s 121ms/step - loss: 1.6649 - accuracy: 0.3306 - val_loss: 1.5890 - val_accuracy: 0.3484\n",
            "Epoch 2/10\n",
            "250/250 [==============================] - 26s 104ms/step - loss: 1.5876 - accuracy: 0.3351 - val_loss: 1.5666 - val_accuracy: 0.3484\n",
            "Epoch 3/10\n",
            "250/250 [==============================] - 26s 104ms/step - loss: 1.5788 - accuracy: 0.3351 - val_loss: 1.5619 - val_accuracy: 0.3484\n",
            "Epoch 4/10\n",
            "250/250 [==============================] - 26s 105ms/step - loss: 1.5766 - accuracy: 0.3351 - val_loss: 1.5608 - val_accuracy: 0.3484\n",
            "Epoch 5/10\n",
            "250/250 [==============================] - 26s 103ms/step - loss: 1.5758 - accuracy: 0.3351 - val_loss: 1.5601 - val_accuracy: 0.3484\n",
            "Epoch 6/10\n",
            "250/250 [==============================] - 26s 104ms/step - loss: 1.5753 - accuracy: 0.3352 - val_loss: 1.5596 - val_accuracy: 0.3484\n",
            "Epoch 7/10\n",
            "250/250 [==============================] - 26s 105ms/step - loss: 1.5750 - accuracy: 0.3351 - val_loss: 1.5596 - val_accuracy: 0.3484\n",
            "Epoch 8/10\n",
            "250/250 [==============================] - 26s 104ms/step - loss: 1.5746 - accuracy: 0.3357 - val_loss: 1.5590 - val_accuracy: 0.3484\n",
            "Epoch 9/10\n",
            "250/250 [==============================] - 26s 104ms/step - loss: 1.5744 - accuracy: 0.3360 - val_loss: 1.5588 - val_accuracy: 0.3484\n",
            "Epoch 10/10\n",
            "250/250 [==============================] - 27s 106ms/step - loss: 1.5742 - accuracy: 0.3361 - val_loss: 1.5586 - val_accuracy: 0.3490\n",
            "32/32 [==============================] - 1s 26ms/step - loss: 1.5579 - accuracy: 0.3480\n",
            "Test Loss: 1.5579094886779785\n",
            "Test Accuracy: 0.3479999899864197\n",
            "Epoch 1/10\n",
            "250/250 [==============================] - 36s 115ms/step - loss: 1.2922 - accuracy: 0.4812 - val_loss: 0.7622 - val_accuracy: 0.7255\n",
            "Epoch 2/10\n",
            "250/250 [==============================] - 27s 110ms/step - loss: 0.5502 - accuracy: 0.8128 - val_loss: 0.4312 - val_accuracy: 0.8474\n",
            "Epoch 3/10\n",
            "250/250 [==============================] - 28s 112ms/step - loss: 0.3768 - accuracy: 0.8681 - val_loss: 0.3699 - val_accuracy: 0.8667\n",
            "Epoch 4/10\n",
            "250/250 [==============================] - 27s 109ms/step - loss: 0.3170 - accuracy: 0.8859 - val_loss: 0.3814 - val_accuracy: 0.8469\n",
            "Epoch 5/10\n",
            "250/250 [==============================] - 26s 104ms/step - loss: 0.2846 - accuracy: 0.8928 - val_loss: 0.3557 - val_accuracy: 0.8620\n",
            "Epoch 6/10\n",
            "250/250 [==============================] - 26s 103ms/step - loss: 0.2562 - accuracy: 0.9038 - val_loss: 0.3425 - val_accuracy: 0.8656\n",
            "Epoch 7/10\n",
            "250/250 [==============================] - 26s 103ms/step - loss: 0.2423 - accuracy: 0.9068 - val_loss: 0.3621 - val_accuracy: 0.8578\n",
            "Epoch 8/10\n",
            "250/250 [==============================] - 26s 103ms/step - loss: 0.2240 - accuracy: 0.9132 - val_loss: 0.3638 - val_accuracy: 0.8599\n",
            "Epoch 9/10\n",
            "250/250 [==============================] - 26s 105ms/step - loss: 0.2080 - accuracy: 0.9200 - val_loss: 0.3577 - val_accuracy: 0.8609\n",
            "Epoch 10/10\n",
            "250/250 [==============================] - 26s 106ms/step - loss: 0.1893 - accuracy: 0.9274 - val_loss: 0.3963 - val_accuracy: 0.8542\n",
            "32/32 [==============================] - 1s 27ms/step - loss: 0.3936 - accuracy: 0.8545\n",
            "Test Loss: 0.39359772205352783\n",
            "Test Accuracy: 0.8544999957084656\n"
          ]
        }
      ]
    },
    {
      "cell_type": "code",
      "metadata": {
        "id": "97OAArAHmLhu"
      },
      "source": [
        "#TODO: learning rate for Adam, play around with layers, # of epoch\n",
        "#, # of validation steps, optimizing the process (building a pipeline)"
      ],
      "execution_count": null,
      "outputs": []
    }
  ]
}