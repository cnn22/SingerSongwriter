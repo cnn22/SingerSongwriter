{
  "nbformat": 4,
  "nbformat_minor": 0,
  "metadata": {
    "colab": {
      "name": "RNN Emotions Classification.ipynb",
      "provenance": [],
      "collapsed_sections": [
        "dpRugM01aXqf",
        "XmJdmKMwabsA",
        "PRfm7wffiMQC",
        "yVH4lz7ta8U4",
        "WSjCKp0greXr"
      ],
      "include_colab_link": true
    },
    "kernelspec": {
      "name": "python3",
      "display_name": "Python 3"
    },
    "language_info": {
      "name": "python"
    }
  },
  "cells": [
    {
      "cell_type": "markdown",
      "metadata": {
        "id": "view-in-github",
        "colab_type": "text"
      },
      "source": [
        "<a href=\"https://colab.research.google.com/github/cnn22/SingerSongwriter/blob/main/RNN_Emotions_Classification.ipynb\" target=\"_parent\"><img src=\"https://colab.research.google.com/assets/colab-badge.svg\" alt=\"Open In Colab\"/></a>"
      ]
    },
    {
      "cell_type": "markdown",
      "metadata": {
        "id": "dpRugM01aXqf"
      },
      "source": [
        "# Import Libraries"
      ]
    },
    {
      "cell_type": "code",
      "metadata": {
        "id": "EsusBDPtVkrC"
      },
      "source": [
        "import pandas as pd\n",
        "import numpy as np\n",
        "import tensorflow as tf\n",
        "import matplotlib.pyplot as plt\n",
        "from keras_lr_finder import LRFinder"
      ],
      "execution_count": 50,
      "outputs": []
    },
    {
      "cell_type": "code",
      "metadata": {
        "colab": {
          "base_uri": "https://localhost:8080/"
        },
        "id": "feYKm1zTihIO",
        "outputId": "006be901-9df1-4b7f-a987-f7a4a64165b3"
      },
      "source": [
        "%cd .\n",
        "! git clone https://github.com/surmenok/keras_lr_finder\n",
        "%cd keras_lr_finder\n",
        "! python3 -m pip install --editable .\n",
        "%cd ."
      ],
      "execution_count": 48,
      "outputs": [
        {
          "output_type": "stream",
          "name": "stdout",
          "text": [
            "/content/lrfinder/lrfinder\n",
            "fatal: destination path 'keras_lr_finder' already exists and is not an empty directory.\n",
            "/content/lrfinder/lrfinder/keras_lr_finder\n",
            "Obtaining file:///content/lrfinder/lrfinder/keras_lr_finder\n",
            "Requirement already satisfied: keras>=2.0.0 in /usr/local/lib/python3.7/dist-packages (from keras-lr-finder==0.1) (2.6.0)\n",
            "Requirement already satisfied: matplotlib in /usr/local/lib/python3.7/dist-packages (from keras-lr-finder==0.1) (3.2.2)\n",
            "Requirement already satisfied: python-dateutil>=2.1 in /usr/local/lib/python3.7/dist-packages (from matplotlib->keras-lr-finder==0.1) (2.8.2)\n",
            "Requirement already satisfied: kiwisolver>=1.0.1 in /usr/local/lib/python3.7/dist-packages (from matplotlib->keras-lr-finder==0.1) (1.3.1)\n",
            "Requirement already satisfied: cycler>=0.10 in /usr/local/lib/python3.7/dist-packages (from matplotlib->keras-lr-finder==0.1) (0.10.0)\n",
            "Requirement already satisfied: numpy>=1.11 in /usr/local/lib/python3.7/dist-packages (from matplotlib->keras-lr-finder==0.1) (1.19.5)\n",
            "Requirement already satisfied: pyparsing!=2.0.4,!=2.1.2,!=2.1.6,>=2.0.1 in /usr/local/lib/python3.7/dist-packages (from matplotlib->keras-lr-finder==0.1) (2.4.7)\n",
            "Requirement already satisfied: six in /usr/local/lib/python3.7/dist-packages (from cycler>=0.10->matplotlib->keras-lr-finder==0.1) (1.15.0)\n",
            "Installing collected packages: keras-lr-finder\n",
            "  Running setup.py develop for keras-lr-finder\n",
            "Successfully installed keras-lr-finder-0.1\n"
          ]
        }
      ]
    },
    {
      "cell_type": "markdown",
      "metadata": {
        "id": "XmJdmKMwabsA"
      },
      "source": [
        "# Reading and Cleaning data"
      ]
    },
    {
      "cell_type": "code",
      "metadata": {
        "id": "LA5ASQS-Vob_"
      },
      "source": [
        "#Read in data\n",
        "train_df = pd.read_csv('train.txt', ';', header=None, names=['Sentence', 'Emotion'], index_col=False)\n",
        "test_df = pd.read_csv('test.txt', ';', header=None, names=['Sentence', 'Emotion'], index_col=False)"
      ],
      "execution_count": 64,
      "outputs": []
    },
    {
      "cell_type": "code",
      "metadata": {
        "colab": {
          "base_uri": "https://localhost:8080/"
        },
        "id": "EM54PFahlA4q",
        "outputId": "2c2e5599-159e-47ec-a3e2-44530ca74b1e"
      },
      "source": [
        "test_df.Emotion.unique()"
      ],
      "execution_count": 65,
      "outputs": [
        {
          "output_type": "execute_result",
          "data": {
            "text/plain": [
              "array(['sadness', 'joy', 'fear', 'anger', 'love', 'surprise'],\n",
              "      dtype=object)"
            ]
          },
          "metadata": {},
          "execution_count": 65
        }
      ]
    },
    {
      "cell_type": "markdown",
      "metadata": {
        "id": "Fe7KjvEOagbI"
      },
      "source": [
        "## Turn into number target labels"
      ]
    },
    {
      "cell_type": "code",
      "metadata": {
        "id": "E9btJ1Czk-Nj"
      },
      "source": [
        "train_df.loc[train_df.Emotion == 'sadness', 'Emotion'] = 0\n",
        "train_df.loc[train_df.Emotion == 'anger', 'Emotion'] = 1\n",
        "train_df.loc[train_df.Emotion == 'love', 'Emotion'] = 2\n",
        "train_df.loc[train_df.Emotion == 'surprise', 'Emotion'] = 3\n",
        "train_df.loc[train_df.Emotion == 'fear', 'Emotion'] = 4\n",
        "train_df.loc[train_df.Emotion == 'joy', 'Emotion'] = 5"
      ],
      "execution_count": 67,
      "outputs": []
    },
    {
      "cell_type": "code",
      "metadata": {
        "id": "5Wl6LMjRlMpw"
      },
      "source": [
        "test_df.loc[test_df.Emotion == 'sadness', 'Emotion'] = 0\n",
        "test_df.loc[test_df.Emotion == 'anger', 'Emotion'] = 1\n",
        "test_df.loc[test_df.Emotion == 'love', 'Emotion'] = 2\n",
        "test_df.loc[test_df.Emotion == 'surprise', 'Emotion'] = 3\n",
        "test_df.loc[test_df.Emotion == 'fear', 'Emotion'] = 4\n",
        "test_df.loc[test_df.Emotion == 'joy', 'Emotion'] = 5"
      ],
      "execution_count": 69,
      "outputs": []
    },
    {
      "cell_type": "markdown",
      "metadata": {
        "id": "j6gc3jUaaki0"
      },
      "source": [
        "## Process Data for TensorFlow"
      ]
    },
    {
      "cell_type": "code",
      "metadata": {
        "id": "wipAE5Xpl0Gs"
      },
      "source": [
        "train_df.Emotion = train_df.Emotion.astype('int64')\n",
        "test_df.Emotion = test_df.Emotion.astype('int64')"
      ],
      "execution_count": 70,
      "outputs": []
    },
    {
      "cell_type": "code",
      "metadata": {
        "id": "L81JP7Z3eEiS"
      },
      "source": [
        "#converting pandas df into a 'TensorSliceDataset' type so we can use tensor flow objects...\n",
        "\n",
        "train = (\n",
        "    tf.data.Dataset.from_tensor_slices(\n",
        "        (\n",
        "            tf.cast(train_df['Sentence'].values, tf.string),\n",
        "            tf.cast(train_df['Emotion'].values, tf.int64)\n",
        "        )\n",
        "    )\n",
        ")\n",
        "\n",
        "test = (\n",
        "    tf.data.Dataset.from_tensor_slices(\n",
        "        (\n",
        "            tf.cast(test_df['Sentence'].values, tf.string),\n",
        "            tf.cast(test_df['Emotion'].values, tf.int64)\n",
        "        )\n",
        "    )\n",
        ")"
      ],
      "execution_count": 71,
      "outputs": []
    },
    {
      "cell_type": "markdown",
      "metadata": {
        "id": "0n-ET9KHapaa"
      },
      "source": [
        "## Split Data into Test and Train"
      ]
    },
    {
      "cell_type": "code",
      "metadata": {
        "id": "m3HGWmVEYmt-"
      },
      "source": [
        "#Shuffle the train and test data sets\n",
        "BUFFER_SIZE = 10000\n",
        "BATCH_SIZE = 64\n",
        "\n",
        "train = train.shuffle(BUFFER_SIZE).batch(BATCH_SIZE).prefetch(tf.data.AUTOTUNE)\n",
        "test = test.batch(BATCH_SIZE).prefetch(tf.data.AUTOTUNE)"
      ],
      "execution_count": 72,
      "outputs": []
    },
    {
      "cell_type": "code",
      "metadata": {
        "colab": {
          "base_uri": "https://localhost:8080/"
        },
        "id": "o6JwtTdeZWDS",
        "outputId": "48ecdaef-7a8d-4922-9ed4-bef2fff05d87"
      },
      "source": [
        "for example, label in train.take(1):\n",
        "  print('texts: ', example.numpy()[:3])\n",
        "  print()\n",
        "  print('labels: ', label.numpy()[:3])"
      ],
      "execution_count": 73,
      "outputs": [
        {
          "output_type": "stream",
          "name": "stdout",
          "text": [
            "texts:  [b'i got to chat with rustie dean from my hometown moose jaw and everyone made me feel so welcomed and comfortable'\n",
            " b'i feel sarcastic more often than not'\n",
            " b'i feel today is any indication of the next week its doubtful that there will be much energy left for more than a low key new years eve party']\n",
            "\n",
            "labels:  [5 1 4]\n"
          ]
        }
      ]
    },
    {
      "cell_type": "markdown",
      "metadata": {
        "id": "PRfm7wffiMQC"
      },
      "source": [
        "# Encode Text\n"
      ]
    },
    {
      "cell_type": "code",
      "metadata": {
        "id": "nvZmS9y4hPcz"
      },
      "source": [
        "VOCAB_SIZE = 1000\n",
        "encoder = tf.keras.layers.experimental.preprocessing.TextVectorization(\n",
        "    max_tokens=VOCAB_SIZE)\n",
        "\n",
        "encoder.adapt(train.map(lambda text, label: text))"
      ],
      "execution_count": 74,
      "outputs": []
    },
    {
      "cell_type": "code",
      "metadata": {
        "colab": {
          "base_uri": "https://localhost:8080/"
        },
        "id": "OSH4eMMviz21",
        "outputId": "91942bbc-cae7-487a-e583-66337f46bca4"
      },
      "source": [
        "vocab = np.array(encoder.get_vocabulary())\n",
        "vocab[:20]"
      ],
      "execution_count": 75,
      "outputs": [
        {
          "output_type": "execute_result",
          "data": {
            "text/plain": [
              "array(['', '[UNK]', 'i', 'feel', 'and', 'to', 'the', 'a', 'that',\n",
              "       'feeling', 'of', 'my', 'in', 'it', 'like', 'so', 'for', 'im', 'me',\n",
              "       'but'], dtype='<U13')"
            ]
          },
          "metadata": {},
          "execution_count": 75
        }
      ]
    },
    {
      "cell_type": "markdown",
      "metadata": {
        "id": "t6QUvq5qja-h"
      },
      "source": [
        "# Creating the Model"
      ]
    },
    {
      "cell_type": "markdown",
      "metadata": {
        "id": "yVH4lz7ta8U4"
      },
      "source": [
        "## First iteration"
      ]
    },
    {
      "cell_type": "code",
      "metadata": {
        "id": "wYJA183di6eH"
      },
      "source": [
        "model = tf.keras.Sequential([\n",
        "    encoder,\n",
        "    tf.keras.layers.Embedding(\n",
        "        input_dim=len(encoder.get_vocabulary()),\n",
        "        output_dim=64,\n",
        "        # Use masking to handle the variable sequence lengths\n",
        "        mask_zero=True),\n",
        "    tf.keras.layers.Bidirectional(tf.keras.layers.LSTM(64)),\n",
        "    tf.keras.layers.Dense(64, activation='relu'),\n",
        "    tf.keras.layers.Dense(6) #this is the output layer, since we have 6 emotions we should have 6 as the output number instead of 1\n",
        "])"
      ],
      "execution_count": null,
      "outputs": []
    },
    {
      "cell_type": "code",
      "metadata": {
        "id": "sPmJzNJjj7D_"
      },
      "source": [
        "model.compile(loss=tf.keras.losses.SparseCategoricalCrossentropy(from_logits=True),\n",
        "              optimizer=tf.keras.optimizers.Adam(1e-4),\n",
        "              metrics=['accuracy'])"
      ],
      "execution_count": null,
      "outputs": []
    },
    {
      "cell_type": "markdown",
      "metadata": {
        "id": "qU5fnwTmkbYK"
      },
      "source": [
        "### Train the Model"
      ]
    },
    {
      "cell_type": "code",
      "metadata": {
        "colab": {
          "base_uri": "https://localhost:8080/"
        },
        "id": "zDYj6H1MkC3b",
        "outputId": "9e8045b9-93b2-4ab3-ad9e-5237b2aa3b8f"
      },
      "source": [
        "history = model.fit(train, epochs=10,\n",
        "                    validation_data=test,\n",
        "                    validation_steps=30)"
      ],
      "execution_count": null,
      "outputs": [
        {
          "output_type": "stream",
          "name": "stdout",
          "text": [
            "Epoch 1/10\n",
            "250/250 [==============================] - 34s 108ms/step - loss: 1.6728 - accuracy: 0.3290 - val_loss: 1.5680 - val_accuracy: 0.3604\n",
            "Epoch 2/10\n",
            "250/250 [==============================] - 25s 100ms/step - loss: 1.5620 - accuracy: 0.3613 - val_loss: 1.5291 - val_accuracy: 0.3802\n",
            "Epoch 3/10\n",
            "250/250 [==============================] - 25s 100ms/step - loss: 1.4791 - accuracy: 0.4098 - val_loss: 1.3450 - val_accuracy: 0.4901\n",
            "Epoch 4/10\n",
            "250/250 [==============================] - 25s 100ms/step - loss: 1.1382 - accuracy: 0.5885 - val_loss: 0.9681 - val_accuracy: 0.6672\n",
            "Epoch 5/10\n",
            "250/250 [==============================] - 25s 100ms/step - loss: 0.8903 - accuracy: 0.6736 - val_loss: 0.8401 - val_accuracy: 0.6953\n",
            "Epoch 6/10\n",
            "250/250 [==============================] - 25s 101ms/step - loss: 0.7868 - accuracy: 0.6931 - val_loss: 0.7745 - val_accuracy: 0.7047\n",
            "Epoch 7/10\n",
            "250/250 [==============================] - 25s 100ms/step - loss: 0.7318 - accuracy: 0.7110 - val_loss: 0.7303 - val_accuracy: 0.7234\n",
            "Epoch 8/10\n",
            "250/250 [==============================] - 25s 101ms/step - loss: 0.6892 - accuracy: 0.7400 - val_loss: 0.7023 - val_accuracy: 0.7443\n",
            "Epoch 9/10\n",
            "250/250 [==============================] - 25s 100ms/step - loss: 0.6504 - accuracy: 0.7601 - val_loss: 0.6731 - val_accuracy: 0.7734\n",
            "Epoch 10/10\n",
            "250/250 [==============================] - 25s 100ms/step - loss: 0.6131 - accuracy: 0.7833 - val_loss: 0.6421 - val_accuracy: 0.7901\n"
          ]
        }
      ]
    },
    {
      "cell_type": "code",
      "metadata": {
        "colab": {
          "base_uri": "https://localhost:8080/"
        },
        "id": "H6RCD1jVkr2T",
        "outputId": "ec01fdb4-2351-4def-9a44-3b185bda4543"
      },
      "source": [
        "test_loss, test_acc = model.evaluate(test)\n",
        "\n",
        "print('Test Loss:', test_loss)\n",
        "print('Test Accuracy:', test_acc)"
      ],
      "execution_count": null,
      "outputs": [
        {
          "output_type": "stream",
          "name": "stdout",
          "text": [
            "32/32 [==============================] - 1s 25ms/step - loss: 0.6414 - accuracy: 0.7915\n",
            "Test Loss: 0.641374945640564\n",
            "Test Accuracy: 0.7914999723434448\n"
          ]
        }
      ]
    },
    {
      "cell_type": "code",
      "metadata": {
        "colab": {
          "base_uri": "https://localhost:8080/",
          "height": 518
        },
        "id": "uDmh5uEzoO5x",
        "outputId": "13b3c8c8-cd9e-414c-c2e8-d97eab6eedea"
      },
      "source": [
        "def plot_graphs(history, metric):\n",
        "  plt.plot(history.history[metric])\n",
        "  plt.plot(history.history['val_'+metric], '')\n",
        "  plt.xlabel(\"Epochs\")\n",
        "  plt.ylabel(metric)\n",
        "  plt.legend([metric, 'val_'+metric])\n",
        "\n",
        "\n",
        "plt.figure(figsize=(16, 8))\n",
        "plt.subplot(1, 2, 1)\n",
        "plot_graphs(history, 'accuracy')\n",
        "plt.ylim(None, 1)\n",
        "plt.subplot(1, 2, 2)\n",
        "plot_graphs(history, 'loss')\n",
        "plt.ylim(0, None)\n"
      ],
      "execution_count": null,
      "outputs": [
        {
          "output_type": "execute_result",
          "data": {
            "text/plain": [
              "(0.0, 1.7257527738809586)"
            ]
          },
          "metadata": {},
          "execution_count": 17
        },
        {
          "output_type": "display_data",
          "data": {
            "image/png": "[encoded data removed]",
            "text/plain": [
              "<Figure size 1152x576 with 2 Axes>"
            ]
          },
          "metadata": {
            "needs_background": "light"
          }
        }
      ]
    },
    {
      "cell_type": "markdown",
      "metadata": {
        "id": "KEwYyh3ppacD"
      },
      "source": [
        "## Further experimentation"
      ]
    },
    {
      "cell_type": "markdown",
      "metadata": {
        "id": "WSjCKp0greXr"
      },
      "source": [
        "### Find Best Learning Rate"
      ]
    },
    {
      "cell_type": "code",
      "metadata": {
        "colab": {
          "base_uri": "https://localhost:8080/"
        },
        "id": "Bgs5By3lixvr",
        "outputId": "132e1b00-88e0-4488-8155-01fe871e64d8"
      },
      "source": [
        "model = tf.keras.Sequential([\n",
        "    encoder,\n",
        "    tf.keras.layers.Embedding(\n",
        "        input_dim=len(encoder.get_vocabulary()),\n",
        "        output_dim=64,\n",
        "        # Use masking to handle the variable sequence lengths\n",
        "        mask_zero=True),\n",
        "    tf.keras.layers.Bidirectional(tf.keras.layers.LSTM(64)),\n",
        "      tf.keras.layers.Dense(64, activation='relu'),\n",
        "      tf.keras.layers.Dense(6) #this is the output layer, since we have 6 emotions we should have 6 as the output number instead of 1\n",
        "    ])\n",
        "\n",
        "model.compile(loss = tf.keras.losses.SparseCategoricalCrossentropy(from_logits = True),\n",
        "               optimizer=tf.keras.optimizers.Adam(),\n",
        "               metrics=['accuracy'])\n",
        "\n",
        "lr_finder = LRFinder(model)\n",
        "lr_finder.find(train_df[\"Sentence\"],train_df[\"Emotion\"], start_lr=1e-6, end_lr=1, epochs=10,\n",
        "               steps_per_epoch=np.ceil(len(train_df) / BATCH_SIZE))"
      ],
      "execution_count": 77,
      "outputs": [
        {
          "output_type": "stream",
          "name": "stdout",
          "text": [
            "Epoch 1/10\n",
            "250/250 [==============================] - 25s 102ms/step - loss: 1.7906 - accuracy: 0.1998\n",
            "Epoch 2/10\n",
            "250/250 [==============================] - 26s 103ms/step - loss: 1.7833 - accuracy: 0.3196\n",
            "Epoch 3/10\n",
            "250/250 [==============================] - 26s 102ms/step - loss: 1.6914 - accuracy: 0.3348\n",
            "Epoch 4/10\n",
            "250/250 [==============================] - 25s 102ms/step - loss: 1.5550 - accuracy: 0.3441\n",
            "Epoch 5/10\n",
            "250/250 [==============================] - 26s 103ms/step - loss: 1.0504 - accuracy: 0.5817\n",
            "Epoch 6/10\n",
            "250/250 [==============================] - 26s 103ms/step - loss: 0.5630 - accuracy: 0.8042\n",
            "Epoch 7/10\n",
            "250/250 [==============================] - 26s 103ms/step - loss: 0.4191 - accuracy: 0.8558\n",
            "Epoch 8/10\n",
            "250/250 [==============================] - 26s 102ms/step - loss: 0.5637 - accuracy: 0.8107\n",
            "Epoch 9/10\n",
            "250/250 [==============================] - 1s 3ms/step - loss: 1.3668 - accuracy: 0.4844\n"
          ]
        }
      ]
    },
    {
      "cell_type": "code",
      "metadata": {
        "colab": {
          "base_uri": "https://localhost:8080/",
          "height": 0
        },
        "id": "2m1NeHBUp83T",
        "outputId": "2d22042c-a3a5-4f27-db83-cbdb4412dd20"
      },
      "source": [
        "lr_finder.plot_loss(n_skip_beginning=1000, n_skip_end=5)"
      ],
      "execution_count": 81,
      "outputs": [
        {
          "output_type": "display_data",
          "data": {
            "image/png": "[encoded data removed]",
            "text/plain": [
              "<Figure size 432x288 with 1 Axes>"
            ]
          },
          "metadata": {
            "needs_background": "light"
          }
        }
      ]
    },
    {
      "cell_type": "code",
      "metadata": {
        "colab": {
          "base_uri": "https://localhost:8080/",
          "height": 0
        },
        "id": "zprQGxAFqBqi",
        "outputId": "12e0a31a-170f-4f37-b10e-9ef2112cd4c4"
      },
      "source": [
        "lr_finder.plot_loss_change(sma=20, n_skip_beginning=20, n_skip_end=5, y_lim=(-0.01, 0.01))"
      ],
      "execution_count": 79,
      "outputs": [
        {
          "output_type": "display_data",
          "data": {
            "image/png": "[encoded data removed]",
            "text/plain": [
              "<Figure size 432x288 with 1 Axes>"
            ]
          },
          "metadata": {
            "needs_background": "light"
          }
        }
      ]
    },
    {
      "cell_type": "code",
      "metadata": {
        "colab": {
          "base_uri": "https://localhost:8080/"
        },
        "id": "Jt6m60Zpq0eJ",
        "outputId": "961f88cf-f37e-49e0-ca16-a45e541fda06"
      },
      "source": [
        "lr_finder.get_best_lr(sma=1)"
      ],
      "execution_count": 83,
      "outputs": [
        {
          "output_type": "execute_result",
          "data": {
            "text/plain": [
              "0.0010000018"
            ]
          },
          "metadata": {},
          "execution_count": 83
        }
      ]
    },
    {
      "cell_type": "markdown",
      "metadata": {
        "id": "WoIPCCzErIXK"
      },
      "source": [
        "### Learning rate = 0.001"
      ]
    },
    {
      "cell_type": "code",
      "metadata": {
        "colab": {
          "base_uri": "https://localhost:8080/"
        },
        "id": "RI0hX_-jgilA",
        "outputId": "87efebb0-3109-4511-99cc-65bde99e6c61"
      },
      "source": [
        "model = tf.keras.Sequential([\n",
        "    encoder,\n",
        "    tf.keras.layers.Embedding(\n",
        "        input_dim=len(encoder.get_vocabulary()),\n",
        "        output_dim=64,\n",
        "        # Use masking to handle the variable sequence lengths\n",
        "        mask_zero=True),\n",
        "    tf.keras.layers.Bidirectional(tf.keras.layers.LSTM(64)),\n",
        "      tf.keras.layers.Dense(64, activation='relu'),\n",
        "      tf.keras.layers.Dense(6) #this is the output layer, since we have 6 emotions we should have 6 as the output number instead of 1\n",
        "    ])\n",
        "\n",
        "\n",
        "model.compile(loss = tf.keras.losses.SparseCategoricalCrossentropy(from_logits = True),\n",
        "               optimizer=tf.keras.optimizers.Adam(learning_rate=0.001),\n",
        "               metrics=['accuracy'])\n",
        "\n",
        "history = model.fit(train, epochs=10,\n",
        "                    validation_data=test,\n",
        "                    validation_steps=30)"
      ],
      "execution_count": 85,
      "outputs": [
        {
          "output_type": "stream",
          "name": "stdout",
          "text": [
            "Epoch 1/10\n",
            "250/250 [==============================] - 35s 113ms/step - loss: 1.2397 - accuracy: 0.5173 - val_loss: 0.7023 - val_accuracy: 0.7609\n",
            "Epoch 2/10\n",
            "250/250 [==============================] - 26s 104ms/step - loss: 0.5245 - accuracy: 0.8182 - val_loss: 0.4332 - val_accuracy: 0.8552\n",
            "Epoch 3/10\n",
            "250/250 [==============================] - 26s 104ms/step - loss: 0.3670 - accuracy: 0.8682 - val_loss: 0.3517 - val_accuracy: 0.8672\n",
            "Epoch 4/10\n",
            "250/250 [==============================] - 26s 104ms/step - loss: 0.3054 - accuracy: 0.8863 - val_loss: 0.3483 - val_accuracy: 0.8667\n",
            "Epoch 5/10\n",
            "250/250 [==============================] - 26s 105ms/step - loss: 0.2761 - accuracy: 0.8958 - val_loss: 0.3376 - val_accuracy: 0.8734\n",
            "Epoch 6/10\n",
            "250/250 [==============================] - 26s 105ms/step - loss: 0.2460 - accuracy: 0.9060 - val_loss: 0.3477 - val_accuracy: 0.8656\n",
            "Epoch 7/10\n",
            "250/250 [==============================] - 26s 105ms/step - loss: 0.2322 - accuracy: 0.9093 - val_loss: 0.3406 - val_accuracy: 0.8661\n",
            "Epoch 8/10\n",
            "250/250 [==============================] - 26s 105ms/step - loss: 0.2132 - accuracy: 0.9170 - val_loss: 0.3568 - val_accuracy: 0.8687\n",
            "Epoch 9/10\n",
            "250/250 [==============================] - 26s 105ms/step - loss: 0.2018 - accuracy: 0.9212 - val_loss: 0.3593 - val_accuracy: 0.8609\n",
            "Epoch 10/10\n",
            "250/250 [==============================] - 26s 104ms/step - loss: 0.1860 - accuracy: 0.9274 - val_loss: 0.3624 - val_accuracy: 0.8729\n"
          ]
        }
      ]
    },
    {
      "cell_type": "markdown",
      "metadata": {
        "id": "dY7fdwlzrLJu"
      },
      "source": [
        "### Learning Rate = 0.0010000018"
      ]
    },
    {
      "cell_type": "code",
      "metadata": {
        "colab": {
          "base_uri": "https://localhost:8080/"
        },
        "id": "e71n_ryGrYHG",
        "outputId": "ae1fab50-9628-4277-dd80-adce87762b3f"
      },
      "source": [
        "model = tf.keras.Sequential([\n",
        "    encoder,\n",
        "    tf.keras.layers.Embedding(\n",
        "        input_dim=len(encoder.get_vocabulary()),\n",
        "        output_dim=64,\n",
        "        # Use masking to handle the variable sequence lengths\n",
        "        mask_zero=True),\n",
        "    tf.keras.layers.Bidirectional(tf.keras.layers.LSTM(64)),\n",
        "      tf.keras.layers.Dense(64, activation='relu'),\n",
        "      tf.keras.layers.Dense(6) #this is the output layer, since we have 6 emotions we should have 6 as the output number instead of 1\n",
        "    ])\n",
        "\n",
        "\n",
        "model.compile(loss = tf.keras.losses.SparseCategoricalCrossentropy(from_logits = True),\n",
        "               optimizer=tf.keras.optimizers.Adam(learning_rate=0.0010000018),\n",
        "               metrics=['accuracy'])\n",
        "\n",
        "history = model.fit(train, epochs=10,\n",
        "                    validation_data=test,\n",
        "                    validation_steps=30)"
      ],
      "execution_count": 84,
      "outputs": [
        {
          "output_type": "stream",
          "name": "stdout",
          "text": [
            "Epoch 1/10\n",
            "250/250 [==============================] - 35s 112ms/step - loss: 1.2387 - accuracy: 0.5157 - val_loss: 0.6811 - val_accuracy: 0.7865\n",
            "Epoch 2/10\n",
            "250/250 [==============================] - 26s 102ms/step - loss: 0.5377 - accuracy: 0.8153 - val_loss: 0.4312 - val_accuracy: 0.8458\n",
            "Epoch 3/10\n",
            "250/250 [==============================] - 25s 102ms/step - loss: 0.3795 - accuracy: 0.8621 - val_loss: 0.3714 - val_accuracy: 0.8583\n",
            "Epoch 4/10\n",
            "250/250 [==============================] - 26s 103ms/step - loss: 0.3212 - accuracy: 0.8817 - val_loss: 0.3840 - val_accuracy: 0.8708\n",
            "Epoch 5/10\n",
            "250/250 [==============================] - 26s 103ms/step - loss: 0.2872 - accuracy: 0.8911 - val_loss: 0.3411 - val_accuracy: 0.8740\n",
            "Epoch 6/10\n",
            "250/250 [==============================] - 26s 102ms/step - loss: 0.2646 - accuracy: 0.8981 - val_loss: 0.3438 - val_accuracy: 0.8776\n",
            "Epoch 7/10\n",
            "250/250 [==============================] - 26s 103ms/step - loss: 0.2477 - accuracy: 0.9047 - val_loss: 0.3449 - val_accuracy: 0.8807\n",
            "Epoch 8/10\n",
            "250/250 [==============================] - 26s 105ms/step - loss: 0.2269 - accuracy: 0.9115 - val_loss: 0.3431 - val_accuracy: 0.8766\n",
            "Epoch 9/10\n",
            "250/250 [==============================] - 26s 103ms/step - loss: 0.2127 - accuracy: 0.9181 - val_loss: 0.3624 - val_accuracy: 0.8693\n",
            "Epoch 10/10\n",
            "250/250 [==============================] - 26s 104ms/step - loss: 0.2057 - accuracy: 0.9201 - val_loss: 0.3423 - val_accuracy: 0.8677\n"
          ]
        }
      ]
    },
    {
      "cell_type": "markdown",
      "metadata": {
        "id": "NOMMQT9UvCm8"
      },
      "source": [
        "### Experiment with metrics"
      ]
    },
    {
      "cell_type": "code",
      "metadata": {
        "colab": {
          "base_uri": "https://localhost:8080/"
        },
        "id": "Slv6JSqNvCHY",
        "outputId": "08712ffa-4dc1-44e1-b848-48859f40bd23"
      },
      "source": [
        "metrics = [\n",
        "        tf.keras.metrics.SparseCategoricalCrossentropy(),\n",
        "        tf.keras.metrics.SparseCategoricalAccuracy(),\n",
        "        #tf.keras.metrics.Precision()\n",
        "        #tf.keras.metrics.Recall()\n",
        "        tf.keras.metrics.MeanSquaredError()\n",
        "        ]\n",
        "\n",
        "model = tf.keras.Sequential([\n",
        "    encoder,\n",
        "    tf.keras.layers.Embedding(\n",
        "        input_dim=len(encoder.get_vocabulary()),\n",
        "        output_dim=64,\n",
        "        # Use masking to handle the variable sequence lengths\n",
        "        mask_zero=True),\n",
        "    tf.keras.layers.Bidirectional(tf.keras.layers.LSTM(64)),\n",
        "      tf.keras.layers.Dense(64, activation='relu'),\n",
        "      tf.keras.layers.Dense(6) #this is the output layer, since we have 6 emotions we should have 6 as the output number instead of 1\n",
        "    ])\n",
        "\n",
        "\n",
        "model.compile(loss = tf.keras.losses.SparseCategoricalCrossentropy(from_logits = True),\n",
        "               optimizer=tf.keras.optimizers.Adam(learning_rate=0.001),\n",
        "               metrics=metrics)\n",
        "\n",
        "history = model.fit(train, epochs=10,\n",
        "                    validation_data=test,\n",
        "                    validation_steps=30)"
      ],
      "execution_count": 93,
      "outputs": [
        {
          "output_type": "stream",
          "name": "stdout",
          "text": [
            "Epoch 1/10\n",
            "250/250 [==============================] - 35s 112ms/step - loss: 1.2339 - sparse_categorical_crossentropy: 3.1997 - sparse_categorical_accuracy: 0.5228 - mean_squared_error: 12.5515 - val_loss: 0.6905 - val_sparse_categorical_crossentropy: 1.8730 - val_sparse_categorical_accuracy: 0.7625 - val_mean_squared_error: 15.4071\n",
            "Epoch 2/10\n",
            "250/250 [==============================] - 26s 104ms/step - loss: 0.5477 - sparse_categorical_crossentropy: 1.4957 - sparse_categorical_accuracy: 0.8101 - mean_squared_error: 18.9809 - val_loss: 0.4490 - val_sparse_categorical_crossentropy: 1.2596 - val_sparse_categorical_accuracy: 0.8370 - val_mean_squared_error: 19.7503\n",
            "Epoch 3/10\n",
            "250/250 [==============================] - 27s 106ms/step - loss: 0.3754 - sparse_categorical_crossentropy: 1.1680 - sparse_categorical_accuracy: 0.8679 - mean_squared_error: 22.8744 - val_loss: 0.3598 - val_sparse_categorical_crossentropy: 1.1631 - val_sparse_categorical_accuracy: 0.8661 - val_mean_squared_error: 22.3013\n",
            "Epoch 4/10\n",
            "250/250 [==============================] - 26s 105ms/step - loss: 0.3160 - sparse_categorical_crossentropy: 0.9883 - sparse_categorical_accuracy: 0.8842 - mean_squared_error: 23.9594 - val_loss: 0.3489 - val_sparse_categorical_crossentropy: 1.0560 - val_sparse_categorical_accuracy: 0.8661 - val_mean_squared_error: 24.4001\n",
            "Epoch 5/10\n",
            "250/250 [==============================] - 26s 105ms/step - loss: 0.2829 - sparse_categorical_crossentropy: 0.9280 - sparse_categorical_accuracy: 0.8953 - mean_squared_error: 25.7687 - val_loss: 0.3282 - val_sparse_categorical_crossentropy: 1.0304 - val_sparse_categorical_accuracy: 0.8729 - val_mean_squared_error: 26.4143\n",
            "Epoch 6/10\n",
            "250/250 [==============================] - 27s 106ms/step - loss: 0.2533 - sparse_categorical_crossentropy: 0.8468 - sparse_categorical_accuracy: 0.9048 - mean_squared_error: 27.2659 - val_loss: 0.3444 - val_sparse_categorical_crossentropy: 1.0710 - val_sparse_categorical_accuracy: 0.8781 - val_mean_squared_error: 24.6314\n",
            "Epoch 7/10\n",
            "250/250 [==============================] - 27s 106ms/step - loss: 0.2371 - sparse_categorical_crossentropy: 0.7740 - sparse_categorical_accuracy: 0.9099 - mean_squared_error: 27.5563 - val_loss: 0.3383 - val_sparse_categorical_crossentropy: 1.0206 - val_sparse_categorical_accuracy: 0.8766 - val_mean_squared_error: 25.7847\n",
            "Epoch 8/10\n",
            "250/250 [==============================] - 26s 105ms/step - loss: 0.2220 - sparse_categorical_crossentropy: 0.7402 - sparse_categorical_accuracy: 0.9148 - mean_squared_error: 27.8964 - val_loss: 0.3433 - val_sparse_categorical_crossentropy: 0.9112 - val_sparse_categorical_accuracy: 0.8698 - val_mean_squared_error: 27.3427\n",
            "Epoch 9/10\n",
            "250/250 [==============================] - 27s 107ms/step - loss: 0.2090 - sparse_categorical_crossentropy: 0.6841 - sparse_categorical_accuracy: 0.9180 - mean_squared_error: 29.3565 - val_loss: 0.3525 - val_sparse_categorical_crossentropy: 0.9313 - val_sparse_categorical_accuracy: 0.8729 - val_mean_squared_error: 27.3675\n",
            "Epoch 10/10\n",
            "250/250 [==============================] - 26s 105ms/step - loss: 0.1948 - sparse_categorical_crossentropy: 0.6407 - sparse_categorical_accuracy: 0.9235 - mean_squared_error: 30.6520 - val_loss: 0.3606 - val_sparse_categorical_crossentropy: 0.9407 - val_sparse_categorical_accuracy: 0.8693 - val_mean_squared_error: 29.5294\n"
          ]
        }
      ]
    },
    {
      "cell_type": "markdown",
      "metadata": {
        "id": "n3aSYpExswLO"
      },
      "source": [
        "#TODO: \n",
        "#1) learning rate for Adam (DONE)\n",
        "#2)play around with layers \n",
        "#3) # of validation steps\n",
        "#4) # of epoch\n",
        "#5) optimizing the process (building a pipeline)\n",
        "#6) Find a way to truly evaluate the model (over/under)\n",
        "#7) Find a result set that prints out probability\n"
      ]
    },
    {
      "cell_type": "code",
      "metadata": {
        "id": "sFsjSgV8sxJB"
      },
      "source": [
        ""
      ],
      "execution_count": null,
      "outputs": []
    }
  ]
}