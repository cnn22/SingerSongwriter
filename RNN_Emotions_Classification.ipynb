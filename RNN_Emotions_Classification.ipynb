{
  "nbformat": 4,
  "nbformat_minor": 0,
  "metadata": {
    "colab": {
      "name": "RNN Emotions Classification.ipynb",
      "provenance": [],
      "authorship_tag": "ABX9TyMSQE8/42qwW6NP5UgAFU+h",
      "include_colab_link": true
    },
    "kernelspec": {
      "name": "python3",
      "display_name": "Python 3"
    },
    "language_info": {
      "name": "python"
    }
  },
  "cells": [
    {
      "cell_type": "markdown",
      "metadata": {
        "id": "view-in-github",
        "colab_type": "text"
      },
      "source": [
        "<a href=\"https://colab.research.google.com/github/cnn22/SingerSongwriter/blob/main/RNN_Emotions_Classification.ipynb\" target=\"_parent\"><img src=\"https://colab.research.google.com/assets/colab-badge.svg\" alt=\"Open In Colab\"/></a>"
      ]
    },
    {
      "cell_type": "code",
      "metadata": {
        "id": "EsusBDPtVkrC"
      },
      "source": [
        "import pandas as pd\n",
        "import numpy as np\n",
        "import tensorflow as tf\n",
        "import matplotlib.pyplot as plt"
      ],
      "execution_count": 112,
      "outputs": []
    },
    {
      "cell_type": "code",
      "metadata": {
        "id": "LA5ASQS-Vob_"
      },
      "source": [
        "#Read in data\n",
        "train = pd.read_csv('/train.txt', ';', header=None, names=['Sentence', 'Emotion'], index_col=False)\n",
        "test = pd.read_csv('/test.txt', ';', header=None, names=['Sentence', 'Emotion'], index_col=False)"
      ],
      "execution_count": 86,
      "outputs": []
    },
    {
      "cell_type": "code",
      "metadata": {
        "colab": {
          "base_uri": "https://localhost:8080/"
        },
        "id": "EM54PFahlA4q",
        "outputId": "5f5ce473-13ea-46ce-a836-628041418171"
      },
      "source": [
        "test.Emotion.unique()"
      ],
      "execution_count": 89,
      "outputs": [
        {
          "output_type": "execute_result",
          "data": {
            "text/plain": [
              "array([0, 5, 4, 1, 2, 3], dtype=object)"
            ]
          },
          "metadata": {},
          "execution_count": 89
        }
      ]
    },
    {
      "cell_type": "code",
      "metadata": {
        "id": "E9btJ1Czk-Nj"
      },
      "source": [
        "train.loc[train.Emotion == 'sadness', 'Emotion'] = 0\n",
        "train.loc[train.Emotion == 'anger', 'Emotion'] = 1\n",
        "train.loc[train.Emotion == 'love', 'Emotion'] = 2\n",
        "train.loc[train.Emotion == 'surprise', 'Emotion'] = 3\n",
        "train.loc[train.Emotion == 'fear', 'Emotion'] = 4\n",
        "train.loc[train.Emotion == 'joy', 'Emotion'] = 5"
      ],
      "execution_count": 87,
      "outputs": []
    },
    {
      "cell_type": "code",
      "metadata": {
        "id": "5Wl6LMjRlMpw"
      },
      "source": [
        "test.loc[test.Emotion == 'sadness', 'Emotion'] = 0\n",
        "test.loc[test.Emotion == 'anger', 'Emotion'] = 1\n",
        "test.loc[test.Emotion == 'love', 'Emotion'] = 2\n",
        "test.loc[test.Emotion == 'surprise', 'Emotion'] = 3\n",
        "test.loc[test.Emotion == 'fear', 'Emotion'] = 4\n",
        "test.loc[test.Emotion == 'joy', 'Emotion'] = 5"
      ],
      "execution_count": 88,
      "outputs": []
    },
    {
      "cell_type": "code",
      "metadata": {
        "id": "wipAE5Xpl0Gs"
      },
      "source": [
        "train.Emotion = train.Emotion.astype('int64')\n",
        "test.Emotion = test.Emotion.astype('int64')"
      ],
      "execution_count": 94,
      "outputs": []
    },
    {
      "cell_type": "code",
      "metadata": {
        "id": "L81JP7Z3eEiS"
      },
      "source": [
        "#converting pandas df into a 'TensorSliceDataset' type so we can use tensor flow objects...\n",
        "\n",
        "train = (\n",
        "    tf.data.Dataset.from_tensor_slices(\n",
        "        (\n",
        "            tf.cast(train['Sentence'].values, tf.string),\n",
        "            tf.cast(train['Emotion'].values, tf.int64)\n",
        "        )\n",
        "    )\n",
        ")\n",
        "\n",
        "test = (\n",
        "    tf.data.Dataset.from_tensor_slices(\n",
        "        (\n",
        "            tf.cast(test['Sentence'].values, tf.string),\n",
        "            tf.cast(test['Emotion'].values, tf.int64)\n",
        "        )\n",
        "    )\n",
        ")"
      ],
      "execution_count": 97,
      "outputs": []
    },
    {
      "cell_type": "code",
      "metadata": {
        "id": "m3HGWmVEYmt-"
      },
      "source": [
        "#Shuffle the train and test data sets\n",
        "BUFFER_SIZE = 10000\n",
        "BATCH_SIZE = 64\n",
        "\n",
        "train = train.shuffle(BUFFER_SIZE).batch(BATCH_SIZE).prefetch(tf.data.AUTOTUNE)\n",
        "test = test.batch(BATCH_SIZE).prefetch(tf.data.AUTOTUNE)"
      ],
      "execution_count": 98,
      "outputs": []
    },
    {
      "cell_type": "code",
      "metadata": {
        "colab": {
          "base_uri": "https://localhost:8080/"
        },
        "id": "o6JwtTdeZWDS",
        "outputId": "2ecf11c7-cc25-4171-84fb-d40d918fd781"
      },
      "source": [
        "for example, label in train.take(1):\n",
        "  print('texts: ', example.numpy()[:3])\n",
        "  print()\n",
        "  print('labels: ', label.numpy()[:3])"
      ],
      "execution_count": 99,
      "outputs": [
        {
          "output_type": "stream",
          "text": [
            "texts:  [b'i know im quite selfish but sometimes i feel like i dont want to throw everything just for something that is uncertain'\n",
            " b'i suck a lot at keeping the house clean and yet feel twitchy when its messy'\n",
            " b'im feeling shaky and feverish and mad']\n",
            "\n",
            "labels:  [4 0 4]\n"
          ],
          "name": "stdout"
        }
      ]
    },
    {
      "cell_type": "markdown",
      "metadata": {
        "id": "PRfm7wffiMQC"
      },
      "source": [
        "# Encode Text\n"
      ]
    },
    {
      "cell_type": "code",
      "metadata": {
        "id": "nvZmS9y4hPcz"
      },
      "source": [
        "VOCAB_SIZE = 1000\n",
        "encoder = tf.keras.layers.experimental.preprocessing.TextVectorization(\n",
        "    max_tokens=VOCAB_SIZE)\n",
        "\n",
        "encoder.adapt(train.map(lambda text, label: text))"
      ],
      "execution_count": 100,
      "outputs": []
    },
    {
      "cell_type": "code",
      "metadata": {
        "colab": {
          "base_uri": "https://localhost:8080/"
        },
        "id": "OSH4eMMviz21",
        "outputId": "489ab099-cbe1-4dfc-8ebd-968f20eb8d2c"
      },
      "source": [
        "vocab = np.array(encoder.get_vocabulary())\n",
        "vocab[:20]"
      ],
      "execution_count": 101,
      "outputs": [
        {
          "output_type": "execute_result",
          "data": {
            "text/plain": [
              "array(['', '[UNK]', 'i', 'feel', 'and', 'to', 'the', 'a', 'that',\n",
              "       'feeling', 'of', 'my', 'in', 'it', 'like', 'so', 'for', 'im', 'me',\n",
              "       'but'], dtype='<U13')"
            ]
          },
          "metadata": {},
          "execution_count": 101
        }
      ]
    },
    {
      "cell_type": "markdown",
      "metadata": {
        "id": "t6QUvq5qja-h"
      },
      "source": [
        "# Creating the Model"
      ]
    },
    {
      "cell_type": "code",
      "metadata": {
        "id": "wYJA183di6eH"
      },
      "source": [
        "model = tf.keras.Sequential([\n",
        "    encoder,\n",
        "    tf.keras.layers.Embedding(\n",
        "        input_dim=len(encoder.get_vocabulary()),\n",
        "        output_dim=64,\n",
        "        # Use masking to handle the variable sequence lengths\n",
        "        mask_zero=True),\n",
        "    tf.keras.layers.Bidirectional(tf.keras.layers.LSTM(64)),\n",
        "    tf.keras.layers.Dense(64, activation='relu'),\n",
        "    tf.keras.layers.Dense(1)\n",
        "])"
      ],
      "execution_count": 102,
      "outputs": []
    },
    {
      "cell_type": "code",
      "metadata": {
        "id": "sPmJzNJjj7D_"
      },
      "source": [
        "model.compile(loss=tf.keras.losses.BinaryCrossentropy(from_logits=True),\n",
        "              optimizer=tf.keras.optimizers.Adam(1e-4),\n",
        "              metrics=['accuracy'])"
      ],
      "execution_count": 103,
      "outputs": []
    },
    {
      "cell_type": "markdown",
      "metadata": {
        "id": "qU5fnwTmkbYK"
      },
      "source": [
        "# Train the Model"
      ]
    },
    {
      "cell_type": "code",
      "metadata": {
        "colab": {
          "base_uri": "https://localhost:8080/"
        },
        "id": "zDYj6H1MkC3b",
        "outputId": "1913ae5f-32e6-4bc6-d095-628016465844"
      },
      "source": [
        "history = model.fit(train, epochs=10,\n",
        "                    validation_data=test,\n",
        "                    validation_steps=30)"
      ],
      "execution_count": 104,
      "outputs": [
        {
          "output_type": "stream",
          "text": [
            "Epoch 1/10\n",
            "250/250 [==============================] - 38s 122ms/step - loss: -13.5638 - accuracy: 0.1851 - val_loss: -41.0301 - val_accuracy: 0.1370\n",
            "Epoch 2/10\n",
            "250/250 [==============================] - 28s 110ms/step - loss: -68.1253 - accuracy: 0.1349 - val_loss: -97.3083 - val_accuracy: 0.1370\n",
            "Epoch 3/10\n",
            "250/250 [==============================] - 27s 109ms/step - loss: -125.1188 - accuracy: 0.1349 - val_loss: -158.4431 - val_accuracy: 0.1370\n",
            "Epoch 4/10\n",
            "250/250 [==============================] - 28s 112ms/step - loss: -189.7120 - accuracy: 0.1349 - val_loss: -228.7596 - val_accuracy: 0.1370\n",
            "Epoch 5/10\n",
            "250/250 [==============================] - 28s 112ms/step - loss: -264.0112 - accuracy: 0.1349 - val_loss: -309.3284 - val_accuracy: 0.1370\n",
            "Epoch 6/10\n",
            "250/250 [==============================] - 28s 111ms/step - loss: -348.5019 - accuracy: 0.1349 - val_loss: -400.4478 - val_accuracy: 0.1370\n",
            "Epoch 7/10\n",
            "250/250 [==============================] - 28s 110ms/step - loss: -443.5012 - accuracy: 0.1349 - val_loss: -502.0074 - val_accuracy: 0.1370\n",
            "Epoch 8/10\n",
            "250/250 [==============================] - 28s 112ms/step - loss: -551.0308 - accuracy: 0.1349 - val_loss: -619.4816 - val_accuracy: 0.1370\n",
            "Epoch 9/10\n",
            "250/250 [==============================] - 28s 113ms/step - loss: -668.6181 - accuracy: 0.1349 - val_loss: -740.8923 - val_accuracy: 0.1370\n",
            "Epoch 10/10\n",
            "250/250 [==============================] - 28s 112ms/step - loss: -793.6110 - accuracy: 0.1349 - val_loss: -870.6633 - val_accuracy: 0.1370\n"
          ],
          "name": "stdout"
        }
      ]
    },
    {
      "cell_type": "code",
      "metadata": {
        "colab": {
          "base_uri": "https://localhost:8080/"
        },
        "id": "H6RCD1jVkr2T",
        "outputId": "857ae0a5-d168-4803-d804-1f2873d4f124"
      },
      "source": [
        "test_loss, test_acc = model.evaluate(test)\n",
        "\n",
        "print('Test Loss:', test_loss)\n",
        "print('Test Accuracy:', test_acc)"
      ],
      "execution_count": 106,
      "outputs": [
        {
          "output_type": "stream",
          "text": [
            "32/32 [==============================] - 1s 29ms/step - loss: -866.0884 - accuracy: 0.1375\n",
            "Test Loss: -866.08837890625\n",
            "Test Accuracy: 0.13750000298023224\n"
          ],
          "name": "stdout"
        }
      ]
    },
    {
      "cell_type": "code",
      "metadata": {
        "colab": {
          "base_uri": "https://localhost:8080/",
          "height": 518
        },
        "id": "uDmh5uEzoO5x",
        "outputId": "02e3a23a-2e25-4338-ca45-915e0aad130a"
      },
      "source": [
        "def plot_graphs(history, metric):\n",
        "  plt.plot(history.history[metric])\n",
        "  plt.plot(history.history['val_'+metric], '')\n",
        "  plt.xlabel(\"Epochs\")\n",
        "  plt.ylabel(metric)\n",
        "  plt.legend([metric, 'val_'+metric])\n",
        "\n",
        "\n",
        "plt.figure(figsize=(16, 8))\n",
        "plt.subplot(1, 2, 1)\n",
        "plot_graphs(history, 'accuracy')\n",
        "plt.ylim(None, 1)\n",
        "plt.subplot(1, 2, 2)\n",
        "plot_graphs(history, 'loss')\n",
        "plt.ylim(0, None)\n"
      ],
      "execution_count": 113,
      "outputs": [
        {
          "output_type": "execute_result",
          "data": {
            "text/plain": [
              "(0.0, 29.291205644607544)"
            ]
          },
          "metadata": {},
          "execution_count": 113
        },
        {
          "output_type": "display_data",
          "data": {
            "image/png": "[encoded data removed]",
            "text/plain": [
              "<Figure size 1152x576 with 2 Axes>"
            ]
          },
          "metadata": {
            "needs_background": "light"
          }
        }
      ]
    },
    {
      "cell_type": "code",
      "metadata": {
        "id": "aMBq9tEYojdB"
      },
      "source": [
        ""
      ],
      "execution_count": null,
      "outputs": []
    },
    {
      "cell_type": "markdown",
      "metadata": {
        "id": "KEwYyh3ppacD"
      },
      "source": [
        "# 😅\n",
        "# improve this model...please\n",
        "\n",
        "\n"
      ]
    },
    {
      "cell_type": "code",
      "metadata": {
        "id": "xZHM1baVpjYC"
      },
      "source": [
        ""
      ],
      "execution_count": null,
      "outputs": []
    }
  ]
}