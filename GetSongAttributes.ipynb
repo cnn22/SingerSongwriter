{
 "cells": [
  {
   "cell_type": "code",
   "execution_count": 3,
   "metadata": {},
   "outputs": [],
   "source": [
    "import pandas as pd\n",
    "import pickle"
   ]
  },
  {
   "cell_type": "code",
   "execution_count": 4,
   "metadata": {},
   "outputs": [],
   "source": [
    "songs = pd.read_pickle('songs.pkl')"
   ]
  },
  {
   "cell_type": "code",
   "execution_count": 17,
   "metadata": {},
   "outputs": [],
   "source": [
    "songs = songs.loc[~(songs.Title.str.contains('Album', regex = False))].copy()"
   ]
  },
  {
   "cell_type": "code",
   "execution_count": 26,
   "metadata": {},
   "outputs": [],
   "source": [
    "songs = songs.loc[~(songs.Artist.str.contains('Soundtrack', regex = False))].copy()"
   ]
  },
  {
   "cell_type": "code",
   "execution_count": 29,
   "metadata": {},
   "outputs": [
    {
     "data": {
      "text/html": [
       "<div>\n",
       "<style scoped>\n",
       "    .dataframe tbody tr th:only-of-type {\n",
       "        vertical-align: middle;\n",
       "    }\n",
       "\n",
       "    .dataframe tbody tr th {\n",
       "        vertical-align: top;\n",
       "    }\n",
       "\n",
       "    .dataframe thead th {\n",
       "        text-align: right;\n",
       "    }\n",
       "</style>\n",
       "<table border=\"1\" class=\"dataframe\">\n",
       "  <thead>\n",
       "    <tr style=\"text-align: right;\">\n",
       "      <th></th>\n",
       "      <th>Title</th>\n",
       "      <th>Artist</th>\n",
       "    </tr>\n",
       "  </thead>\n",
       "  <tbody>\n",
       "    <tr>\n",
       "      <th>12</th>\n",
       "      <td>A Charlie Brown Christmas (Soundtrack)</td>\n",
       "      <td>Vince Guaraldi Trio</td>\n",
       "    </tr>\n",
       "    <tr>\n",
       "      <th>42</th>\n",
       "      <td>Last Christmas (Soundtrack)</td>\n",
       "      <td>George Michael &amp; Wham!</td>\n",
       "    </tr>\n",
       "    <tr>\n",
       "      <th>78</th>\n",
       "      <td>How The Grinch Stole Christmas (Soundtrack)</td>\n",
       "      <td>Boris Karloff / Thurl Ravenscroft</td>\n",
       "    </tr>\n",
       "    <tr>\n",
       "      <th>95</th>\n",
       "      <td>Bohemian Rhapsody (Soundtrack)</td>\n",
       "      <td>Queen</td>\n",
       "    </tr>\n",
       "    <tr>\n",
       "      <th>117</th>\n",
       "      <td>JESUS IS KING (Soundtrack)</td>\n",
       "      <td>Kanye West</td>\n",
       "    </tr>\n",
       "    <tr>\n",
       "      <th>132</th>\n",
       "      <td>A Star Is Born (Soundtrack)</td>\n",
       "      <td>Lady Gaga &amp; Bradley Cooper</td>\n",
       "    </tr>\n",
       "    <tr>\n",
       "      <th>152</th>\n",
       "      <td>K-12 (Soundtrack)</td>\n",
       "      <td>Melanie Martinez</td>\n",
       "    </tr>\n",
       "    <tr>\n",
       "      <th>155</th>\n",
       "      <td>The Kacey Musgraves Christmas Show (Soundtrack)</td>\n",
       "      <td>Kacey Musgraves</td>\n",
       "    </tr>\n",
       "    <tr>\n",
       "      <th>160</th>\n",
       "      <td>Purple Rain (Soundtrack)</td>\n",
       "      <td>Prince And The Revolution</td>\n",
       "    </tr>\n",
       "  </tbody>\n",
       "</table>\n",
       "</div>"
      ],
      "text/plain": [
       "                                               Title  \\\n",
       "12            A Charlie Brown Christmas (Soundtrack)   \n",
       "42                       Last Christmas (Soundtrack)   \n",
       "78       How The Grinch Stole Christmas (Soundtrack)   \n",
       "95                    Bohemian Rhapsody (Soundtrack)   \n",
       "117                       JESUS IS KING (Soundtrack)   \n",
       "132                      A Star Is Born (Soundtrack)   \n",
       "152                                K-12 (Soundtrack)   \n",
       "155  The Kacey Musgraves Christmas Show (Soundtrack)   \n",
       "160                         Purple Rain (Soundtrack)   \n",
       "\n",
       "                                Artist  \n",
       "12                 Vince Guaraldi Trio  \n",
       "42              George Michael & Wham!  \n",
       "78   Boris Karloff / Thurl Ravenscroft  \n",
       "95                               Queen  \n",
       "117                         Kanye West  \n",
       "132         Lady Gaga & Bradley Cooper  \n",
       "152                   Melanie Martinez  \n",
       "155                    Kacey Musgraves  \n",
       "160          Prince And The Revolution  "
      ]
     },
     "execution_count": 29,
     "metadata": {},
     "output_type": "execute_result"
    }
   ],
   "source": [
    "songs.loc[(songs.Title.str.contains('Soundtrack', regex = False))]"
   ]
  },
  {
   "cell_type": "code",
   "execution_count": 33,
   "metadata": {
    "scrolled": true
   },
   "outputs": [],
   "source": [
    "songs.Title = songs.Title.str.replace(\"\\(Soundtrack\\)\", \"\")"
   ]
  },
  {
   "cell_type": "code",
   "execution_count": 36,
   "metadata": {},
   "outputs": [],
   "source": [
    "songs.reset_index(inplace = True)"
   ]
  },
  {
   "cell_type": "code",
   "execution_count": 38,
   "metadata": {},
   "outputs": [],
   "source": [
    "songs.drop(columns = ['index'], inplace = True)"
   ]
  },
  {
   "cell_type": "code",
   "execution_count": 88,
   "metadata": {},
   "outputs": [],
   "source": [
    "songs['SpotifyID'] = None"
   ]
  },
  {
   "cell_type": "code",
   "execution_count": 41,
   "metadata": {},
   "outputs": [],
   "source": [
    "# clientID = '2db050f400f245738228ef384306044b'\n",
    "# cliendSecret = '6309c1f0455b43428d2cf142e4130a64'"
   ]
  },
  {
   "cell_type": "code",
   "execution_count": 43,
   "metadata": {},
   "outputs": [],
   "source": [
    "import spotipy\n",
    "from spotipy.oauth2 import SpotifyClientCredentials\n",
    "\n",
    "cid = \"2db050f400f245738228ef384306044b\"\n",
    "secret = \"6309c1f0455b43428d2cf142e4130a64\"\n",
    "\n",
    "client_credentials_manager = SpotifyClientCredentials(client_id = cid, client_secret = secret)\n",
    "sp = spotipy.Spotify(client_credentials_manager = client_credentials_manager)"
   ]
  },
  {
   "cell_type": "code",
   "execution_count": 94,
   "metadata": {
    "scrolled": true
   },
   "outputs": [],
   "source": [
    "def getSongID(trackName, trackArtist, trackResults):\n",
    "    for track in trackResults['tracks']['items']:\n",
    "#         print(track['id'])\n",
    "#         print(track['artists'][0]['name'])\n",
    "#         print(track['name'])\n",
    "        if (track['name'] == trackName) & (track['artists'][0]['name'] == trackArtist):\n",
    "            return track['id']\n",
    "    return None"
   ]
  },
  {
   "cell_type": "code",
   "execution_count": 95,
   "metadata": {},
   "outputs": [
    {
     "name": "stdout",
     "output_type": "stream",
     "text": [
      "getting album ID\n",
      "getting album tracks\n",
      "getting album ID\n",
      "getting album tracks\n",
      "getting album ID\n",
      "getting album tracks\n",
      "getting album ID\n",
      "getting album tracks\n"
     ]
    }
   ],
   "source": [
    "for index, row in songs.head().iterrows(): \n",
    "    trackResults = sp.search(q=row['Title'], type='track', market= 'US', limit=10,offset=0)\n",
    "#     print(row['Title'], getSongID(row['Title'], row['Artist'], trackResults))\n",
    "    \n",
    "    songID = getSongID(row['Title'], row['Artist'], trackResults)\n",
    "    if  songID == None:\n",
    "        #albumID = getAlbumID\n",
    "        albumID = 'test'\n",
    "        print('getting album ID')\n",
    "        if albumID != None:\n",
    "            print('getting album tracks')\n",
    "            #getAlbumTracks(albumID)\n",
    "    else:\n",
    "        songs.SpotifyID.iloc[index] = songID\n",
    "        \n",
    "        \n",
    "#     print (row[\"Title\"], row[\"Artist\"]) "
   ]
  },
  {
   "cell_type": "code",
   "execution_count": 96,
   "metadata": {},
   "outputs": [
    {
     "data": {
      "text/html": [
       "<div>\n",
       "<style scoped>\n",
       "    .dataframe tbody tr th:only-of-type {\n",
       "        vertical-align: middle;\n",
       "    }\n",
       "\n",
       "    .dataframe tbody tr th {\n",
       "        vertical-align: top;\n",
       "    }\n",
       "\n",
       "    .dataframe thead th {\n",
       "        text-align: right;\n",
       "    }\n",
       "</style>\n",
       "<table border=\"1\" class=\"dataframe\">\n",
       "  <thead>\n",
       "    <tr style=\"text-align: right;\">\n",
       "      <th></th>\n",
       "      <th>Title</th>\n",
       "      <th>Artist</th>\n",
       "      <th>SpotifyID</th>\n",
       "    </tr>\n",
       "  </thead>\n",
       "  <tbody>\n",
       "    <tr>\n",
       "      <th>0</th>\n",
       "      <td>Fine Line</td>\n",
       "      <td>Harry Styles</td>\n",
       "      <td>6VzcQuzTNTMFnJ6rBSaLH9</td>\n",
       "    </tr>\n",
       "    <tr>\n",
       "      <th>1</th>\n",
       "      <td>Christmas</td>\n",
       "      <td>Michael Buble</td>\n",
       "      <td>None</td>\n",
       "    </tr>\n",
       "    <tr>\n",
       "      <th>2</th>\n",
       "      <td>Please Excuse Me For Being Antisocial</td>\n",
       "      <td>Roddy Ricch</td>\n",
       "      <td>None</td>\n",
       "    </tr>\n",
       "    <tr>\n",
       "      <th>3</th>\n",
       "      <td>Merry Christmas</td>\n",
       "      <td>Mariah Carey</td>\n",
       "      <td>None</td>\n",
       "    </tr>\n",
       "    <tr>\n",
       "      <th>4</th>\n",
       "      <td>When We All Fall Asleep, Where Do We Go?</td>\n",
       "      <td>Billie Eilish</td>\n",
       "      <td>None</td>\n",
       "    </tr>\n",
       "  </tbody>\n",
       "</table>\n",
       "</div>"
      ],
      "text/plain": [
       "                                      Title         Artist  \\\n",
       "0                                 Fine Line   Harry Styles   \n",
       "1                                 Christmas  Michael Buble   \n",
       "2     Please Excuse Me For Being Antisocial    Roddy Ricch   \n",
       "3                           Merry Christmas   Mariah Carey   \n",
       "4  When We All Fall Asleep, Where Do We Go?  Billie Eilish   \n",
       "\n",
       "                SpotifyID  \n",
       "0  6VzcQuzTNTMFnJ6rBSaLH9  \n",
       "1                    None  \n",
       "2                    None  \n",
       "3                    None  \n",
       "4                    None  "
      ]
     },
     "execution_count": 96,
     "metadata": {},
     "output_type": "execute_result"
    }
   ],
   "source": [
    "songs.head()"
   ]
  },
  {
   "cell_type": "code",
   "execution_count": null,
   "metadata": {},
   "outputs": [],
   "source": [
    "\n",
    "\n",
    "#iterate through songs df\n",
    "#for each song in song df we make a call to spotify\n",
    "#loop through the spotify results to find the id BY checking the song name & artist name\n",
    "#if there is a match for both, then we append the song ID to the songs df as spotify id\n",
    "#if there is not song id, then we search for an album that matches the 'trackName' variable\n",
    "#we get the album id and we use \"getAlbumTracks\" func using the album id\n",
    "#put AlbumTrackResults into a temp data frame\n",
    "#NOTE: we are assuming Billboard's popularity ranking, meaning all songs in the album are popular!\n",
    "####\n",
    "#after we iterate through all songs, we should remove songs that do not have songs id (use the pandas loc function)"
   ]
  },
  {
   "cell_type": "code",
   "execution_count": null,
   "metadata": {},
   "outputs": [],
   "source": [
    "#TODO\n",
    "#if there is not song id, then we search for an album that matches the 'trackName' variable\n",
    "#we get the album id and we use \"getAlbumTracks\" func using the album id\n",
    "#put AlbumTrackResults into a temp data frame\n",
    "\n",
    "#build two functions, getalbumid & getalbumtracks"
   ]
  }
 ],
 "metadata": {
  "kernelspec": {
   "display_name": "Python 3",
   "language": "python",
   "name": "python3"
  },
  "language_info": {
   "codemirror_mode": {
    "name": "ipython",
    "version": 3
   },
   "file_extension": ".py",
   "mimetype": "text/x-python",
   "name": "python",
   "nbconvert_exporter": "python",
   "pygments_lexer": "ipython3",
   "version": "3.7.3"
  }
 },
 "nbformat": 4,
 "nbformat_minor": 2
}
