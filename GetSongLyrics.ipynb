{
 "cells": [
  {
   "cell_type": "code",
   "execution_count": 4,
   "metadata": {},
   "outputs": [],
   "source": [
    "import pandas as pd\n",
    "from lyricsgenius import Genius"
   ]
  },
  {
   "cell_type": "code",
   "execution_count": 2,
   "metadata": {},
   "outputs": [
    {
     "name": "stdout",
     "output_type": "stream",
     "text": [
      "Collecting lyricsgenius\n",
      "  Downloading lyricsgenius-3.0.0-py3-none-any.whl (59 kB)\n",
      "Requirement already satisfied: requests>=2.20.0 in c:\\programdata\\anaconda3\\lib\\site-packages (from lyricsgenius) (2.25.1)\n",
      "Requirement already satisfied: beautifulsoup4>=4.6.0 in c:\\programdata\\anaconda3\\lib\\site-packages (from lyricsgenius) (4.9.3)\n",
      "Requirement already satisfied: certifi>=2017.4.17 in c:\\programdata\\anaconda3\\lib\\site-packages (from requests>=2.20.0->lyricsgenius) (2020.6.20)\n",
      "Requirement already satisfied: urllib3<1.27,>=1.21.1 in c:\\programdata\\anaconda3\\lib\\site-packages (from requests>=2.20.0->lyricsgenius) (1.26.4)\n",
      "Requirement already satisfied: idna<3,>=2.5 in c:\\programdata\\anaconda3\\lib\\site-packages (from requests>=2.20.0->lyricsgenius) (2.10)\n",
      "Requirement already satisfied: chardet<5,>=3.0.2 in c:\\programdata\\anaconda3\\lib\\site-packages (from requests>=2.20.0->lyricsgenius) (3.0.4)\n",
      "Requirement already satisfied: soupsieve>1.2; python_version >= \"3.0\" in c:\\programdata\\anaconda3\\lib\\site-packages (from beautifulsoup4>=4.6.0->lyricsgenius) (2.0.1)\n",
      "Installing collected packages: lyricsgenius\n",
      "Successfully installed lyricsgenius-3.0.0\n"
     ]
    }
   ],
   "source": [
    "!pip install lyricsgenius"
   ]
  },
  {
   "cell_type": "code",
   "execution_count": 20,
   "metadata": {},
   "outputs": [
    {
     "name": "stdout",
     "output_type": "stream",
     "text": [
      "Searching for \"Mary, Did You Know?\" by Pentatonix...\n",
      "Done.\n"
     ]
    },
    {
     "data": {
      "text/plain": [
       "\"[Scott]\\nMary did you know that your baby boy will one day walk on water?\\n[Avi]\\nMary did you know that your baby boy will save our sons and daughters?\\n[Scott and Avi]\\nDid you know that your baby boy has come to make you new?\\n[Avi]\\nThis child that you've delivered, will soon deliver you\\n\\n[Kirstin]\\nMary did you know that your baby boy will give sight to a blind man?\\n[Mitch]\\nMary did you know that your baby boy will calm a storm with his hand?\\n[Mitch, Kirstin and Scott]\\nDid you know that your baby boy has walked where angels trod?\\n[Mitch]\\nWhen you kiss your little baby, you kiss the face of God\\n\\n[All]\\nMary did you know, Mary did you know, Mary did you know\\n\\n[Scott]\\nThe blind will see, the deaf will hear and the dead will live again\\nThe lame will leap, the dumb will speak, the praises of the lamb\\n\\n[Kevin]\\nMary did you know that your baby boy is Lord of all creation?\\nMary did you know that your baby boy will one day rule the nations?\\n[All]\\nDid you know that your baby boy is heaven's perfect Lamb?\\n[Mitch]\\nThis sleeping child you're holding is the great I am\\n[All]\\nMary did you know, Mary did you know, Mary did you know?\""
      ]
     },
     "execution_count": 20,
     "metadata": {},
     "output_type": "execute_result"
    }
   ],
   "source": [
    "clientid = 'vHqixP8O2UlLPXgkfxNqgBslNgeEjbPut_I_W8yRHQUji4Fd_XHIfbdmfWZaTo-i'\n",
    "token = 'NVpYyXA_VZXEqtb_6eolyLa0D_PE9yp_0NFCat0LywlG_VDSOjcgVEuOeCiEYpu2'\n",
    "\n",
    "genius = Genius(token)\n",
    "genius.search_song(\"Mary, Did You Know?\", \"Pentatonix\").lyrics"
   ]
  },
  {
   "cell_type": "code",
   "execution_count": null,
   "metadata": {},
   "outputs": [],
   "source": [
    "#TODO: Elyse's Skit we need to take care of when there's punctuation like \"'\". Need to have a slash \\ after \"'\"\n",
    "# IT'S JUST THE APOSTROPHE THAT BREAKS THE FUNCTION LOL\n",
    "\n",
    "def getLyrics(aritstName, songName):\n",
    "    return genius.search_song(songName, artistName).lyrics"
   ]
  }
 ],
 "metadata": {
  "kernelspec": {
   "display_name": "Python 3",
   "language": "python",
   "name": "python3"
  },
  "language_info": {
   "codemirror_mode": {
    "name": "ipython",
    "version": 3
   },
   "file_extension": ".py",
   "mimetype": "text/x-python",
   "name": "python",
   "nbconvert_exporter": "python",
   "pygments_lexer": "ipython3",
   "version": "3.8.5"
  }
 },
 "nbformat": 4,
 "nbformat_minor": 4
}
