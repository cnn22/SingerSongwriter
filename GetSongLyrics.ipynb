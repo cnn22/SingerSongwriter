{
 "cells": [
  {
   "cell_type": "code",
   "execution_count": 66,
   "metadata": {},
   "outputs": [],
   "source": [
    "import pandas as pd\n",
    "import pickle\n",
    "from lyricsgenius import Genius"
   ]
  },
  {
   "cell_type": "code",
   "execution_count": 2,
   "metadata": {},
   "outputs": [
    {
     "name": "stdout",
     "output_type": "stream",
     "text": [
      "Collecting lyricsgenius\n",
      "  Downloading lyricsgenius-3.0.0-py3-none-any.whl (59 kB)\n",
      "Requirement already satisfied: requests>=2.20.0 in c:\\programdata\\anaconda3\\lib\\site-packages (from lyricsgenius) (2.25.1)\n",
      "Requirement already satisfied: beautifulsoup4>=4.6.0 in c:\\programdata\\anaconda3\\lib\\site-packages (from lyricsgenius) (4.9.3)\n",
      "Requirement already satisfied: certifi>=2017.4.17 in c:\\programdata\\anaconda3\\lib\\site-packages (from requests>=2.20.0->lyricsgenius) (2020.6.20)\n",
      "Requirement already satisfied: urllib3<1.27,>=1.21.1 in c:\\programdata\\anaconda3\\lib\\site-packages (from requests>=2.20.0->lyricsgenius) (1.26.4)\n",
      "Requirement already satisfied: idna<3,>=2.5 in c:\\programdata\\anaconda3\\lib\\site-packages (from requests>=2.20.0->lyricsgenius) (2.10)\n",
      "Requirement already satisfied: chardet<5,>=3.0.2 in c:\\programdata\\anaconda3\\lib\\site-packages (from requests>=2.20.0->lyricsgenius) (3.0.4)\n",
      "Requirement already satisfied: soupsieve>1.2; python_version >= \"3.0\" in c:\\programdata\\anaconda3\\lib\\site-packages (from beautifulsoup4>=4.6.0->lyricsgenius) (2.0.1)\n",
      "Installing collected packages: lyricsgenius\n",
      "Successfully installed lyricsgenius-3.0.0\n"
     ]
    }
   ],
   "source": [
    "!pip install lyricsgenius"
   ]
  },
  {
   "cell_type": "code",
   "execution_count": 65,
   "metadata": {},
   "outputs": [],
   "source": [
    "clientid = 'vHqixP8O2UlLPXgkfxNqgBslNgeEjbPut_I_W8yRHQUji4Fd_XHIfbdmfWZaTo-i'\n",
    "token = 'NVpYyXA_VZXEqtb_6eolyLa0D_PE9yp_0NFCat0LywlG_VDSOjcgVEuOeCiEYpu2'\n",
    "\n",
    "genius = Genius(token)\n",
    "genius.remove_section_headers = True\n",
    "genius.skip_non_songs = True"
   ]
  },
  {
   "cell_type": "code",
   "execution_count": 93,
   "metadata": {},
   "outputs": [],
   "source": [
    "#TODO: Elyse's Skit we need to take care of when there's punctuation like \"'\". Need to have a slash \\ after \"'\"\n",
    "# IT'S JUST THE APOSTROPHE THAT BREAKS THE FUNCTION LOL\n",
    "def findAllIndex(word, sentence):\n",
    "    result = []\n",
    "    index = 0;\n",
    "    while index < len(sentence):\n",
    "        index = sentence.find(word, index)\n",
    "        if index == -1:\n",
    "            break\n",
    "        result.append(index)\n",
    "        index += len(word)\n",
    "    return result\n",
    "\n",
    "def addSlashToApostrophe(string):\n",
    "    #string = \"Elyse's Girl's Damn's Try's\"\n",
    "    indexes = findAllIndex(\"'\", string)\n",
    "    repl_char = \"'\\\\\"\n",
    "    res = [repl_char if idx in indexes else ele for idx, ele in enumerate(list(string))]\n",
    "    res = ''.join(res)\n",
    "    return res\n",
    "\n",
    "def getLyrics(artistName, songName):\n",
    "    result = genius.search_song(songName, artistName)\n",
    "    if result is not None:\n",
    "        return result.lyrics\n",
    "    else:\n",
    "        if \"'\" in artistName:\n",
    "            artistName = addSlashToApostrophe(artistName)\n",
    "        if \"'\" in songName:\n",
    "            songName = addSlashToApostrophe(songName)\n",
    "        result = genius.search_song(songName, artistName)\n",
    "        if result is not None:\n",
    "            return result.lyrics\n",
    "        return None"
   ]
  },
  {
   "cell_type": "code",
   "execution_count": 99,
   "metadata": {},
   "outputs": [],
   "source": [
    "#getLyrics(\"Roddy Ricch\",\"Elyse's Skit\")\n",
    "\n",
    "#getLyrics(\"Post Malone\",\"beerbongs & bentleys\")"
   ]
  },
  {
   "cell_type": "code",
   "execution_count": 67,
   "metadata": {},
   "outputs": [],
   "source": [
    "songs = pd.read_pickle('songsWithAttributes3.7.pkl')"
   ]
  },
  {
   "cell_type": "code",
   "execution_count": 101,
   "metadata": {},
   "outputs": [],
   "source": [
    "songs[\"Lyrics\"] = None"
   ]
  },
  {
   "cell_type": "code",
   "execution_count": 173,
   "metadata": {},
   "outputs": [],
   "source": [
    "for index, row in songs.iterrows(): \n",
    "    if row['Lyrics'] is not None or row['Lyrics'] == \"NOT FOUND\": \n",
    "        continue\n",
    "    print(index)\n",
    "    result = getLyrics(row['Artist'],row['Title'])\n",
    "    if result is None:\n",
    "        result = \"NOT FOUND\"\n",
    "    songs.Lyrics.iloc[index] = result"
   ]
  },
  {
   "cell_type": "code",
   "execution_count": 174,
   "metadata": {},
   "outputs": [],
   "source": [
    "songs.to_pickle('songsWithLyricsTemp.pkl')"
   ]
  },
  {
   "cell_type": "code",
   "execution_count": 176,
   "metadata": {},
   "outputs": [
    {
     "data": {
      "text/html": [
       "<div>\n",
       "<style scoped>\n",
       "    .dataframe tbody tr th:only-of-type {\n",
       "        vertical-align: middle;\n",
       "    }\n",
       "\n",
       "    .dataframe tbody tr th {\n",
       "        vertical-align: top;\n",
       "    }\n",
       "\n",
       "    .dataframe thead th {\n",
       "        text-align: right;\n",
       "    }\n",
       "</style>\n",
       "<table border=\"1\" class=\"dataframe\">\n",
       "  <thead>\n",
       "    <tr style=\"text-align: right;\">\n",
       "      <th></th>\n",
       "      <th>Title</th>\n",
       "      <th>Artist</th>\n",
       "      <th>SpotifyID</th>\n",
       "      <th>Tempo</th>\n",
       "      <th>Loudness</th>\n",
       "      <th>Key</th>\n",
       "      <th>isExplicit</th>\n",
       "      <th>Duration</th>\n",
       "      <th>ReleaseDate</th>\n",
       "      <th>Lyrics</th>\n",
       "    </tr>\n",
       "  </thead>\n",
       "  <tbody>\n",
       "    <tr>\n",
       "      <th>4512</th>\n",
       "      <td>(Ghost) Riders In the Sky</td>\n",
       "      <td>Johnny Cash</td>\n",
       "      <td>3DNXN5fPRdkYm64oCdV8L6</td>\n",
       "      <td>109.633</td>\n",
       "      <td>-9.421</td>\n",
       "      <td>A# Bb</td>\n",
       "      <td>False</td>\n",
       "      <td>224.64</td>\n",
       "      <td>2002-02-12</td>\n",
       "      <td>An old cowboy went ridin' out one dark and win...</td>\n",
       "    </tr>\n",
       "    <tr>\n",
       "      <th>4513</th>\n",
       "      <td>Song of the Patriot (with Marty Robbins)</td>\n",
       "      <td>Johnny Cash</td>\n",
       "      <td>5l4NBdjwWqoIX6l7zAQsfl</td>\n",
       "      <td>94.362</td>\n",
       "      <td>-9.244</td>\n",
       "      <td>C</td>\n",
       "      <td>False</td>\n",
       "      <td>208.867</td>\n",
       "      <td>2002-02-12</td>\n",
       "      <td>NOT FOUND</td>\n",
       "    </tr>\n",
       "    <tr>\n",
       "      <th>4514</th>\n",
       "      <td>Highwayman</td>\n",
       "      <td>Johnny Cash</td>\n",
       "      <td>0KLGjcaznMqpUwxAws0KwL</td>\n",
       "      <td>101.348</td>\n",
       "      <td>-10.407</td>\n",
       "      <td>B</td>\n",
       "      <td>False</td>\n",
       "      <td>183.16</td>\n",
       "      <td>2002-02-12</td>\n",
       "      <td>I was a highway man along the coach roads I di...</td>\n",
       "    </tr>\n",
       "    <tr>\n",
       "      <th>4515</th>\n",
       "      <td>The Night Hank Williams Came to Town</td>\n",
       "      <td>Johnny Cash</td>\n",
       "      <td>7uISCmQ6G76LVrZdYbpYn2</td>\n",
       "      <td>91.401</td>\n",
       "      <td>-10.346</td>\n",
       "      <td>D</td>\n",
       "      <td>False</td>\n",
       "      <td>203.507</td>\n",
       "      <td>2002-02-12</td>\n",
       "      <td>Harry Truman was our president\\nA coke an burg...</td>\n",
       "    </tr>\n",
       "    <tr>\n",
       "      <th>4516</th>\n",
       "      <td>The Wanderer</td>\n",
       "      <td>Johnny Cash</td>\n",
       "      <td>3yPXx7FPJvBoL1rdsatgIU</td>\n",
       "      <td>117.385</td>\n",
       "      <td>-13.355</td>\n",
       "      <td>B</td>\n",
       "      <td>False</td>\n",
       "      <td>283.627</td>\n",
       "      <td>2002-02-12</td>\n",
       "      <td>I went out walking through the streets paved w...</td>\n",
       "    </tr>\n",
       "  </tbody>\n",
       "</table>\n",
       "</div>"
      ],
      "text/plain": [
       "                                         Title       Artist  \\\n",
       "4512                 (Ghost) Riders In the Sky  Johnny Cash   \n",
       "4513  Song of the Patriot (with Marty Robbins)  Johnny Cash   \n",
       "4514                                Highwayman  Johnny Cash   \n",
       "4515      The Night Hank Williams Came to Town  Johnny Cash   \n",
       "4516                              The Wanderer  Johnny Cash   \n",
       "\n",
       "                   SpotifyID    Tempo Loudness    Key isExplicit Duration  \\\n",
       "4512  3DNXN5fPRdkYm64oCdV8L6  109.633   -9.421  A# Bb      False   224.64   \n",
       "4513  5l4NBdjwWqoIX6l7zAQsfl   94.362   -9.244      C      False  208.867   \n",
       "4514  0KLGjcaznMqpUwxAws0KwL  101.348  -10.407      B      False   183.16   \n",
       "4515  7uISCmQ6G76LVrZdYbpYn2   91.401  -10.346      D      False  203.507   \n",
       "4516  3yPXx7FPJvBoL1rdsatgIU  117.385  -13.355      B      False  283.627   \n",
       "\n",
       "     ReleaseDate                                             Lyrics  \n",
       "4512  2002-02-12  An old cowboy went ridin' out one dark and win...  \n",
       "4513  2002-02-12                                          NOT FOUND  \n",
       "4514  2002-02-12  I was a highway man along the coach roads I di...  \n",
       "4515  2002-02-12  Harry Truman was our president\\nA coke an burg...  \n",
       "4516  2002-02-12  I went out walking through the streets paved w...  "
      ]
     },
     "execution_count": 176,
     "metadata": {},
     "output_type": "execute_result"
    }
   ],
   "source": [
    "songs.tail()"
   ]
  },
  {
   "cell_type": "code",
   "execution_count": null,
   "metadata": {},
   "outputs": [],
   "source": []
  }
 ],
 "metadata": {
  "kernelspec": {
   "display_name": "Python 3",
   "language": "python",
   "name": "python3"
  },
  "language_info": {
   "codemirror_mode": {
    "name": "ipython",
    "version": 3
   },
   "file_extension": ".py",
   "mimetype": "text/x-python",
   "name": "python",
   "nbconvert_exporter": "python",
   "pygments_lexer": "ipython3",
   "version": "3.7.10"
  }
 },
 "nbformat": 4,
 "nbformat_minor": 4
}
