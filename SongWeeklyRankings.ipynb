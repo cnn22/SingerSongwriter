{
 "cells": [
  {
   "cell_type": "code",
   "execution_count": null,
   "metadata": {},
   "outputs": [],
   "source": [
    "#TODO: convert albums into songs\n",
    "\n",
    "#loop through data and convert albums into songs\n",
    "#add in spotify id to the songWeeklyRanks"
   ]
  },
  {
   "cell_type": "code",
   "execution_count": null,
   "metadata": {},
   "outputs": [],
   "source": [
    "# Web scraping, pickle imports\n",
    "import requests\n",
    "from bs4 import BeautifulSoup\n",
    "import pickle\n",
    "import pandas as pd\n",
    "from datetime import datetime\n",
    "import string\n",
    "from functools import reduce\n",
    "from datetime import datetime\n",
    "from datetime import timedelta\n",
    "import time"
   ]
  },
  {
   "cell_type": "code",
   "execution_count": 46,
   "metadata": {
    "scrolled": true
   },
   "outputs": [
    {
     "name": "stdout",
     "output_type": "stream",
     "text": [
      "https://www.billboard.com/charts/billboard-200/2020-01-01\n",
      "(200, 4)\n",
      "https://www.billboard.com/charts/billboard-200/2020-01-08\n",
      "(400, 4)\n",
      "https://www.billboard.com/charts/billboard-200/2020-01-15\n",
      "(600, 4)\n",
      "https://www.billboard.com/charts/billboard-200/2020-01-22\n",
      "(800, 4)\n",
      "https://www.billboard.com/charts/billboard-200/2020-01-29\n",
      "(1000, 4)\n",
      "https://www.billboard.com/charts/billboard-200/2020-02-05\n",
      "(1200, 4)\n",
      "https://www.billboard.com/charts/billboard-200/2020-02-12\n",
      "(1400, 4)\n",
      "https://www.billboard.com/charts/billboard-200/2020-02-19\n",
      "(1600, 4)\n",
      "https://www.billboard.com/charts/billboard-200/2020-02-26\n",
      "(1800, 4)\n",
      "https://www.billboard.com/charts/billboard-200/2020-03-04\n",
      "(2000, 4)\n",
      "https://www.billboard.com/charts/billboard-200/2020-03-11\n",
      "(2200, 4)\n",
      "https://www.billboard.com/charts/billboard-200/2020-03-18\n",
      "(2400, 4)\n",
      "https://www.billboard.com/charts/billboard-200/2020-03-25\n",
      "(2600, 4)\n",
      "https://www.billboard.com/charts/billboard-200/2020-04-01\n",
      "(2800, 4)\n",
      "https://www.billboard.com/charts/billboard-200/2020-04-08\n",
      "(3000, 4)\n",
      "https://www.billboard.com/charts/billboard-200/2020-04-15\n",
      "(3200, 4)\n",
      "https://www.billboard.com/charts/billboard-200/2020-04-22\n",
      "(3400, 4)\n",
      "https://www.billboard.com/charts/billboard-200/2020-04-29\n",
      "(3600, 4)\n",
      "https://www.billboard.com/charts/billboard-200/2020-05-06\n",
      "(3800, 4)\n",
      "https://www.billboard.com/charts/billboard-200/2020-05-13\n",
      "(4000, 4)\n",
      "https://www.billboard.com/charts/billboard-200/2020-05-20\n",
      "(4200, 4)\n",
      "https://www.billboard.com/charts/billboard-200/2020-05-27\n",
      "(4400, 4)\n",
      "https://www.billboard.com/charts/billboard-200/2020-06-03\n",
      "(4600, 4)\n",
      "https://www.billboard.com/charts/billboard-200/2020-06-10\n",
      "(4800, 4)\n",
      "https://www.billboard.com/charts/billboard-200/2020-06-17\n",
      "(5000, 4)\n",
      "https://www.billboard.com/charts/billboard-200/2020-06-24\n",
      "(5200, 4)\n",
      "https://www.billboard.com/charts/billboard-200/2020-07-01\n",
      "(5400, 4)\n",
      "https://www.billboard.com/charts/billboard-200/2020-07-08\n",
      "(5600, 4)\n",
      "https://www.billboard.com/charts/billboard-200/2020-07-15\n",
      "(5800, 4)\n",
      "https://www.billboard.com/charts/billboard-200/2020-07-22\n",
      "(6000, 4)\n",
      "https://www.billboard.com/charts/billboard-200/2020-07-29\n",
      "(6200, 4)\n",
      "https://www.billboard.com/charts/billboard-200/2020-08-05\n",
      "(6400, 4)\n",
      "https://www.billboard.com/charts/billboard-200/2020-08-12\n",
      "(6600, 4)\n",
      "https://www.billboard.com/charts/billboard-200/2020-08-19\n",
      "(6800, 4)\n",
      "https://www.billboard.com/charts/billboard-200/2020-08-26\n",
      "(7000, 4)\n",
      "https://www.billboard.com/charts/billboard-200/2020-09-02\n",
      "(7200, 4)\n",
      "https://www.billboard.com/charts/billboard-200/2020-09-09\n",
      "(7400, 4)\n",
      "https://www.billboard.com/charts/billboard-200/2020-09-16\n",
      "(7600, 4)\n",
      "https://www.billboard.com/charts/billboard-200/2020-09-23\n",
      "(7800, 4)\n",
      "https://www.billboard.com/charts/billboard-200/2020-09-30\n",
      "(8000, 4)\n",
      "https://www.billboard.com/charts/billboard-200/2020-10-07\n",
      "(8200, 4)\n",
      "https://www.billboard.com/charts/billboard-200/2020-10-14\n",
      "(8400, 4)\n",
      "https://www.billboard.com/charts/billboard-200/2020-10-21\n",
      "(8600, 4)\n",
      "https://www.billboard.com/charts/billboard-200/2020-10-28\n",
      "(8800, 4)\n",
      "https://www.billboard.com/charts/billboard-200/2020-11-04\n",
      "(9000, 4)\n",
      "https://www.billboard.com/charts/billboard-200/2020-11-11\n",
      "(9200, 4)\n",
      "https://www.billboard.com/charts/billboard-200/2020-11-18\n",
      "(9400, 4)\n",
      "https://www.billboard.com/charts/billboard-200/2020-11-25\n",
      "(9600, 4)\n",
      "https://www.billboard.com/charts/billboard-200/2020-12-02\n",
      "(9800, 4)\n",
      "https://www.billboard.com/charts/billboard-200/2020-12-09\n",
      "(10000, 4)\n",
      "https://www.billboard.com/charts/billboard-200/2020-12-16\n",
      "(10200, 4)\n",
      "https://www.billboard.com/charts/billboard-200/2020-12-23\n",
      "(10400, 4)\n",
      "https://www.billboard.com/charts/billboard-200/2020-12-30\n",
      "(10600, 4)\n"
     ]
    },
    {
     "data": {
      "text/plain": [
       "(10600, 4)"
      ]
     },
     "execution_count": 46,
     "metadata": {},
     "output_type": "execute_result"
    }
   ],
   "source": [
    "SONG_TITLE_KEY = \"chart-element__information__song text--truncate color--primary\"\n",
    "SONG_ARTIST_KEY = \"chart-element__information__artist text--truncate color--secondary\"\n",
    "SONG_ELEMENT_KEY = \"chart-list__element display--flex\"\n",
    "RANK_ELEMENT_KEY = \"chart-element__rank__number\"\n",
    "urlBase = \"https://www.billboard.com/charts/billboard-200\"\n",
    "\n",
    "songWeeklyRankColumns = ['Date', 'Title', 'Artist', 'Rank']\n",
    "songWeeklyRanks = pd.DataFrame(columns = songWeeklyRankColumns)\n",
    "\n",
    "def getSongs(url, date, df):\n",
    "    page = requests.get(url).text\n",
    "    soup = BeautifulSoup(page, \"lxml\")\n",
    "    for element in soup.find_all(class_ = SONG_ELEMENT_KEY):\n",
    "        songName = element.find(class_ = SONG_TITLE_KEY).text #not unique\n",
    "        songArtist = element.find(class_ = SONG_ARTIST_KEY).text #not unique \n",
    "        rank = element.find(class_ = RANK_ELEMENT_KEY).text #not unique\n",
    "        df = df.append({'Date':date, 'Title':songName, 'Artist':songArtist, 'Rank':rank}, ignore_index=True)\n",
    "    return df\n",
    "\n",
    "def pageIterator(url, startDate, endDate, df):\n",
    "    current = datetime.fromisoformat(startDate)\n",
    "    end = datetime.fromisoformat(endDate)\n",
    "#     url = url+startDate\n",
    "    \n",
    "    while current <= end:\n",
    "        print(url+current.strftime('%Y-%m-%d'))\n",
    "        time.sleep(5)\n",
    "        df = getSongs(url+current.strftime('%Y-%m-%d'), current.strftime('%Y-%m-%d'), df)\n",
    "        print(df.shape)\n",
    "        current += timedelta(weeks = 1)\n",
    "    return df\n",
    "    \n",
    "        \n",
    "\n",
    "# songWeeklyRanks = getSongs('https://www.billboard.com/charts/billboard-200/2020-01-04', '2020-01-04', songWeeklyRanks)\n",
    "songWeeklyRanks = pageIterator(\"https://www.billboard.com/charts/billboard-200/\", \"2020-01-01\", \"2021-01-01\", songWeeklyRanks)\n",
    "songWeeklyRanks.shape"
   ]
  },
  {
   "cell_type": "code",
   "execution_count": 48,
   "metadata": {},
   "outputs": [
    {
     "data": {
      "text/plain": [
       "(10600, 4)"
      ]
     },
     "execution_count": 48,
     "metadata": {},
     "output_type": "execute_result"
    }
   ],
   "source": [
    "songWeeklyRanks"
   ]
  },
  {
   "cell_type": "code",
   "execution_count": 49,
   "metadata": {},
   "outputs": [],
   "source": [
    "# songWeeklyRanks.to_pickle('songsWeeklyRanks.pkl')\n",
    "# test = pd.read_pickle('songsWeeklyRanks.pkl')"
   ]
  }
 ],
 "metadata": {
  "kernelspec": {
   "display_name": "Python 3",
   "language": "python",
   "name": "python3"
  },
  "language_info": {
   "codemirror_mode": {
    "name": "ipython",
    "version": 3
   },
   "file_extension": ".py",
   "mimetype": "text/x-python",
   "name": "python",
   "nbconvert_exporter": "python",
   "pygments_lexer": "ipython3",
   "version": "3.7.3"
  }
 },
 "nbformat": 4,
 "nbformat_minor": 2
}
