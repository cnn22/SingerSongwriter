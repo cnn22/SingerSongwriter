{
  "nbformat": 4,
  "nbformat_minor": 0,
  "metadata": {
    "colab": {
      "provenance": [],
      "authorship_tag": "ABX9TyP/hcEuwASkFSDk7MYNu7wu",
      "include_colab_link": true
    },
    "kernelspec": {
      "name": "python3",
      "display_name": "Python 3"
    },
    "language_info": {
      "name": "python"
    }
  },
  "cells": [
    {
      "cell_type": "markdown",
      "metadata": {
        "id": "view-in-github",
        "colab_type": "text"
      },
      "source": [
        "<a href=\"https://colab.research.google.com/github/cnn22/SingerSongwriter/blob/main/LSTM_with_attention_mechanism_classification.ipynb\" target=\"_parent\"><img src=\"https://colab.research.google.com/assets/colab-badge.svg\" alt=\"Open In Colab\"/></a>"
      ]
    },
    {
      "cell_type": "markdown",
      "source": [
        "TODO:\n",
        "\n",
        "09/23\n",
        "\n",
        "*   Continue reading about how we can apply attention mechanism to our original LSTM model\n",
        "*   https://www.sentic.net/attention-based-bidirectional-cnn-rnn-for-sentiment-analysis.pdf \n",
        "* https://docs.google.com/document/d/1FnK_zLTJKksuwhofKQlKJwoPoeO0xXMZ27NGqPdZLMA/edit\n",
        "\n"
      ],
      "metadata": {
        "id": "8Kdhv9pYbDzQ"
      }
    },
    {
      "cell_type": "code",
      "source": [],
      "metadata": {
        "id": "Ip016EejbRQt"
      },
      "execution_count": null,
      "outputs": []
    }
  ]
}