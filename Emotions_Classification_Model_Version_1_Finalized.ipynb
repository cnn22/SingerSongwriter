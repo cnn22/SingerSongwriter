{
  "nbformat": 4,
  "nbformat_minor": 0,
  "metadata": {
    "colab": {
      "name": "Emotions Classification Model Version 1 - Finalized",
      "provenance": [],
      "collapsed_sections": [],
      "include_colab_link": true
    },
    "kernelspec": {
      "name": "python3",
      "display_name": "Python 3"
    },
    "language_info": {
      "name": "python"
    }
  },
  "cells": [
    {
      "cell_type": "markdown",
      "metadata": {
        "id": "view-in-github",
        "colab_type": "text"
      },
      "source": [
        "<a href=\"https://colab.research.google.com/github/cnn22/SingerSongwriter/blob/main/Emotions_Classification_Model_Version_1_Finalized.ipynb\" target=\"_parent\"><img src=\"https://colab.research.google.com/assets/colab-badge.svg\" alt=\"Open In Colab\"/></a>"
      ]
    },
    {
      "cell_type": "markdown",
      "metadata": {
        "id": "dpRugM01aXqf"
      },
      "source": [
        "# Import Libraries"
      ]
    },
    {
      "cell_type": "code",
      "metadata": {
        "colab": {
          "base_uri": "https://localhost:8080/"
        },
        "id": "feYKm1zTihIO",
        "outputId": "70a8c50e-b6d9-4408-dd33-d77f58685e0b"
      },
      "source": [
        "%cd .\n",
        "! git clone https://github.com/surmenok/keras_lr_finder\n",
        "%cd keras_lr_finder\n",
        "! python3 -m pip install --editable .\n",
        "%cd /content"
      ],
      "execution_count": null,
      "outputs": [
        {
          "output_type": "stream",
          "name": "stdout",
          "text": [
            "/content\n",
            "Cloning into 'keras_lr_finder'...\n",
            "remote: Enumerating objects: 68, done.\u001b[K\n",
            "remote: Counting objects: 100% (6/6), done.\u001b[K\n",
            "remote: Compressing objects: 100% (6/6), done.\u001b[K\n",
            "remote: Total 68 (delta 1), reused 0 (delta 0), pack-reused 62\u001b[K\n",
            "Unpacking objects: 100% (68/68), done.\n",
            "/content/keras_lr_finder\n",
            "Obtaining file:///content/keras_lr_finder\n",
            "Requirement already satisfied: keras>=2.0.0 in /usr/local/lib/python3.7/dist-packages (from keras-lr-finder==0.1) (2.6.0)\n",
            "Requirement already satisfied: matplotlib in /usr/local/lib/python3.7/dist-packages (from keras-lr-finder==0.1) (3.2.2)\n",
            "Requirement already satisfied: python-dateutil>=2.1 in /usr/local/lib/python3.7/dist-packages (from matplotlib->keras-lr-finder==0.1) (2.8.2)\n",
            "Requirement already satisfied: kiwisolver>=1.0.1 in /usr/local/lib/python3.7/dist-packages (from matplotlib->keras-lr-finder==0.1) (1.3.2)\n",
            "Requirement already satisfied: cycler>=0.10 in /usr/local/lib/python3.7/dist-packages (from matplotlib->keras-lr-finder==0.1) (0.10.0)\n",
            "Requirement already satisfied: pyparsing!=2.0.4,!=2.1.2,!=2.1.6,>=2.0.1 in /usr/local/lib/python3.7/dist-packages (from matplotlib->keras-lr-finder==0.1) (2.4.7)\n",
            "Requirement already satisfied: numpy>=1.11 in /usr/local/lib/python3.7/dist-packages (from matplotlib->keras-lr-finder==0.1) (1.19.5)\n",
            "Requirement already satisfied: six in /usr/local/lib/python3.7/dist-packages (from cycler>=0.10->matplotlib->keras-lr-finder==0.1) (1.15.0)\n",
            "Installing collected packages: keras-lr-finder\n",
            "  Running setup.py develop for keras-lr-finder\n",
            "Successfully installed keras-lr-finder-0.1\n",
            "/content\n"
          ]
        }
      ]
    },
    {
      "cell_type": "code",
      "metadata": {
        "id": "EsusBDPtVkrC"
      },
      "source": [
        "import pandas as pd\n",
        "import numpy as np\n",
        "import tensorflow as tf\n",
        "import matplotlib.pyplot as plt\n",
        "#from keras_lr_finder import LRFinder"
      ],
      "execution_count": null,
      "outputs": []
    },
    {
      "cell_type": "markdown",
      "metadata": {
        "id": "XmJdmKMwabsA"
      },
      "source": [
        "# Reading and Cleaning data"
      ]
    },
    {
      "cell_type": "code",
      "metadata": {
        "id": "LA5ASQS-Vob_"
      },
      "source": [
        "#Read in data\n",
        "train_df = pd.read_csv('train.txt', ';', header=None, names=['Sentence', 'Emotion'], index_col=False)\n",
        "test_df = pd.read_csv('test.txt', ';', header=None, names=['Sentence', 'Emotion'], index_col=False)"
      ],
      "execution_count": null,
      "outputs": []
    },
    {
      "cell_type": "code",
      "metadata": {
        "colab": {
          "base_uri": "https://localhost:8080/"
        },
        "id": "EM54PFahlA4q",
        "outputId": "3e0be5f2-f18a-4aad-d81e-06d5957f23fa"
      },
      "source": [
        "test_df.Emotion.unique()"
      ],
      "execution_count": null,
      "outputs": [
        {
          "output_type": "execute_result",
          "data": {
            "text/plain": [
              "array(['sadness', 'joy', 'fear', 'anger', 'love', 'surprise'],\n",
              "      dtype=object)"
            ]
          },
          "metadata": {},
          "execution_count": 11
        }
      ]
    },
    {
      "cell_type": "markdown",
      "metadata": {
        "id": "Fe7KjvEOagbI"
      },
      "source": [
        "## Turn into number target labels"
      ]
    },
    {
      "cell_type": "code",
      "metadata": {
        "id": "E9btJ1Czk-Nj"
      },
      "source": [
        "train_df.loc[train_df.Emotion == 'sadness', 'Emotion'] = 0\n",
        "train_df.loc[train_df.Emotion == 'anger', 'Emotion'] = 1\n",
        "train_df.loc[train_df.Emotion == 'love', 'Emotion'] = 2\n",
        "train_df.loc[train_df.Emotion == 'surprise', 'Emotion'] = 3\n",
        "train_df.loc[train_df.Emotion == 'fear', 'Emotion'] = 4\n",
        "train_df.loc[train_df.Emotion == 'joy', 'Emotion'] = 5"
      ],
      "execution_count": null,
      "outputs": []
    },
    {
      "cell_type": "code",
      "metadata": {
        "id": "5Wl6LMjRlMpw"
      },
      "source": [
        "test_df.loc[test_df.Emotion == 'sadness', 'Emotion'] = 0\n",
        "test_df.loc[test_df.Emotion == 'anger', 'Emotion'] = 1\n",
        "test_df.loc[test_df.Emotion == 'love', 'Emotion'] = 2\n",
        "test_df.loc[test_df.Emotion == 'surprise', 'Emotion'] = 3\n",
        "test_df.loc[test_df.Emotion == 'fear', 'Emotion'] = 4\n",
        "test_df.loc[test_df.Emotion == 'joy', 'Emotion'] = 5"
      ],
      "execution_count": null,
      "outputs": []
    },
    {
      "cell_type": "markdown",
      "metadata": {
        "id": "j6gc3jUaaki0"
      },
      "source": [
        "## Process Data for TensorFlow"
      ]
    },
    {
      "cell_type": "code",
      "metadata": {
        "id": "wipAE5Xpl0Gs"
      },
      "source": [
        "train_df.Emotion = train_df.Emotion.astype('int64')\n",
        "test_df.Emotion = test_df.Emotion.astype('int64')"
      ],
      "execution_count": null,
      "outputs": []
    },
    {
      "cell_type": "code",
      "metadata": {
        "id": "L81JP7Z3eEiS"
      },
      "source": [
        "#converting pandas df into a 'TensorSliceDataset' type so we can use tensor flow objects...\n",
        "\n",
        "train = (\n",
        "    tf.data.Dataset.from_tensor_slices(\n",
        "        (\n",
        "            tf.cast(train_df['Sentence'].values, tf.string),\n",
        "            tf.cast(train_df['Emotion'].values, tf.int64)\n",
        "        )\n",
        "    )\n",
        ")\n",
        "\n",
        "test = (\n",
        "    tf.data.Dataset.from_tensor_slices(\n",
        "        (\n",
        "            tf.cast(test_df['Sentence'].values, tf.string),\n",
        "            tf.cast(test_df['Emotion'].values, tf.int64)\n",
        "        )\n",
        "    )\n",
        ")"
      ],
      "execution_count": null,
      "outputs": []
    },
    {
      "cell_type": "markdown",
      "metadata": {
        "id": "0n-ET9KHapaa"
      },
      "source": [
        "## Split Data into Test and Train"
      ]
    },
    {
      "cell_type": "code",
      "metadata": {
        "id": "m3HGWmVEYmt-"
      },
      "source": [
        "#Shuffle the train and test data sets\n",
        "BUFFER_SIZE = 10000\n",
        "BATCH_SIZE = 64\n",
        "\n",
        "train = train.shuffle(BUFFER_SIZE).batch(BATCH_SIZE).prefetch(tf.data.AUTOTUNE)\n",
        "test = test.batch(BATCH_SIZE).prefetch(tf.data.AUTOTUNE)"
      ],
      "execution_count": null,
      "outputs": []
    },
    {
      "cell_type": "code",
      "metadata": {
        "colab": {
          "base_uri": "https://localhost:8080/"
        },
        "id": "o6JwtTdeZWDS",
        "outputId": "3fc3d07e-44fa-46dc-f6fe-e00880624728"
      },
      "source": [
        "for example, label in train.take(1):\n",
        "  print('texts: ', example.numpy()[:3])\n",
        "  print()\n",
        "  print('labels: ', label.numpy()[:3])"
      ],
      "execution_count": null,
      "outputs": [
        {
          "output_type": "stream",
          "name": "stdout",
          "text": [
            "texts:  [b'im not feeling real strong lately'\n",
            " b'i know that i shouldn t let people decide my happiness but damn it feels like i either have to risk my happiness to please other people that s how much i hate this school this school is fucking pathetic and doesn t deserve my time and money'\n",
            " b'i still feel very amorous']\n",
            "\n",
            "labels:  [5 0 2]\n"
          ]
        }
      ]
    },
    {
      "cell_type": "markdown",
      "metadata": {
        "id": "PRfm7wffiMQC"
      },
      "source": [
        "# Encode Text\n"
      ]
    },
    {
      "cell_type": "code",
      "metadata": {
        "id": "nvZmS9y4hPcz"
      },
      "source": [
        "VOCAB_SIZE = 1000\n",
        "encoder = tf.keras.layers.experimental.preprocessing.TextVectorization(\n",
        "    max_tokens=VOCAB_SIZE)\n",
        "\n",
        "encoder.adapt(train.map(lambda text, label: text))"
      ],
      "execution_count": null,
      "outputs": []
    },
    {
      "cell_type": "code",
      "metadata": {
        "colab": {
          "base_uri": "https://localhost:8080/"
        },
        "id": "OSH4eMMviz21",
        "outputId": "ab8f600f-92fe-4d74-9996-143b919f119e"
      },
      "source": [
        "vocab = np.array(encoder.get_vocabulary())\n",
        "vocab[:20]"
      ],
      "execution_count": null,
      "outputs": [
        {
          "output_type": "execute_result",
          "data": {
            "text/plain": [
              "array(['', '[UNK]', 'i', 'feel', 'and', 'to', 'the', 'a', 'that',\n",
              "       'feeling', 'of', 'my', 'in', 'it', 'like', 'so', 'for', 'im', 'me',\n",
              "       'but'], dtype='<U13')"
            ]
          },
          "metadata": {},
          "execution_count": 31
        }
      ]
    },
    {
      "cell_type": "markdown",
      "metadata": {
        "id": "s78qTzILB7dg"
      },
      "source": [
        "# Import and Load Weights into New Model Instance"
      ]
    },
    {
      "cell_type": "code",
      "metadata": {
        "id": "3t6zFNd2CDLq"
      },
      "source": [
        "#creates a simple sequential model\n",
        "def create_model():\n",
        "  model = tf.keras.Sequential([\n",
        "    encoder,\n",
        "    tf.keras.layers.Embedding(\n",
        "        input_dim=len(encoder.get_vocabulary()),\n",
        "        output_dim=32,\n",
        "        # Use masking to handle the variable sequence lengths\n",
        "        mask_zero=True),\n",
        "    tf.keras.layers.Bidirectional(tf.keras.layers.LSTM(32)),\n",
        "      tf.keras.layers.Dense(32, activation='relu'),\n",
        "      tf.keras.layers.Dropout(0.65),\n",
        "      tf.keras.layers.Dense(6) #this is the output layer, since we have 6 emotions we should have 6 as the output number instead of 1\n",
        "    ])\n",
        "\n",
        "\n",
        "  model.compile(loss = tf.keras.losses.SparseCategoricalCrossentropy(from_logits = True),\n",
        "                optimizer=tf.keras.optimizers.Adam(learning_rate=0.001),\n",
        "                metrics=['accuracy'])\n",
        "\n",
        "  return model"
      ],
      "execution_count": 1,
      "outputs": []
    },
    {
      "cell_type": "code",
      "metadata": {
        "id": "8YCBasMQCJdz"
      },
      "source": [
        "new_model = create_model()\n",
        "new_model.load_weights('saved-weights/emotion-weights-v1')\n",
        "new_model.summary()"
      ],
      "execution_count": null,
      "outputs": []
    },
    {
      "cell_type": "code",
      "metadata": {
        "id": "NhslYXXgCax9"
      },
      "source": [
        "loss, acc = model.evaluate(test)"
      ],
      "execution_count": null,
      "outputs": []
    },
    {
      "cell_type": "markdown",
      "metadata": {
        "id": "MAXRwxTuCmd_"
      },
      "source": [
        "# Make predictions!"
      ]
    },
    {
      "cell_type": "code",
      "metadata": {
        "id": "0Q_xharVCqyh"
      },
      "source": [
        "#sadness', 'joy', 'fear', 'anger', 'love', 'surprise'\n",
        "sample_text = \"\"\"I got my driver's license last week\n",
        "Just like we always talked about\n",
        "'Cause you were so excited for me\n",
        "To finally drive up to your house\n",
        "But today I drove through the suburbs\n",
        "Crying 'cause you weren't around\n",
        "\n",
        "And you're probably with that blonde girl\n",
        "Who always made me doubt\n",
        "She's so much older than me\n",
        "She's everything I'm insecure about\n",
        "Yeah, today I drove through the suburbs\n",
        "'Cause how could I ever love someone else?\n",
        "\n",
        "And I know we weren't perfect but I've never felt this way for no one\n",
        "And I just can't imagine how you could be so okay now that I'm gone\n",
        "Guess you didn't mean what you wrote in that song about me\n",
        "'Cause you said forever now I drive alone past your street\n",
        "\n",
        "And all my friends are tired\n",
        "Of hearing how much I miss you but\n",
        "I kinda feel sorry for them\n",
        "'Cause they'll never know you the way that I do\n",
        "Yeah, today I drove through the suburbs\n",
        "And pictured I was driving home to you\n",
        "\n",
        "And I know we weren't perfect but I've never felt this way for no one\n",
        "Oh, and I just can't imagine how you could be so okay now that I'm gone\n",
        "I guess you didn't mean what you wrote in that song about me\n",
        "'Cause you said forever now I drive alone past your street\n",
        "\n",
        "Red lights\n",
        "Stop signs\n",
        "I still see your face\n",
        "In the white cars\n",
        "Front yards\n",
        "Can't drive past the places\n",
        "We used to\n",
        "Go to\n",
        "'Cause I still fucking love you, babe\n",
        "\n",
        "Sidewalks\n",
        "We crossed\n",
        "I still hear your voice\n",
        "In the traffic\n",
        "We're laughing\n",
        "Over all the noise\n",
        "God, I'm so blue\n",
        "Know we're through\n",
        "But I still fucking love you, babe\n",
        "\n",
        "I know we weren't perfect but I've never felt this way for no one\n",
        "And I just can't imagine how you could be so okay now that I'm gone\n",
        "Guess you didn't mean what you wrote in that song about me\n",
        "'Cause you said forever now I drive alone past your street\n",
        "Yeah, you said forever now I drive alone past your street\n",
        "\"\"\"        \n",
        "predictions = new_model.predict(np.array([sample_text]))\n",
        "print(predictions)\n",
        "#return position of max\n",
        "MaxPosition=np.argmax(predictions) \n",
        "prediction_label=['sadness', 'anger', 'love', 'surprise', 'fear', 'joy'][MaxPosition]\n",
        "print(prediction_label) "
      ],
      "execution_count": null,
      "outputs": []
    }
  ]
}