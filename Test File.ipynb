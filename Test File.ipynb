{
 "cells": [
  {
   "cell_type": "code",
   "execution_count": 6,
   "metadata": {},
   "outputs": [],
   "source": [
    "import pandas as pd\n",
    "import pickle\n",
    "songs = pd.read_pickle('songsWeeklyRanks.pkl')"
   ]
  },
  {
   "cell_type": "code",
   "execution_count": 20,
   "metadata": {},
   "outputs": [
    {
     "data": {
      "text/plain": [
       "'michael buble'"
      ]
     },
     "execution_count": 20,
     "metadata": {},
     "output_type": "execute_result"
    }
   ],
   "source": [
    "import unicodedata\n",
    "\n",
    "def getStringWithoutSpecialAccent(string):\n",
    "    return ''.join((c for c in unicodedata.normalize('NFD', string) if unicodedata.category(c) != 'Mn'))\n",
    "getStringWithoutSpecialAccent(\"Michael Bublé\".lower())"
   ]
  },
  {
   "cell_type": "code",
   "execution_count": 7,
   "metadata": {},
   "outputs": [],
   "source": [
    "songs[\"SpotifyID\"] = None"
   ]
  },
  {
   "cell_type": "code",
   "execution_count": 8,
   "metadata": {},
   "outputs": [],
   "source": [
    "import spotipy\n",
    "from spotipy.oauth2 import SpotifyClientCredentials\n",
    "\n",
    "cid = \"2db050f400f245738228ef384306044b\"\n",
    "secret = \"6309c1f0455b43428d2cf142e4130a64\"\n",
    "\n",
    "client_credentials_manager = SpotifyClientCredentials(client_id = cid, client_secret = secret)\n",
    "sp = spotipy.Spotify(client_credentials_manager = client_credentials_manager)"
   ]
  },
  {
   "cell_type": "code",
   "execution_count": 16,
   "metadata": {},
   "outputs": [],
   "source": [
    "def getSongID(trackName, trackArtist, trackResults):\n",
    "    for track in trackResults['tracks']['items']:\n",
    "        if (track['name'].lower() == trackName.lower()) & (track['artists'][0]['name'].lower() == trackArtist.lower()):\n",
    "            return track['id']\n",
    "    return None\n",
    "\n",
    "def getAlbumID(albumName, albumArtist, searchResult):\n",
    "    for album in searchResult['albums']['items']:\n",
    "        getStringWithoutSpecialAccent(album['name'].lower())\n",
    "        getStringWithoutSpecialAccent(albumArtist.lower())\n",
    "        \n",
    "        getStringWithoutSpecialAccent(album['artists'][0]['name'].lower())\n",
    "        getStringWithoutSpecialAccent(albumArtist.lower())\n",
    "        if (album['name'].lower() == albumName.lower()) & (album['artists'][0]['name'].lower() == albumArtist.lower()):\n",
    "            return album['id']\n",
    "    return None\n",
    "\n",
    "def getAlbumSongs(albumArtist, albumTracksResults):\n",
    "    albumSongDF = pd.DataFrame(columns=[\"Title\",\"Artist\", \"SpotifyID\"])\n",
    "    for songs in albumTracksResults['items']:\n",
    "        newRow = pd.Series(data={\"Title\": songs['name'],\"Artist\": albumArtist, \"SpotifyID\": songs['id']})\n",
    "        albumSongDF = albumSongDF.append(newRow, ignore_index=True)\n",
    "    return albumSongDF"
   ]
  },
  {
   "cell_type": "code",
   "execution_count": 10,
   "metadata": {},
   "outputs": [
    {
     "name": "stdout",
     "output_type": "stream",
     "text": [
      "Finding Album\n"
     ]
    }
   ],
   "source": [
    "##create two df\n",
    "songsToDeleteDF = pd.DataFrame(columns=[\"Title\",\"Artist\", \"SpotifyID\"])\n",
    "albumSongToAddDF = pd.DataFrame(columns=[\"Date\",\"Title\",\"Artist\",\"Rank\", \"SpotifyID\"])\n",
    "\n",
    "spotifyIDForSongsCache = {} #stores spotify ids for songs that you already queried\n",
    "songsDSForAlbumCache = {} #stores DataFrame of Songs (Title,Artist,SpotifyID) from an Album\n",
    "\n",
    "#iterate through all song rows and find SpotifyID\n",
    "for index, row in songs.head(2).iterrows(): \n",
    "    songNameAndArtist = row['Title'] + \"-\" + row['Artist'] #used for key values on caches\n",
    "    if spotifyIDForSongsCache.get(songNameAndArtist) is not None: #if it exists in cache, use that instead\n",
    "        #print(songNameAndArtist + \" Used Song Cache\")\n",
    "        songID = spotifyIDForSongsCache[songNameAndArtist]\n",
    "        songs.SpotifyID.iloc[index] = songID\n",
    "        continue\n",
    "    if songsDSForAlbumCache.get(songNameAndArtist) is not None: #if it exists in cache, use that instead\n",
    "        #print(songNameAndArtist + \" Used Album Cache\")\n",
    "        songsFromAlbum = songsDSForAlbumCache[songNameAndArtist]\n",
    "        songsFromAlbum[\"Date\"] = row[\"Date\"]\n",
    "        songsFromAlbum[\"Rank\"] = row[\"Rank\"]\n",
    "        albumSongToAddDF = pd.concat([albumSongToAddDF,songsFromAlbum], ignore_index=True)\n",
    "        continue\n",
    "    \n",
    "    #get songID from Spotify Search API\n",
    "    trackResults = sp.search(q=row['Title'], type='track', market= 'US', limit=10,offset=0)\n",
    "    songID = getSongID(row['Title'], row['Artist'], trackResults)\n",
    "    #If songID is not found, we assume it is an album and search for its albumID\n",
    "    if  songID == None:\n",
    "        print(\"Finding Album\")\n",
    "        #Delete the row from songs DF that does not have spotifyID since they are an album\n",
    "        songsToDeleteDF = songsToDeleteDF.append(row, ignore_index=True)\n",
    "        searchResult = sp.search(q=row['Title'], type='album', market= 'US', limit=10,offset=0)\n",
    "        albumID = getAlbumID(row['Title'], row['Artist'], searchResult)\n",
    "        #If we find an albumID, we get all the songs from that album and add it to the DF\n",
    "\n",
    "        if albumID != None:\n",
    "            print(\"Finding songs\")\n",
    "            albumTracksResults = sp.album_tracks(albumID)\n",
    "            songsFromAlbum = getAlbumSongs(row['Artist'],albumTracksResults)\n",
    "            #cache\n",
    "            keyToStore = songNameAndArtist\n",
    "            songsDSForAlbumCache[keyToStore] = songsFromAlbum\n",
    "            #add date and rank\n",
    "            songsFromAlbum[\"Date\"] = row[\"Date\"]\n",
    "            songsFromAlbum[\"Rank\"] = row[\"Rank\"]\n",
    "            \n",
    "            albumSongToAddDF = pd.concat([albumSongToAddDF,songsFromAlbum], ignore_index=True)\n",
    "    else:\n",
    "        #Add the spotifyID to an existing song\n",
    "        #cache \n",
    "        keyToStore = songNameAndArtist\n",
    "        spotifyIDForSongsCache[keyToStore] = songID\n",
    "        \n",
    "        songs.SpotifyID.iloc[index] = songID\n"
   ]
  },
  {
   "cell_type": "code",
   "execution_count": 17,
   "metadata": {},
   "outputs": [],
   "source": [
    "getAlbumID(row['Title'], row['Artist'], sp.search(q=\"Christmas\", type='album', market= 'US', limit=10,offset=0))"
   ]
  },
  {
   "cell_type": "code",
   "execution_count": null,
   "metadata": {},
   "outputs": [],
   "source": []
  }
 ],
 "metadata": {
  "kernelspec": {
   "display_name": "Python 3",
   "language": "python",
   "name": "python3"
  },
  "language_info": {
   "codemirror_mode": {
    "name": "ipython",
    "version": 3
   },
   "file_extension": ".py",
   "mimetype": "text/x-python",
   "name": "python",
   "nbconvert_exporter": "python",
   "pygments_lexer": "ipython3",
   "version": "3.8.5"
  }
 },
 "nbformat": 4,
 "nbformat_minor": 4
}
