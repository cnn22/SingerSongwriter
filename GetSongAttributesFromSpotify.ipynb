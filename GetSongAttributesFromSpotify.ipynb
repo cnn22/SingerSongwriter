{
 "cells": [
  {
   "cell_type": "code",
   "execution_count": 3,
   "metadata": {},
   "outputs": [],
   "source": [
    "import pandas as pd\n",
    "import pickle\n",
    "import spotipy\n",
    "from spotipy.oauth2 import SpotifyClientCredentials"
   ]
  },
  {
   "cell_type": "markdown",
   "metadata": {},
   "source": [
    "### Getting Song attributes from Spotify using Spotify API"
   ]
  },
  {
   "cell_type": "code",
   "execution_count": 4,
   "metadata": {},
   "outputs": [],
   "source": [
    "cid = \"\"\n",
    "secret = \"\"\n",
    "\n",
    "#initiating Spotify client\n",
    "client_credentials_manager = SpotifyClientCredentials(client_id = cid, client_secret = secret)\n",
    "sp = spotipy.Spotify(client_credentials_manager = client_credentials_manager)"
   ]
  },
  {
   "cell_type": "code",
   "execution_count": 5,
   "metadata": {},
   "outputs": [],
   "source": [
    "songs = pd.read_pickle(\"songsWithSpotifyID.pkl\")"
   ]
  },
  {
   "cell_type": "code",
   "execution_count": 6,
   "metadata": {},
   "outputs": [
    {
     "data": {
      "text/html": [
       "<div>\n",
       "<style scoped>\n",
       "    .dataframe tbody tr th:only-of-type {\n",
       "        vertical-align: middle;\n",
       "    }\n",
       "\n",
       "    .dataframe tbody tr th {\n",
       "        vertical-align: top;\n",
       "    }\n",
       "\n",
       "    .dataframe thead th {\n",
       "        text-align: right;\n",
       "    }\n",
       "</style>\n",
       "<table border=\"1\" class=\"dataframe\">\n",
       "  <thead>\n",
       "    <tr style=\"text-align: right;\">\n",
       "      <th></th>\n",
       "      <th>Title</th>\n",
       "      <th>Artist</th>\n",
       "      <th>SpotifyID</th>\n",
       "    </tr>\n",
       "  </thead>\n",
       "  <tbody>\n",
       "    <tr>\n",
       "      <th>0</th>\n",
       "      <td>Fine Line</td>\n",
       "      <td>Harry Styles</td>\n",
       "      <td>6VzcQuzTNTMFnJ6rBSaLH9</td>\n",
       "    </tr>\n",
       "    <tr>\n",
       "      <th>1</th>\n",
       "      <td>Hollywood's Bleeding</td>\n",
       "      <td>Post Malone</td>\n",
       "      <td>7sWRlDoTDX8geTR8zzr2vt</td>\n",
       "    </tr>\n",
       "    <tr>\n",
       "      <th>2</th>\n",
       "      <td>Lover</td>\n",
       "      <td>Taylor Swift</td>\n",
       "      <td>1dGr1c8CrMLDpV6mPbImSI</td>\n",
       "    </tr>\n",
       "    <tr>\n",
       "      <th>3</th>\n",
       "      <td>Rudolph The Red-Nosed Reindeer</td>\n",
       "      <td>Burl Ives</td>\n",
       "      <td>47otoIkhx3fkdivEXL5OB6</td>\n",
       "    </tr>\n",
       "    <tr>\n",
       "      <th>4</th>\n",
       "      <td>What You See Is What You Get</td>\n",
       "      <td>Luke Combs</td>\n",
       "      <td>273TiTHLlHSRe5zrzs7wvD</td>\n",
       "    </tr>\n",
       "  </tbody>\n",
       "</table>\n",
       "</div>"
      ],
      "text/plain": [
       "                            Title        Artist               SpotifyID\n",
       "0                       Fine Line  Harry Styles  6VzcQuzTNTMFnJ6rBSaLH9\n",
       "1            Hollywood's Bleeding   Post Malone  7sWRlDoTDX8geTR8zzr2vt\n",
       "2                           Lover  Taylor Swift  1dGr1c8CrMLDpV6mPbImSI\n",
       "3  Rudolph The Red-Nosed Reindeer     Burl Ives  47otoIkhx3fkdivEXL5OB6\n",
       "4    What You See Is What You Get    Luke Combs  273TiTHLlHSRe5zrzs7wvD"
      ]
     },
     "execution_count": 6,
     "metadata": {},
     "output_type": "execute_result"
    }
   ],
   "source": [
    "songs.head()"
   ]
  },
  {
   "cell_type": "code",
   "execution_count": 7,
   "metadata": {},
   "outputs": [],
   "source": [
    "#initialize the columns\n",
    "songs[\"Tempo\"] = None\n",
    "songs[\"Loudness\"] = None\n",
    "songs[\"Key\"] = None\n",
    "songs[\"isExplicit\"] = None\n",
    "songs[\"Duration\"] = None\n",
    "songs[\"ReleaseDate\"] = None"
   ]
  },
  {
   "cell_type": "code",
   "execution_count": 8,
   "metadata": {},
   "outputs": [],
   "source": [
    "#getExplicit function that takes in a songID and returns if the song is explicit or not\n",
    "def getExplicit(songID):\n",
    "    return sp.track(songID)['explicit']"
   ]
  },
  {
   "cell_type": "code",
   "execution_count": 9,
   "metadata": {},
   "outputs": [],
   "source": [
    "#getTrackAttributes function that takes in a songID and returns song attributes such as, Tempo, Loudness, Key and Duration\n",
    "def getTrackAttributes(songID):\n",
    "    return sp.audio_features(tracks=songID)[0]"
   ]
  },
  {
   "cell_type": "code",
   "execution_count": 10,
   "metadata": {},
   "outputs": [],
   "source": [
    "#def getReleaseDate takes a songID\n",
    "#and uses the spotify API to allocate the release date of the song's album (assuming that album release date = song's release date)\n",
    "def getReleaseDate(songID):\n",
    "    return sp.track(songID)[\"album\"]['release_date']"
   ]
  },
  {
   "cell_type": "code",
   "execution_count": 11,
   "metadata": {},
   "outputs": [],
   "source": [
    "#getSongKey function that takes in a pitch class and returns the key. Reference: https://en.wikipedia.org/wiki/Pitch_class\n",
    "def getSongKey(pitchClass):\n",
    "    if pitchClass == 0:\n",
    "        return 'C'\n",
    "    elif pitchClass == 1:\n",
    "        return 'C#, Db'\n",
    "    elif pitchClass == 2:\n",
    "        return 'D'\n",
    "    elif pitchClass == 3:\n",
    "        return 'D#, Eb'\n",
    "    elif pitchClass == 4:\n",
    "        return 'E'\n",
    "    elif pitchClass == 5:\n",
    "        return 'F'\n",
    "    elif pitchClass == 6:\n",
    "        return 'F#, Gb'\n",
    "    elif pitchClass == 7:\n",
    "        return 'G'\n",
    "    elif pitchClass == 8:\n",
    "        return 'G#, Ab'\n",
    "    elif pitchClass == 9:\n",
    "        return 'A'\n",
    "    elif pitchClass == 10:\n",
    "        return 'A# Bb'\n",
    "    elif pitchClass == 11:\n",
    "        return 'B'\n",
    "    else: return None"
   ]
  },
  {
   "cell_type": "code",
   "execution_count": 1,
   "metadata": {
    "scrolled": true
   },
   "outputs": [],
   "source": [
    "#iteratte through songs in songs data frame (which we pulled from billboard.com) to grab song attributes\n",
    "#using Spotify's API for things like, isExplicit, tempo, loudness, duration, release date.\n",
    "\n",
    "for index, row in songs.iterrows():\n",
    "    \n",
    "    #get explicit attribute from Get Track API\n",
    "    explicitValue = getExplicit(row['SpotifyID'])\n",
    "    attributes = getTrackAttributes(row['SpotifyID'])\n",
    "    \n",
    "    #filling in values\n",
    "    songs.isExplicit.iloc[index] = explicitValue\n",
    "    songs.Tempo.iloc[index] = attributes['tempo']\n",
    "    songs.Loudness.iloc[index] = attributes['loudness']\n",
    "    songs.Duration.iloc[index] = attributes['duration_ms']/1000 #converting from milliseconds to seconds\n",
    "    songs.Key.iloc[index] = getSongKey(attributes['key'])\n",
    "    \n",
    "    songs.ReleaseDate.iloc[index] = getReleaseDate(row['SpotifyID'])"
   ]
  },
  {
   "cell_type": "code",
   "execution_count": 14,
   "metadata": {},
   "outputs": [
    {
     "data": {
      "text/html": [
       "<div>\n",
       "<style scoped>\n",
       "    .dataframe tbody tr th:only-of-type {\n",
       "        vertical-align: middle;\n",
       "    }\n",
       "\n",
       "    .dataframe tbody tr th {\n",
       "        vertical-align: top;\n",
       "    }\n",
       "\n",
       "    .dataframe thead th {\n",
       "        text-align: right;\n",
       "    }\n",
       "</style>\n",
       "<table border=\"1\" class=\"dataframe\">\n",
       "  <thead>\n",
       "    <tr style=\"text-align: right;\">\n",
       "      <th></th>\n",
       "      <th>Title</th>\n",
       "      <th>Artist</th>\n",
       "      <th>SpotifyID</th>\n",
       "      <th>Tempo</th>\n",
       "      <th>Loudness</th>\n",
       "      <th>Key</th>\n",
       "      <th>isExplicit</th>\n",
       "      <th>Duration</th>\n",
       "      <th>ReleaseDate</th>\n",
       "    </tr>\n",
       "  </thead>\n",
       "  <tbody>\n",
       "    <tr>\n",
       "      <th>0</th>\n",
       "      <td>Fine Line</td>\n",
       "      <td>Harry Styles</td>\n",
       "      <td>6VzcQuzTNTMFnJ6rBSaLH9</td>\n",
       "      <td>120.996</td>\n",
       "      <td>-8.5</td>\n",
       "      <td>D</td>\n",
       "      <td>False</td>\n",
       "      <td>377.96</td>\n",
       "      <td>2019-12-13</td>\n",
       "    </tr>\n",
       "    <tr>\n",
       "      <th>1</th>\n",
       "      <td>Hollywood's Bleeding</td>\n",
       "      <td>Post Malone</td>\n",
       "      <td>7sWRlDoTDX8geTR8zzr2vt</td>\n",
       "      <td>130.218</td>\n",
       "      <td>-3.206</td>\n",
       "      <td>E</td>\n",
       "      <td>False</td>\n",
       "      <td>156.267</td>\n",
       "      <td>2019-09-06</td>\n",
       "    </tr>\n",
       "    <tr>\n",
       "      <th>2</th>\n",
       "      <td>Lover</td>\n",
       "      <td>Taylor Swift</td>\n",
       "      <td>1dGr1c8CrMLDpV6mPbImSI</td>\n",
       "      <td>68.534</td>\n",
       "      <td>-7.582</td>\n",
       "      <td>G</td>\n",
       "      <td>False</td>\n",
       "      <td>221.307</td>\n",
       "      <td>2019-08-23</td>\n",
       "    </tr>\n",
       "    <tr>\n",
       "      <th>3</th>\n",
       "      <td>Rudolph The Red-Nosed Reindeer</td>\n",
       "      <td>Burl Ives</td>\n",
       "      <td>47otoIkhx3fkdivEXL5OB6</td>\n",
       "      <td>152.649</td>\n",
       "      <td>-12.755</td>\n",
       "      <td>C</td>\n",
       "      <td>False</td>\n",
       "      <td>130.027</td>\n",
       "      <td>1965-01-01</td>\n",
       "    </tr>\n",
       "    <tr>\n",
       "      <th>4</th>\n",
       "      <td>What You See Is What You Get</td>\n",
       "      <td>Luke Combs</td>\n",
       "      <td>273TiTHLlHSRe5zrzs7wvD</td>\n",
       "      <td>103.949</td>\n",
       "      <td>-4.892</td>\n",
       "      <td>F</td>\n",
       "      <td>False</td>\n",
       "      <td>171.92</td>\n",
       "      <td>2019-11-08</td>\n",
       "    </tr>\n",
       "  </tbody>\n",
       "</table>\n",
       "</div>"
      ],
      "text/plain": [
       "                            Title        Artist               SpotifyID  \\\n",
       "0                       Fine Line  Harry Styles  6VzcQuzTNTMFnJ6rBSaLH9   \n",
       "1            Hollywood's Bleeding   Post Malone  7sWRlDoTDX8geTR8zzr2vt   \n",
       "2                           Lover  Taylor Swift  1dGr1c8CrMLDpV6mPbImSI   \n",
       "3  Rudolph The Red-Nosed Reindeer     Burl Ives  47otoIkhx3fkdivEXL5OB6   \n",
       "4    What You See Is What You Get    Luke Combs  273TiTHLlHSRe5zrzs7wvD   \n",
       "\n",
       "     Tempo Loudness Key isExplicit Duration ReleaseDate  \n",
       "0  120.996     -8.5   D      False   377.96  2019-12-13  \n",
       "1  130.218   -3.206   E      False  156.267  2019-09-06  \n",
       "2   68.534   -7.582   G      False  221.307  2019-08-23  \n",
       "3  152.649  -12.755   C      False  130.027  1965-01-01  \n",
       "4  103.949   -4.892   F      False   171.92  2019-11-08  "
      ]
     },
     "execution_count": 14,
     "metadata": {},
     "output_type": "execute_result"
    }
   ],
   "source": [
    "songs.head()"
   ]
  },
  {
   "cell_type": "code",
   "execution_count": 16,
   "metadata": {},
   "outputs": [],
   "source": [
    "#songs.to_pickle('songsWithAttributes3.7.pkl')"
   ]
  }
 ],
 "metadata": {
  "kernelspec": {
   "display_name": "Python 3",
   "language": "python",
   "name": "python3"
  },
  "language_info": {
   "codemirror_mode": {
    "name": "ipython",
    "version": 3
   },
   "file_extension": ".py",
   "mimetype": "text/x-python",
   "name": "python",
   "nbconvert_exporter": "python",
   "pygments_lexer": "ipython3",
   "version": "3.8.8"
  }
 },
 "nbformat": 4,
 "nbformat_minor": 4
}
