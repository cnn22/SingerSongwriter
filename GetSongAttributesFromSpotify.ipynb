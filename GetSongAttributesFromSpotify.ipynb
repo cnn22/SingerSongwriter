{
 "cells": [
  {
   "cell_type": "code",
   "execution_count": null,
   "metadata": {},
   "outputs": [],
   "source": [
    "#tempo\n",
    "#loudness\n",
    "#camelot\n",
    "#explicit\n",
    "#duration / 1000\n",
    "\n",
    "\n",
    "#TODO:\n",
    "#1) Read songsWithSpotifyID.pkl\n",
    "#2) Add Columns \"Tempo\", \"Loudness\", \"isExplicit\", \"camelot\", \"duration\"\n",
    "#3) Loop through each rows from the dataframe and use its SpotifyID to perform next two steps\n",
    "#4) Use the TrackAPI for explicitness\n",
    "#5) Use the Track Attribute API for tempo, loudness, camelot, duration/1000\n",
    "#6) Under SpotifyAPI the camelot is under the \"key\" variable that we need to convert using https://en.wikipedia.org/wiki/Pitch_class\n"
   ]
  }
 ],
 "metadata": {
  "kernelspec": {
   "display_name": "Python 3",
   "language": "python",
   "name": "python3"
  },
  "language_info": {
   "codemirror_mode": {
    "name": "ipython",
    "version": 3
   },
   "file_extension": ".py",
   "mimetype": "text/x-python",
   "name": "python",
   "nbconvert_exporter": "python",
   "pygments_lexer": "ipython3",
   "version": "3.8.5"
  }
 },
 "nbformat": 4,
 "nbformat_minor": 4
}
