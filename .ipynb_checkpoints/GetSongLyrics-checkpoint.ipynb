{
 "cells": [
  {
   "cell_type": "code",
   "execution_count": 12,
   "metadata": {},
   "outputs": [],
   "source": [
    "import pandas as pd\n",
    "import pickle\n",
    "from lyricsgenius import Genius"
   ]
  },
  {
   "cell_type": "code",
   "execution_count": 1,
   "metadata": {},
   "outputs": [],
   "source": [
    "# !pip install lyricsgenius"
   ]
  },
  {
   "cell_type": "markdown",
   "metadata": {},
   "source": [
    "### Get song lyrics for each song from Genius using Genius API"
   ]
  },
  {
   "cell_type": "code",
   "execution_count": 65,
   "metadata": {},
   "outputs": [],
   "source": [
    "clientid = \"\"\n",
    "token = \"\"\n",
    "\n",
    "#instantiating genius client\n",
    "genius = Genius(token)\n",
    "genius.remove_section_headers = True\n",
    "genius.skip_non_songs = True"
   ]
  },
  {
   "cell_type": "code",
   "execution_count": 93,
   "metadata": {},
   "outputs": [],
   "source": [
    "#finding all the indexes of a word in a sentence. \n",
    "def findAllIndex(word, sentence):\n",
    "    result = []\n",
    "    index = 0;\n",
    "    while index < len(sentence):\n",
    "        index = sentence.find(word, index)\n",
    "        if index == -1:\n",
    "            break\n",
    "        result.append(index)\n",
    "        index += len(word)\n",
    "    return result\n",
    "\n",
    "#addSlashToApostrophe takes in a string and adds two slashes after the apostrop\n",
    "#Before: \"Elyse's Girl's Damn's Try's\"\n",
    "#After: \"Elyse'\\\\s Girl'\\\\s Damn'\\\\s Try'\\\\s\"\n",
    "def addSlashToApostrophe(string):\n",
    "    indexes = findAllIndex(\"'\", string)\n",
    "    repl_char = \"'\\\\\"\n",
    "    res = [repl_char if idx in indexes else ele for idx, ele in enumerate(list(string))]\n",
    "    res = ''.join(res)\n",
    "    return res\n",
    "\n",
    "#getLyrics takes the artist's name, and song name.\n",
    "#passes in the artist name and song name into genius API \n",
    "#to retrieve the lyrics\n",
    "def getLyrics(artistName, songName):\n",
    "    result = genius.search_song(songName, artistName) \n",
    "    if result is not None:\n",
    "        return result.lyrics\n",
    "    else:\n",
    "        if \"'\" in artistName:\n",
    "            artistName = addSlashToApostrophe(artistName) #add slash where there's an apostrophe to artist name\n",
    "        if \"'\" in songName:\n",
    "            songName = addSlashToApostrophe(songName)#add slash where there's an apostrophe to song name\n",
    "        result = genius.search_song(songName, artistName)\n",
    "        if result is not None: #could not retrieve lyrics\n",
    "            return result.lyrics\n",
    "        return None"
   ]
  },
  {
   "cell_type": "code",
   "execution_count": 67,
   "metadata": {},
   "outputs": [],
   "source": [
    "songs = pd.read_pickle('songsWithAttributes3.7.pkl')\n",
    "songs[\"Lyrics\"] = None"
   ]
  },
  {
   "cell_type": "code",
   "execution_count": 173,
   "metadata": {},
   "outputs": [],
   "source": [
    "#iterate through songs data frame to grab lyrics\n",
    "for index, row in songs.iterrows(): \n",
    "    #to prevent grabbing lyrics for the same songs that we've already pulled\n",
    "    if row['Lyrics'] is not None or row['Lyrics'] == \"NOT FOUND\": \n",
    "        continue\n",
    "    result = getLyrics(row['Artist'],row['Title'])\n",
    "    if result is None: #genius couldn't find the song...\n",
    "        result = \"NOT FOUND\"\n",
    "    songs.Lyrics.iloc[index] = result"
   ]
  },
  {
   "cell_type": "code",
   "execution_count": 174,
   "metadata": {},
   "outputs": [],
   "source": [
    "songs.to_pickle('songsWithLyricsTemp.pkl')"
   ]
  }
 ],
 "metadata": {
  "kernelspec": {
   "display_name": "Python 3",
   "language": "python",
   "name": "python3"
  },
  "language_info": {
   "codemirror_mode": {
    "name": "ipython",
    "version": 3
   },
   "file_extension": ".py",
   "mimetype": "text/x-python",
   "name": "python",
   "nbconvert_exporter": "python",
   "pygments_lexer": "ipython3",
   "version": "3.8.8"
  }
 },
 "nbformat": 4,
 "nbformat_minor": 4
}
