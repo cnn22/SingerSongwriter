{
 "cells": [
  {
   "cell_type": "code",
   "execution_count": 1,
   "metadata": {},
   "outputs": [],
   "source": [
    "import pandas as pd\n",
    "import pickle\n",
    "import unicodedata\n",
    "import spotipy\n",
    "from spotipy.oauth2 import SpotifyClientCredentials"
   ]
  },
  {
   "cell_type": "code",
   "execution_count": 18,
   "metadata": {},
   "outputs": [],
   "source": [
    "songs = pd.read_pickle('songsWeeklyRanks.pkl')"
   ]
  },
  {
   "cell_type": "code",
   "execution_count": 19,
   "metadata": {},
   "outputs": [],
   "source": [
    "songs[\"SpotifyID\"] = None"
   ]
  },
  {
   "cell_type": "code",
   "execution_count": 20,
   "metadata": {},
   "outputs": [],
   "source": [
    "cid = \"\"\n",
    "secret = \"\"\n",
    "\n",
    "#initiating Spotify client\n",
    "client_credentials_manager = SpotifyClientCredentials(client_id = cid, client_secret = secret)\n",
    "sp = spotipy.Spotify(client_credentials_manager = client_credentials_manager)"
   ]
  },
  {
   "cell_type": "code",
   "execution_count": 11,
   "metadata": {},
   "outputs": [],
   "source": [
    "#removes special characters such as \"é,ñ\" for example \"Michael Bublé\" to \"Michael Buble\"\n",
    "def getStringWithoutSpecialAccent(string):\n",
    "    return ''.join((c for c in unicodedata.normalize('NFD', string) if unicodedata.category(c) != 'Mn'))\n",
    "\n",
    "#getSongID takes track's name, track's Artist, and track results\n",
    "#iterate through the track results to get the name in what spotify returned and\n",
    "# test those results against what song and artist we have in the data frame\n",
    "def getSongID(trackName, trackArtist, trackResults):\n",
    "    for track in trackResults['tracks']['items']:\n",
    "        if (track['name'].lower() == trackName.lower()) & (track['artists'][0]['name'].lower() == trackArtist.lower()):\n",
    "            return track['id']\n",
    "    return None\n",
    "\n",
    "#getAlbumID takes in album's name, artist, and search results (which contains the search results after searching\n",
    "#for the album using the spotify API)\n",
    "def getAlbumID(albumName, albumArtist, searchResult):\n",
    "    for album in searchResult['albums']['items']:\n",
    "        searchResultAlbumName  = getStringWithoutSpecialAccent(album['name'].lower()) #what spotify gave us\n",
    "        queryAlbumName         = getStringWithoutSpecialAccent(albumName.lower()) #what we have in the data\n",
    "        searchResultArtistName = getStringWithoutSpecialAccent(album['artists'][0]['name'].lower())\n",
    "        queryArtistName        = getStringWithoutSpecialAccent(albumArtist.lower())\n",
    "        if searchResultArtistName == queryArtistName: #validating that what spotify returned is what we are looking for\n",
    "            if queryAlbumName in searchResultAlbumName: #the results match\n",
    "                return album['id']\n",
    "        \n",
    "            \n",
    "    return None\n",
    "\n",
    "#getAlbumSongs takes in album's artist and the album track results (which is a list of )\n",
    "#it gets the songs in the album and returns it\n",
    "def getAlbumSongs(albumArtist, albumTracksResults):\n",
    "    albumSongDF = pd.DataFrame(columns=[\"Title\",\"Artist\", \"SpotifyID\"])\n",
    "    for songs in albumTracksResults['items']:\n",
    "        newRow = pd.Series(data={\"Title\": songs['name'],\"Artist\": albumArtist, \"SpotifyID\": songs['id']})\n",
    "        albumSongDF = albumSongDF.append(newRow, ignore_index=True)\n",
    "    return albumSongDF"
   ]
  },
  {
   "cell_type": "code",
   "execution_count": 51,
   "metadata": {},
   "outputs": [],
   "source": [
    "##create two df\n",
    "songsToDeleteDF = pd.DataFrame(columns=[\"Title\",\"Artist\", \"SpotifyID\"])\n",
    "albumSongToAddDF = pd.DataFrame(columns=[\"Date\",\"Title\",\"Artist\",\"Rank\", \"SpotifyID\"])\n",
    "\n",
    "spotifyIDForSongsCache = {} #stores spotify ids for songs that you already queried\n",
    "songsDSForAlbumCache = {} #stores DataFrame of Songs (Title,Artist,SpotifyID) from an Album\n",
    "\n",
    "#iterate through all song rows and find SpotifyID\n",
    "for index, row in songs.iterrows(): \n",
    "    songNameAndArtist = row['Title'] + \"-\" + row['Artist'] #used for key values on caches\n",
    "    if spotifyIDForSongsCache.get(songNameAndArtist) is not None: #if it exists in cache, use that instead\n",
    "        #print(songNameAndArtist + \" Used Song Cache\")\n",
    "        songID = spotifyIDForSongsCache[songNameAndArtist]\n",
    "        songs.SpotifyID.iloc[index] = songID\n",
    "        continue\n",
    "    if songsDSForAlbumCache.get(songNameAndArtist) is not None: #if it exists in cache, use that instead\n",
    "        #print(songNameAndArtist + \" Used Album Cache\")\n",
    "        songsFromAlbum = songsDSForAlbumCache[songNameAndArtist]\n",
    "        songsFromAlbum[\"Date\"] = row[\"Date\"]\n",
    "        songsFromAlbum[\"Rank\"] = row[\"Rank\"]\n",
    "        albumSongToAddDF = pd.concat([albumSongToAddDF,songsFromAlbum], ignore_index=True)\n",
    "        continue\n",
    "    \n",
    "    #get songID from Spotify Search API\n",
    "    trackResults = sp.search(q=row['Title'], type='track', market= 'US', limit=10,offset=0)\n",
    "    songID = getSongID(row['Title'], row['Artist'], trackResults)\n",
    "    #If songID is not found, we assume it is an album and search for its albumID\n",
    "    if  songID == None:\n",
    "        #Delete the row from songs DF that does not have spotifyID since they are an album\n",
    "        songsToDeleteDF = songsToDeleteDF.append(row, ignore_index=True)\n",
    "        searchResult = sp.search(q=row['Title'], type='album', market= 'US', limit=10,offset=0) #search results for album\n",
    "        albumID = getAlbumID(row['Title'], row['Artist'], searchResult) #parse results\n",
    "        #If we find an albumID, we get all the songs from that album and add it to the DF\n",
    "        if albumID != None:\n",
    "            albumTracksResults = sp.album_tracks(albumID)\n",
    "            songsFromAlbum = getAlbumSongs(row['Artist'],albumTracksResults)\n",
    "            #cache\n",
    "            keyToStore = songNameAndArtist\n",
    "            songsDSForAlbumCache[keyToStore] = songsFromAlbum\n",
    "            #add date and rank\n",
    "            songsFromAlbum[\"Date\"] = row[\"Date\"]\n",
    "            songsFromAlbum[\"Rank\"] = row[\"Rank\"]\n",
    "            \n",
    "            albumSongToAddDF = pd.concat([albumSongToAddDF,songsFromAlbum], ignore_index=True)\n",
    "    else:\n",
    "        #Add the spotifyID to an existing song\n",
    "        #cache \n",
    "        keyToStore = songNameAndArtist\n",
    "        spotifyIDForSongsCache[keyToStore] = songID\n",
    "        \n",
    "        songs.SpotifyID.iloc[index] = songID\n"
   ]
  },
  {
   "cell_type": "code",
   "execution_count": 22,
   "metadata": {},
   "outputs": [
    {
     "data": {
      "text/html": [
       "<div>\n",
       "<style scoped>\n",
       "    .dataframe tbody tr th:only-of-type {\n",
       "        vertical-align: middle;\n",
       "    }\n",
       "\n",
       "    .dataframe tbody tr th {\n",
       "        vertical-align: top;\n",
       "    }\n",
       "\n",
       "    .dataframe thead th {\n",
       "        text-align: right;\n",
       "    }\n",
       "</style>\n",
       "<table border=\"1\" class=\"dataframe\">\n",
       "  <thead>\n",
       "    <tr style=\"text-align: right;\">\n",
       "      <th></th>\n",
       "      <th>Date</th>\n",
       "      <th>Title</th>\n",
       "      <th>Artist</th>\n",
       "      <th>Rank</th>\n",
       "      <th>SpotifyID</th>\n",
       "    </tr>\n",
       "  </thead>\n",
       "  <tbody>\n",
       "    <tr>\n",
       "      <th>0</th>\n",
       "      <td>2020-01-01</td>\n",
       "      <td>Fine Line</td>\n",
       "      <td>Harry Styles</td>\n",
       "      <td>1</td>\n",
       "      <td>6VzcQuzTNTMFnJ6rBSaLH9</td>\n",
       "    </tr>\n",
       "    <tr>\n",
       "      <th>5</th>\n",
       "      <td>2020-01-01</td>\n",
       "      <td>Hollywood's Bleeding</td>\n",
       "      <td>Post Malone</td>\n",
       "      <td>6</td>\n",
       "      <td>7sWRlDoTDX8geTR8zzr2vt</td>\n",
       "    </tr>\n",
       "    <tr>\n",
       "      <th>10</th>\n",
       "      <td>2020-01-01</td>\n",
       "      <td>Lover</td>\n",
       "      <td>Taylor Swift</td>\n",
       "      <td>11</td>\n",
       "      <td>1dGr1c8CrMLDpV6mPbImSI</td>\n",
       "    </tr>\n",
       "    <tr>\n",
       "      <th>15</th>\n",
       "      <td>2020-01-01</td>\n",
       "      <td>Rudolph The Red-Nosed Reindeer</td>\n",
       "      <td>Burl Ives</td>\n",
       "      <td>16</td>\n",
       "      <td>47otoIkhx3fkdivEXL5OB6</td>\n",
       "    </tr>\n",
       "    <tr>\n",
       "      <th>18</th>\n",
       "      <td>2020-01-01</td>\n",
       "      <td>What You See Is What You Get</td>\n",
       "      <td>Luke Combs</td>\n",
       "      <td>19</td>\n",
       "      <td>273TiTHLlHSRe5zrzs7wvD</td>\n",
       "    </tr>\n",
       "  </tbody>\n",
       "</table>\n",
       "</div>"
      ],
      "text/plain": [
       "          Date                           Title        Artist Rank  \\\n",
       "0   2020-01-01                       Fine Line  Harry Styles    1   \n",
       "5   2020-01-01            Hollywood's Bleeding   Post Malone    6   \n",
       "10  2020-01-01                           Lover  Taylor Swift   11   \n",
       "15  2020-01-01  Rudolph The Red-Nosed Reindeer     Burl Ives   16   \n",
       "18  2020-01-01    What You See Is What You Get    Luke Combs   19   \n",
       "\n",
       "                 SpotifyID  \n",
       "0   6VzcQuzTNTMFnJ6rBSaLH9  \n",
       "5   7sWRlDoTDX8geTR8zzr2vt  \n",
       "10  1dGr1c8CrMLDpV6mPbImSI  \n",
       "15  47otoIkhx3fkdivEXL5OB6  \n",
       "18  273TiTHLlHSRe5zrzs7wvD  "
      ]
     },
     "execution_count": 22,
     "metadata": {},
     "output_type": "execute_result"
    }
   ],
   "source": [
    "songs[\"Rank\"] = pd.to_numeric(songs[\"Rank\"], downcast = 'integer')\n",
    "songs = pd.concat([songs,albumSongToAddDF],ignore_index=True) #add the album songs into the song DF\n",
    "songs = songs[~songs.Title.isin(songsToDeleteDF.Title)].copy() #remove album or song without spotifyID from songs DF\n",
    "songs.head()"
   ]
  },
  {
   "cell_type": "code",
   "execution_count": 48,
   "metadata": {
    "scrolled": true
   },
   "outputs": [],
   "source": [
    "songs.sort_values(by=[\"Date\", \"Rank\"],inplace=True, ignore_index = True) #sorting the DF by date and rank"
   ]
  },
  {
   "cell_type": "code",
   "execution_count": 50,
   "metadata": {},
   "outputs": [],
   "source": [
    "songs.to_pickle('songsWeeklyRanksWithSpotifyID.pkl')"
   ]
  },
  {
   "cell_type": "code",
   "execution_count": null,
   "metadata": {},
   "outputs": [],
   "source": []
  }
 ],
 "metadata": {
  "kernelspec": {
   "display_name": "Python 3",
   "language": "python",
   "name": "python3"
  },
  "language_info": {
   "codemirror_mode": {
    "name": "ipython",
    "version": 3
   },
   "file_extension": ".py",
   "mimetype": "text/x-python",
   "name": "python",
   "nbconvert_exporter": "python",
   "pygments_lexer": "ipython3",
   "version": "3.8.8"
  }
 },
 "nbformat": 4,
 "nbformat_minor": 4
}
