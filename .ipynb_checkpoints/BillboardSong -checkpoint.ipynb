{
 "cells": [
  {
   "cell_type": "code",
   "execution_count": 2,
   "metadata": {},
   "outputs": [],
   "source": [
    "# Web scraping, pickle imports\n",
    "import requests\n",
    "from bs4 import BeautifulSoup\n",
    "import pickle\n",
    "import pandas as pd\n",
    "from datetime import datetime\n",
    "import string\n",
    "from functools import reduce"
   ]
  },
  {
   "cell_type": "code",
   "execution_count": 22,
   "metadata": {},
   "outputs": [
    {
     "data": {
      "text/plain": [
       "286"
      ]
     },
     "execution_count": 22,
     "metadata": {},
     "output_type": "execute_result"
    }
   ],
   "source": [
    "SONG_TITLE_KEY = \"chart-element__information__song text--truncate color--primary\"\n",
    "SONG_ARTIST_KEY = \"chart-element__information__artist text--truncate color--secondary\"\n",
    "SONG_ELEMENT_KEY = \"chart-element__information\"\n",
    "urlBase = \"https://www.billboard.com/charts/billboard-200\"\n",
    "\n",
    "songDictionary = {}\n",
    "def getSongs(url):\n",
    "    page = requests.get(url).text\n",
    "    soup = BeautifulSoup(page, \"lxml\")\n",
    "    for element in soup.find_all(class_ = SONG_ELEMENT_KEY):\n",
    "        songName = element.find(class_ = SONG_TITLE_KEY).text #not unique\n",
    "        songArtist = element.find(class_ = SONG_ARTIST_KEY).text #not unique \n",
    "        songTuple = (songName, songArtist)\n",
    "        if songTuple not in songDictionary:\n",
    "            songDictionary[songTuple] = songTuple\n",
    "\n",
    "getSongs(urlBase)\n",
    "getSongs(\"https://www.billboard.com/charts/billboard-200/2020-09-12\")\n",
    "len(songDictionary)\n",
    "\n",
    "\n",
    "#get today's date\n",
    "#get today's date minus 7\n",
    "#get all the songs that were in the top 200 from 01/07/2021 - > 01/01/2020"
   ]
  },
  {
   "cell_type": "code",
   "execution_count": null,
   "metadata": {},
   "outputs": [],
   "source": []
  }
 ],
 "metadata": {
  "kernelspec": {
   "display_name": "Python 3",
   "language": "python",
   "name": "python3"
  },
  "language_info": {
   "codemirror_mode": {
    "name": "ipython",
    "version": 3
   },
   "file_extension": ".py",
   "mimetype": "text/x-python",
   "name": "python",
   "nbconvert_exporter": "python",
   "pygments_lexer": "ipython3",
   "version": "3.8.3"
  }
 },
 "nbformat": 4,
 "nbformat_minor": 4
}
