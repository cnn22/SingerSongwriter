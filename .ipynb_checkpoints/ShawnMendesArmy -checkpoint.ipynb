{
 "cells": [
  {
   "cell_type": "code",
   "execution_count": null,
   "id": "b2eafc2f",
   "metadata": {},
   "outputs": [],
   "source": [
    "#! pip install textblob"
   ]
  },
  {
   "cell_type": "code",
   "execution_count": 15,
   "id": "7638d34b",
   "metadata": {},
   "outputs": [],
   "source": [
    "# import pandas as pd\n",
    "# import pickle\n",
    "# from textblob import TextBlob\n",
    "# import re \n",
    "# import string\n",
    "# from lyricsgenius import Genius\n",
    "# import matplotlib.pyplot as plt\n",
    "# from wordcloud import WordCloud, STOPWORDS"
   ]
  },
  {
   "cell_type": "code",
   "execution_count": 4,
   "id": "8ab7bc2f",
   "metadata": {},
   "outputs": [],
   "source": [
    "songAttributes = pd.read_pickle('songsWithLyrics.pkl')"
   ]
  },
  {
   "cell_type": "code",
   "execution_count": null,
   "id": "a6a80b1a",
   "metadata": {},
   "outputs": [],
   "source": [
    "clientid = ''\n",
    "token = ''\n",
    "\n",
    "#instantiate genius client\n",
    "genius = Genius(token)\n",
    "genius.remove_section_headers = True\n",
    "genius.skip_non_songs = True"
   ]
  },
  {
   "cell_type": "code",
   "execution_count": 1,
   "id": "32e0db9c",
   "metadata": {},
   "outputs": [],
   "source": [
    "#addSlashToApostrophe takes in a string and adds two slashes after the apostrop\n",
    "#Before: \"Elyse's Girl's Damn's Try's\"\n",
    "#After: \"Elyse'\\\\s Girl'\\\\s Damn'\\\\s Try'\\\\s\"\n",
    "def addSlashToApostrophe(string):\n",
    "    indexes = findAllIndex(\"'\", string)\n",
    "    repl_char = \"'\\\\\"\n",
    "    res = [repl_char if idx in indexes else ele for idx, ele in enumerate(list(string))]\n",
    "    res = ''.join(res)\n",
    "    return res\n",
    "\n",
    "#getLyrics takes the artist's name, and song name.\n",
    "#passes in the artist name and song name into genius API \n",
    "#to retrieve the lyrics\n",
    "def getLyrics(artistName, songName):\n",
    "    result = genius.search_song(songName, artistName)\n",
    "    if result is not None:\n",
    "        return result.lyrics\n",
    "    else:\n",
    "        if \"'\" in artistName:\n",
    "            artistName = addSlashToApostrophe(artistName) \n",
    "        if \"'\" in songName:\n",
    "            songName = addSlashToApostrophe(songName)\n",
    "        result = genius.search_song(songName, artistName)\n",
    "        if result is not None:\n",
    "            return result.lyrics\n",
    "        return None"
   ]
  },
  {
   "cell_type": "code",
   "execution_count": 6,
   "id": "2bfe60b2",
   "metadata": {},
   "outputs": [
    {
     "name": "stdout",
     "output_type": "stream",
     "text": [
      "Searching for \"Youth\" by Shawn Mendes...\n",
      "Done.\n"
     ]
    }
   ],
   "source": [
    "songAttributes.loc[songAttributes['Title'] == 'Youth (feat. Khalid)', ['Lyrics']] = getLyrics(\"Shawn Mendes\", \"Youth\")"
   ]
  },
  {
   "cell_type": "code",
   "execution_count": 7,
   "id": "993e5781",
   "metadata": {},
   "outputs": [
    {
     "name": "stdout",
     "output_type": "stream",
     "text": [
      "Searching for \"Like To Be You\" by Shawn Mendes...\n",
      "Done.\n"
     ]
    }
   ],
   "source": [
    "songAttributes.loc[songAttributes['Title'] == 'Like To Be You (feat. Julia Michaels)', ['Lyrics']] = getLyrics(\"Shawn Mendes\", \"Like To Be You\")"
   ]
  },
  {
   "cell_type": "code",
   "execution_count": 8,
   "id": "f6c1a780",
   "metadata": {},
   "outputs": [],
   "source": [
    "mendesArmyDF = songAttributes.loc[songAttributes.Artist == 'Shawn Mendes']"
   ]
  },
  {
   "cell_type": "code",
   "execution_count": 9,
   "id": "8b790b7b",
   "metadata": {},
   "outputs": [],
   "source": [
    "mendesArmyDF.to_pickle('mendesArmyDF.pkl')"
   ]
  },
  {
   "cell_type": "code",
   "execution_count": 8,
   "id": "a6e1e62b",
   "metadata": {},
   "outputs": [
    {
     "data": {
      "text/html": [
       "<div>\n",
       "<style scoped>\n",
       "    .dataframe tbody tr th:only-of-type {\n",
       "        vertical-align: middle;\n",
       "    }\n",
       "\n",
       "    .dataframe tbody tr th {\n",
       "        vertical-align: top;\n",
       "    }\n",
       "\n",
       "    .dataframe thead th {\n",
       "        text-align: right;\n",
       "    }\n",
       "</style>\n",
       "<table border=\"1\" class=\"dataframe\">\n",
       "  <thead>\n",
       "    <tr style=\"text-align: right;\">\n",
       "      <th></th>\n",
       "      <th>Title</th>\n",
       "      <th>Artist</th>\n",
       "      <th>SpotifyID</th>\n",
       "      <th>Tempo</th>\n",
       "      <th>Loudness</th>\n",
       "      <th>Key</th>\n",
       "      <th>isExplicit</th>\n",
       "      <th>Duration</th>\n",
       "      <th>ReleaseDate</th>\n",
       "      <th>Lyrics</th>\n",
       "    </tr>\n",
       "  </thead>\n",
       "  <tbody>\n",
       "    <tr>\n",
       "      <th>665</th>\n",
       "      <td>In My Blood</td>\n",
       "      <td>Shawn Mendes</td>\n",
       "      <td>2QZ7WLBE8h2y1Y5Fb8RYbH</td>\n",
       "      <td>140.025</td>\n",
       "      <td>-7.321</td>\n",
       "      <td>F</td>\n",
       "      <td>False</td>\n",
       "      <td>211.36</td>\n",
       "      <td>2018-05-25</td>\n",
       "      <td>Help me, it's like the walls are caving in\\nSo...</td>\n",
       "    </tr>\n",
       "    <tr>\n",
       "      <th>666</th>\n",
       "      <td>Fallin' All In You</td>\n",
       "      <td>Shawn Mendes</td>\n",
       "      <td>5EYBryPOgIEPB7r5QIy6eG</td>\n",
       "      <td>92.038</td>\n",
       "      <td>-6.696</td>\n",
       "      <td>G#, Ab</td>\n",
       "      <td>False</td>\n",
       "      <td>235.747</td>\n",
       "      <td>2018-05-25</td>\n",
       "      <td>Sunrise with you on my chest\\nNo blinds in the...</td>\n",
       "    </tr>\n",
       "    <tr>\n",
       "      <th>667</th>\n",
       "      <td>Where Were You In The Morning?</td>\n",
       "      <td>Shawn Mendes</td>\n",
       "      <td>376Gg7Oxo5C5jUWDWpVXeI</td>\n",
       "      <td>87.963</td>\n",
       "      <td>-7.472</td>\n",
       "      <td>G</td>\n",
       "      <td>False</td>\n",
       "      <td>200.6</td>\n",
       "      <td>2018-05-25</td>\n",
       "      <td>You said, \"I wanna get to know ya\"\\nWhy you go...</td>\n",
       "    </tr>\n",
       "    <tr>\n",
       "      <th>668</th>\n",
       "      <td>Nervous</td>\n",
       "      <td>Shawn Mendes</td>\n",
       "      <td>5wxurz8J6YlyQRNnGN8zXS</td>\n",
       "      <td>121.983</td>\n",
       "      <td>-6.76</td>\n",
       "      <td>C</td>\n",
       "      <td>False</td>\n",
       "      <td>164.147</td>\n",
       "      <td>2018-05-25</td>\n",
       "      <td>I saw you on a Sunday in a café\\nAnd all you d...</td>\n",
       "    </tr>\n",
       "    <tr>\n",
       "      <th>669</th>\n",
       "      <td>Like To Be You (feat. Julia Michaels)</td>\n",
       "      <td>Shawn Mendes</td>\n",
       "      <td>2IssBpPtHcViZL5vYQNHhA</td>\n",
       "      <td>153.766</td>\n",
       "      <td>-9.405</td>\n",
       "      <td>D</td>\n",
       "      <td>False</td>\n",
       "      <td>159.4</td>\n",
       "      <td>2018-05-25</td>\n",
       "      <td>\"Don't cry\" - or do\\nWhatever makes you comfor...</td>\n",
       "    </tr>\n",
       "    <tr>\n",
       "      <th>670</th>\n",
       "      <td>Lost In Japan</td>\n",
       "      <td>Shawn Mendes</td>\n",
       "      <td>79esEXlqqmq0GPz0xQSZTV</td>\n",
       "      <td>105.027</td>\n",
       "      <td>-6.784</td>\n",
       "      <td>A# Bb</td>\n",
       "      <td>False</td>\n",
       "      <td>201.2</td>\n",
       "      <td>2018-05-25</td>\n",
       "      <td>All it'd take is one flight\\nWe'd be in the sa...</td>\n",
       "    </tr>\n",
       "    <tr>\n",
       "      <th>671</th>\n",
       "      <td>Particular Taste</td>\n",
       "      <td>Shawn Mendes</td>\n",
       "      <td>4BH9zDv1Ys6kw0j3lU1hTx</td>\n",
       "      <td>111.968</td>\n",
       "      <td>-7.122</td>\n",
       "      <td>A</td>\n",
       "      <td>False</td>\n",
       "      <td>175.573</td>\n",
       "      <td>2018-05-25</td>\n",
       "      <td>She don't listen to a thing, 'less it feels ri...</td>\n",
       "    </tr>\n",
       "    <tr>\n",
       "      <th>672</th>\n",
       "      <td>Because I Had You</td>\n",
       "      <td>Shawn Mendes</td>\n",
       "      <td>1RRZSm4akqNyMOsPUhw4cb</td>\n",
       "      <td>203.231</td>\n",
       "      <td>-9.751</td>\n",
       "      <td>G</td>\n",
       "      <td>False</td>\n",
       "      <td>142.48</td>\n",
       "      <td>2018-05-25</td>\n",
       "      <td>I think it's time that I be honest\\nShould've ...</td>\n",
       "    </tr>\n",
       "    <tr>\n",
       "      <th>673</th>\n",
       "      <td>Why</td>\n",
       "      <td>Shawn Mendes</td>\n",
       "      <td>3XeqINnregzwBJNg7RyyH4</td>\n",
       "      <td>127.031</td>\n",
       "      <td>-9.247</td>\n",
       "      <td>C</td>\n",
       "      <td>False</td>\n",
       "      <td>238.173</td>\n",
       "      <td>2018-05-25</td>\n",
       "      <td>I know a girl, she's like a curse\\nWe want eac...</td>\n",
       "    </tr>\n",
       "    <tr>\n",
       "      <th>674</th>\n",
       "      <td>Youth (feat. Khalid)</td>\n",
       "      <td>Shawn Mendes</td>\n",
       "      <td>1h0yImRPIVAjhhHeNVlTuC</td>\n",
       "      <td>100.121</td>\n",
       "      <td>-6.653</td>\n",
       "      <td>F#, Gb</td>\n",
       "      <td>False</td>\n",
       "      <td>190.867</td>\n",
       "      <td>2018-05-25</td>\n",
       "      <td>Here I am, stuck on this couch scrolling throu...</td>\n",
       "    </tr>\n",
       "    <tr>\n",
       "      <th>675</th>\n",
       "      <td>Queen</td>\n",
       "      <td>Shawn Mendes</td>\n",
       "      <td>6D8FZWtCQRtQUVT3mpjrZs</td>\n",
       "      <td>131.02</td>\n",
       "      <td>-7.254</td>\n",
       "      <td>C#, Db</td>\n",
       "      <td>False</td>\n",
       "      <td>204.693</td>\n",
       "      <td>2018-05-25</td>\n",
       "      <td>It's hard to believe\\nYou don't remember me at...</td>\n",
       "    </tr>\n",
       "    <tr>\n",
       "      <th>676</th>\n",
       "      <td>Perfectly Wrong</td>\n",
       "      <td>Shawn Mendes</td>\n",
       "      <td>6nat4Z7iRKWVk1qngQqI0Q</td>\n",
       "      <td>89.362</td>\n",
       "      <td>-11.748</td>\n",
       "      <td>D</td>\n",
       "      <td>False</td>\n",
       "      <td>212.773</td>\n",
       "      <td>2018-05-25</td>\n",
       "      <td>Taste the poison from your lips\\nLately, we're...</td>\n",
       "    </tr>\n",
       "    <tr>\n",
       "      <th>677</th>\n",
       "      <td>Mutual</td>\n",
       "      <td>Shawn Mendes</td>\n",
       "      <td>5gW3kI83886nVV9apaFLWu</td>\n",
       "      <td>115.03</td>\n",
       "      <td>-6.697</td>\n",
       "      <td>B</td>\n",
       "      <td>False</td>\n",
       "      <td>148.36</td>\n",
       "      <td>2018-05-25</td>\n",
       "      <td>I want you close to me\\nI want you close, I wa...</td>\n",
       "    </tr>\n",
       "    <tr>\n",
       "      <th>678</th>\n",
       "      <td>When You're Ready</td>\n",
       "      <td>Shawn Mendes</td>\n",
       "      <td>6bNcbh4SxQDU0BHa4Dj3wx</td>\n",
       "      <td>171.479</td>\n",
       "      <td>-8.887</td>\n",
       "      <td>F</td>\n",
       "      <td>False</td>\n",
       "      <td>169.587</td>\n",
       "      <td>2018-05-25</td>\n",
       "      <td>Maybe I had too many drinks, but that's just w...</td>\n",
       "    </tr>\n",
       "  </tbody>\n",
       "</table>\n",
       "</div>"
      ],
      "text/plain": [
       "                                     Title        Artist  \\\n",
       "665                            In My Blood  Shawn Mendes   \n",
       "666                     Fallin' All In You  Shawn Mendes   \n",
       "667         Where Were You In The Morning?  Shawn Mendes   \n",
       "668                                Nervous  Shawn Mendes   \n",
       "669  Like To Be You (feat. Julia Michaels)  Shawn Mendes   \n",
       "670                          Lost In Japan  Shawn Mendes   \n",
       "671                       Particular Taste  Shawn Mendes   \n",
       "672                      Because I Had You  Shawn Mendes   \n",
       "673                                    Why  Shawn Mendes   \n",
       "674                   Youth (feat. Khalid)  Shawn Mendes   \n",
       "675                                  Queen  Shawn Mendes   \n",
       "676                        Perfectly Wrong  Shawn Mendes   \n",
       "677                                 Mutual  Shawn Mendes   \n",
       "678                      When You're Ready  Shawn Mendes   \n",
       "\n",
       "                  SpotifyID    Tempo Loudness     Key isExplicit Duration  \\\n",
       "665  2QZ7WLBE8h2y1Y5Fb8RYbH  140.025   -7.321       F      False   211.36   \n",
       "666  5EYBryPOgIEPB7r5QIy6eG   92.038   -6.696  G#, Ab      False  235.747   \n",
       "667  376Gg7Oxo5C5jUWDWpVXeI   87.963   -7.472       G      False    200.6   \n",
       "668  5wxurz8J6YlyQRNnGN8zXS  121.983    -6.76       C      False  164.147   \n",
       "669  2IssBpPtHcViZL5vYQNHhA  153.766   -9.405       D      False    159.4   \n",
       "670  79esEXlqqmq0GPz0xQSZTV  105.027   -6.784   A# Bb      False    201.2   \n",
       "671  4BH9zDv1Ys6kw0j3lU1hTx  111.968   -7.122       A      False  175.573   \n",
       "672  1RRZSm4akqNyMOsPUhw4cb  203.231   -9.751       G      False   142.48   \n",
       "673  3XeqINnregzwBJNg7RyyH4  127.031   -9.247       C      False  238.173   \n",
       "674  1h0yImRPIVAjhhHeNVlTuC  100.121   -6.653  F#, Gb      False  190.867   \n",
       "675  6D8FZWtCQRtQUVT3mpjrZs   131.02   -7.254  C#, Db      False  204.693   \n",
       "676  6nat4Z7iRKWVk1qngQqI0Q   89.362  -11.748       D      False  212.773   \n",
       "677  5gW3kI83886nVV9apaFLWu   115.03   -6.697       B      False   148.36   \n",
       "678  6bNcbh4SxQDU0BHa4Dj3wx  171.479   -8.887       F      False  169.587   \n",
       "\n",
       "    ReleaseDate                                             Lyrics  \n",
       "665  2018-05-25  Help me, it's like the walls are caving in\\nSo...  \n",
       "666  2018-05-25  Sunrise with you on my chest\\nNo blinds in the...  \n",
       "667  2018-05-25  You said, \"I wanna get to know ya\"\\nWhy you go...  \n",
       "668  2018-05-25  I saw you on a Sunday in a café\\nAnd all you d...  \n",
       "669  2018-05-25  \"Don't cry\" - or do\\nWhatever makes you comfor...  \n",
       "670  2018-05-25  All it'd take is one flight\\nWe'd be in the sa...  \n",
       "671  2018-05-25  She don't listen to a thing, 'less it feels ri...  \n",
       "672  2018-05-25  I think it's time that I be honest\\nShould've ...  \n",
       "673  2018-05-25  I know a girl, she's like a curse\\nWe want eac...  \n",
       "674  2018-05-25  Here I am, stuck on this couch scrolling throu...  \n",
       "675  2018-05-25  It's hard to believe\\nYou don't remember me at...  \n",
       "676  2018-05-25  Taste the poison from your lips\\nLately, we're...  \n",
       "677  2018-05-25  I want you close to me\\nI want you close, I wa...  \n",
       "678  2018-05-25  Maybe I had too many drinks, but that's just w...  "
      ]
     },
     "execution_count": 8,
     "metadata": {},
     "output_type": "execute_result"
    }
   ],
   "source": [
    "mendesArmyDF"
   ]
  },
  {
   "cell_type": "markdown",
   "id": "8095ec19",
   "metadata": {},
   "source": [
    "# Polarity and Subjectivity "
   ]
  },
  {
   "cell_type": "code",
   "execution_count": 9,
   "id": "59b5fd48",
   "metadata": {},
   "outputs": [],
   "source": [
    "#grab polarity and subjectivity scores\n",
    "pol = lambda x: TextBlob(x).sentiment.polarity\n",
    "sub = lambda x: TextBlob(x).sentiment.subjectivity"
   ]
  },
  {
   "cell_type": "code",
   "execution_count": 10,
   "id": "b9c44acb",
   "metadata": {},
   "outputs": [],
   "source": [
    "mendesArmyDF['Polarity'] = mendesArmyDF['Lyrics'].apply(pol)\n",
    "mendesArmyDF['Subjectivity'] = mendesArmyDF['Lyrics'].apply(sub)"
   ]
  },
  {
   "cell_type": "code",
   "execution_count": 85,
   "id": "993c1df5",
   "metadata": {},
   "outputs": [
    {
     "data": {
      "image/png": "[encoded data removed]",
      "text/plain": [
       "<Figure size 936x936 with 1 Axes>"
      ]
     },
     "metadata": {
      "needs_background": "light"
     },
     "output_type": "display_data"
    }
   ],
   "source": [
    "#plotting the the polarity and subjectivity scores for each Shawn Mendes song\n",
    "plt.rcParams['figure.figsize'] = [13,13]\n",
    "plt.scatter(mendesArmyDF.Polarity, mendesArmyDF.Subjectivity,s=30)\n",
    "plt.title(\"Sentiment Analysis\")\n",
    "plt.xlabel(\"Polarity\\n\\n<-- Negative(-1) ------- Positive(+1) -->\")\n",
    "plt.ylabel(\"Subjectivity\\n\\n<-- Facts(0) ------- Opinions(1) -->\")\n",
    "plt.xlim(-1,1)\n",
    "plt.ylim(0,1)\n",
    "for i, txt in enumerate(mendesArmyDF.Title):\n",
    "    xOrigin = mendesArmyDF.loc[mendesArmyDF['Title'] == txt].Polarity + 0.005\n",
    "    yOrigin = mendesArmyDF.loc[mendesArmyDF['Title'] == txt].Subjectivity + 0.005\n",
    "    if txt == \"Youth (feat. Khalid)\":\n",
    "        yOrigin += 0.009275\n",
    "    if txt == \"Like To Be You (feat. Julia Michaels)\":\n",
    "        xOrigin += 0.01\n",
    "        yOrigin -= 0.01\n",
    "    plt.annotate(txt, (xOrigin,yOrigin))\n",
    "plt.show()"
   ]
  },
  {
   "cell_type": "markdown",
   "id": "b66949ed",
   "metadata": {},
   "source": [
    "# Word Cloud ☁️"
   ]
  },
  {
   "cell_type": "code",
   "execution_count": 13,
   "id": "feed9964",
   "metadata": {},
   "outputs": [],
   "source": [
    "# ! pip install wordcloud"
   ]
  },
  {
   "cell_type": "code",
   "execution_count": 14,
   "id": "568c3f66",
   "metadata": {},
   "outputs": [],
   "source": [
    "allWords = \"\"\n",
    "for i, txt in enumerate(mendesArmyDF.Lyrics):\n",
    "    allWords += txt\n",
    "allWords = allWords.lower()\n",
    "stopWords = set(STOPWORDS)\n",
    "stopWords = stopWords.union([\"yeah\", \"Oh\"])\n",
    "stopWords = STOPWORDS.union({'ooh', 'm', 'mine', 's', 'ah', 'ya', 'hi', 'hey', 'mhm', 'hmm', 'nah', 'uh', 'oh'\n",
    "                           , 'don', 't', 'kanye', 'uhh', 'tastei', 'youi', 'youhere', 'awayit', 'mei', 'yeah'})\n",
    "wordcloud = WordCloud(font_path=None, width=1500, height=1500, \n",
    " margin=30, prefer_horizontal=0.9, min_font_size=24, stopwords=stopWords, \n",
    " background_color='white', max_font_size=None, font_step=1, mode='RGB', relative_scaling=0.4, \n",
    " regexp=None, collocations=False, colormap=\"Greens\", min_word_length=0).generate(allWords)\n",
    "\n",
    "\n",
    "\n",
    "plt.figure(figsize = (8, 8), facecolor = None)\n",
    "#plt.imshow(wordcloud)\n",
    "plt.imshow(wordcloud.recolor(color_func=get_single_color_func('#95574B')), interpolation ='bilinear') # Using the color function here\n",
    "plt.axis(\"off\")\n",
    "plt.tight_layout(pad = 0)\n",
    "  \n",
    "plt.show()"
   ]
  },
  {
   "cell_type": "markdown",
   "id": "4cf2f8ed",
   "metadata": {},
   "source": [
    "# Guitar Word Cloud"
   ]
  },
  {
   "cell_type": "code",
   "execution_count": null,
   "id": "8237cb9b",
   "metadata": {},
   "outputs": [],
   "source": [
    "mendes_mask = np.array(Image.open(\"./guitar.jpeg\"))\n",
    "mendes_mask.shape\n",
    "image_colors = ImageColorGenerator(mendes_mask)"
   ]
  },
  {
   "cell_type": "code",
   "execution_count": null,
   "id": "15bf98f8",
   "metadata": {},
   "outputs": [],
   "source": [
    "allWords = \"\"\n",
    "for i, txt in enumerate(mendesArmyDF.Lyrics):\n",
    "    allWords += txt\n",
    "allWords = allWords.lower()\n",
    "stopWords = set(STOPWORDS)\n",
    "stopWords = stopWords.union([\"yeah\", \"Oh\"])\n",
    "stopWords = STOPWORDS.union({'ooh', 'm', 'mine', 's', 'ah', 'ya', 'hi', 'hey', 'mhm', 'hmm', 'nah', 'uh', 'oh'\n",
    "                           , 'don', 't', 'kanye', 'uhh', 'tastei', 'youi', 'youhere', 'awayit', 'mei', 'yeah'})\n",
    "# Create a word cloud image\n",
    "wc_2 = WordCloud(collocations=False,background_color=\"#F7F7F7\", mask = mendes_mask, width = 1600, height = 1600).generate(allWords)\n",
    "\n",
    "# Generating colors from image\n",
    "image_colors = ImageColorGenerator(mendes_mask)\n",
    "\n",
    "# show\n",
    "plt.figure(figsize=[20,15]) # height, width in inches\n",
    "plt.imshow(wc_2.recolor(color_func=image_colors), interpolation ='bilinear') # Using the color function here\n",
    "plt.axis(\"off\")\n",
    "plt.show()"
   ]
  }
 ],
 "metadata": {
  "kernelspec": {
   "display_name": "Python 3",
   "language": "python",
   "name": "python3"
  },
  "language_info": {
   "codemirror_mode": {
    "name": "ipython",
    "version": 3
   },
   "file_extension": ".py",
   "mimetype": "text/x-python",
   "name": "python",
   "nbconvert_exporter": "python",
   "pygments_lexer": "ipython3",
   "version": "3.8.8"
  }
 },
 "nbformat": 4,
 "nbformat_minor": 5
}
