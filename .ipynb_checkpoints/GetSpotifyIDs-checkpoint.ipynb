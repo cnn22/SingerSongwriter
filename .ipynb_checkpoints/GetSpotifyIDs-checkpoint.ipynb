{
 "cells": [
  {
   "cell_type": "code",
   "execution_count": 14,
   "metadata": {},
   "outputs": [
    {
     "name": "stdout",
     "output_type": "stream",
     "text": [
      "Collecting spotipy\n",
      "  Downloading spotipy-2.16.1-py3-none-any.whl (24 kB)\n",
      "Requirement already satisfied: requests>=2.20.0 in /Users/arridoarfiadi/opt/anaconda3/lib/python3.8/site-packages (from spotipy) (2.24.0)\n",
      "Requirement already satisfied: six>=1.10.0 in /Users/arridoarfiadi/opt/anaconda3/lib/python3.8/site-packages (from spotipy) (1.15.0)\n",
      "Requirement already satisfied: chardet<4,>=3.0.2 in /Users/arridoarfiadi/opt/anaconda3/lib/python3.8/site-packages (from requests>=2.20.0->spotipy) (3.0.4)\n",
      "Requirement already satisfied: urllib3!=1.25.0,!=1.25.1,<1.26,>=1.21.1 in /Users/arridoarfiadi/opt/anaconda3/lib/python3.8/site-packages (from requests>=2.20.0->spotipy) (1.25.11)\n",
      "Requirement already satisfied: idna<3,>=2.5 in /Users/arridoarfiadi/opt/anaconda3/lib/python3.8/site-packages (from requests>=2.20.0->spotipy) (2.10)\n",
      "Requirement already satisfied: certifi>=2017.4.17 in /Users/arridoarfiadi/opt/anaconda3/lib/python3.8/site-packages (from requests>=2.20.0->spotipy) (2020.6.20)\n",
      "Installing collected packages: spotipy\n",
      "Successfully installed spotipy-2.16.1\n"
     ]
    }
   ],
   "source": [
    "import pandas as pd\n",
    "import pickle\n",
    "! pip install spotipy"
   ]
  },
  {
   "cell_type": "code",
   "execution_count": 2,
   "metadata": {},
   "outputs": [],
   "source": [
    "songs = pd.read_pickle('songs.pkl')"
   ]
  },
  {
   "cell_type": "code",
   "execution_count": 3,
   "metadata": {},
   "outputs": [],
   "source": [
    "songs = songs.loc[~(songs.Title.str.contains('Album', regex = False))].copy()"
   ]
  },
  {
   "cell_type": "code",
   "execution_count": 4,
   "metadata": {},
   "outputs": [],
   "source": [
    "songs = songs.loc[~(songs.Artist.str.contains('Soundtrack', regex = False))].copy()"
   ]
  },
  {
   "cell_type": "code",
   "execution_count": 5,
   "metadata": {},
   "outputs": [
    {
     "data": {
      "text/html": [
       "<div>\n",
       "<style scoped>\n",
       "    .dataframe tbody tr th:only-of-type {\n",
       "        vertical-align: middle;\n",
       "    }\n",
       "\n",
       "    .dataframe tbody tr th {\n",
       "        vertical-align: top;\n",
       "    }\n",
       "\n",
       "    .dataframe thead th {\n",
       "        text-align: right;\n",
       "    }\n",
       "</style>\n",
       "<table border=\"1\" class=\"dataframe\">\n",
       "  <thead>\n",
       "    <tr style=\"text-align: right;\">\n",
       "      <th></th>\n",
       "      <th>Title</th>\n",
       "      <th>Artist</th>\n",
       "    </tr>\n",
       "  </thead>\n",
       "  <tbody>\n",
       "    <tr>\n",
       "      <th>12</th>\n",
       "      <td>A Charlie Brown Christmas (Soundtrack)</td>\n",
       "      <td>Vince Guaraldi Trio</td>\n",
       "    </tr>\n",
       "    <tr>\n",
       "      <th>42</th>\n",
       "      <td>Last Christmas (Soundtrack)</td>\n",
       "      <td>George Michael &amp; Wham!</td>\n",
       "    </tr>\n",
       "    <tr>\n",
       "      <th>78</th>\n",
       "      <td>How The Grinch Stole Christmas (Soundtrack)</td>\n",
       "      <td>Boris Karloff / Thurl Ravenscroft</td>\n",
       "    </tr>\n",
       "    <tr>\n",
       "      <th>95</th>\n",
       "      <td>Bohemian Rhapsody (Soundtrack)</td>\n",
       "      <td>Queen</td>\n",
       "    </tr>\n",
       "    <tr>\n",
       "      <th>117</th>\n",
       "      <td>JESUS IS KING (Soundtrack)</td>\n",
       "      <td>Kanye West</td>\n",
       "    </tr>\n",
       "    <tr>\n",
       "      <th>132</th>\n",
       "      <td>A Star Is Born (Soundtrack)</td>\n",
       "      <td>Lady Gaga &amp; Bradley Cooper</td>\n",
       "    </tr>\n",
       "    <tr>\n",
       "      <th>152</th>\n",
       "      <td>K-12 (Soundtrack)</td>\n",
       "      <td>Melanie Martinez</td>\n",
       "    </tr>\n",
       "    <tr>\n",
       "      <th>155</th>\n",
       "      <td>The Kacey Musgraves Christmas Show (Soundtrack)</td>\n",
       "      <td>Kacey Musgraves</td>\n",
       "    </tr>\n",
       "    <tr>\n",
       "      <th>160</th>\n",
       "      <td>Purple Rain (Soundtrack)</td>\n",
       "      <td>Prince And The Revolution</td>\n",
       "    </tr>\n",
       "  </tbody>\n",
       "</table>\n",
       "</div>"
      ],
      "text/plain": [
       "                                               Title  \\\n",
       "12            A Charlie Brown Christmas (Soundtrack)   \n",
       "42                       Last Christmas (Soundtrack)   \n",
       "78       How The Grinch Stole Christmas (Soundtrack)   \n",
       "95                    Bohemian Rhapsody (Soundtrack)   \n",
       "117                       JESUS IS KING (Soundtrack)   \n",
       "132                      A Star Is Born (Soundtrack)   \n",
       "152                                K-12 (Soundtrack)   \n",
       "155  The Kacey Musgraves Christmas Show (Soundtrack)   \n",
       "160                         Purple Rain (Soundtrack)   \n",
       "\n",
       "                                Artist  \n",
       "12                 Vince Guaraldi Trio  \n",
       "42              George Michael & Wham!  \n",
       "78   Boris Karloff / Thurl Ravenscroft  \n",
       "95                               Queen  \n",
       "117                         Kanye West  \n",
       "132         Lady Gaga & Bradley Cooper  \n",
       "152                   Melanie Martinez  \n",
       "155                    Kacey Musgraves  \n",
       "160          Prince And The Revolution  "
      ]
     },
     "execution_count": 5,
     "metadata": {},
     "output_type": "execute_result"
    }
   ],
   "source": [
    "songs.loc[(songs.Title.str.contains('Soundtrack', regex = False))]"
   ]
  },
  {
   "cell_type": "code",
   "execution_count": 6,
   "metadata": {
    "scrolled": true
   },
   "outputs": [],
   "source": [
    "songs.Title = songs.Title.str.replace(\"\\(Soundtrack\\)\", \"\")"
   ]
  },
  {
   "cell_type": "code",
   "execution_count": 7,
   "metadata": {},
   "outputs": [],
   "source": [
    "songs.reset_index(inplace = True)"
   ]
  },
  {
   "cell_type": "code",
   "execution_count": 8,
   "metadata": {},
   "outputs": [],
   "source": [
    "songs.drop(columns = ['index'], inplace = True)"
   ]
  },
  {
   "cell_type": "code",
   "execution_count": 9,
   "metadata": {},
   "outputs": [],
   "source": [
    "songs['SpotifyID'] = None"
   ]
  },
  {
   "cell_type": "code",
   "execution_count": 10,
   "metadata": {},
   "outputs": [
    {
     "data": {
      "text/html": [
       "<div>\n",
       "<style scoped>\n",
       "    .dataframe tbody tr th:only-of-type {\n",
       "        vertical-align: middle;\n",
       "    }\n",
       "\n",
       "    .dataframe tbody tr th {\n",
       "        vertical-align: top;\n",
       "    }\n",
       "\n",
       "    .dataframe thead th {\n",
       "        text-align: right;\n",
       "    }\n",
       "</style>\n",
       "<table border=\"1\" class=\"dataframe\">\n",
       "  <thead>\n",
       "    <tr style=\"text-align: right;\">\n",
       "      <th></th>\n",
       "      <th>Title</th>\n",
       "      <th>Artist</th>\n",
       "      <th>SpotifyID</th>\n",
       "    </tr>\n",
       "  </thead>\n",
       "  <tbody>\n",
       "    <tr>\n",
       "      <th>0</th>\n",
       "      <td>Fine Line</td>\n",
       "      <td>Harry Styles</td>\n",
       "      <td>None</td>\n",
       "    </tr>\n",
       "    <tr>\n",
       "      <th>1</th>\n",
       "      <td>Christmas</td>\n",
       "      <td>Michael Buble</td>\n",
       "      <td>None</td>\n",
       "    </tr>\n",
       "    <tr>\n",
       "      <th>2</th>\n",
       "      <td>Please Excuse Me For Being Antisocial</td>\n",
       "      <td>Roddy Ricch</td>\n",
       "      <td>None</td>\n",
       "    </tr>\n",
       "    <tr>\n",
       "      <th>3</th>\n",
       "      <td>Merry Christmas</td>\n",
       "      <td>Mariah Carey</td>\n",
       "      <td>None</td>\n",
       "    </tr>\n",
       "    <tr>\n",
       "      <th>4</th>\n",
       "      <td>When We All Fall Asleep, Where Do We Go?</td>\n",
       "      <td>Billie Eilish</td>\n",
       "      <td>None</td>\n",
       "    </tr>\n",
       "  </tbody>\n",
       "</table>\n",
       "</div>"
      ],
      "text/plain": [
       "                                      Title         Artist SpotifyID\n",
       "0                                 Fine Line   Harry Styles      None\n",
       "1                                 Christmas  Michael Buble      None\n",
       "2     Please Excuse Me For Being Antisocial    Roddy Ricch      None\n",
       "3                           Merry Christmas   Mariah Carey      None\n",
       "4  When We All Fall Asleep, Where Do We Go?  Billie Eilish      None"
      ]
     },
     "execution_count": 10,
     "metadata": {},
     "output_type": "execute_result"
    }
   ],
   "source": [
    "songs.head()"
   ]
  },
  {
   "cell_type": "code",
   "execution_count": 15,
   "metadata": {},
   "outputs": [],
   "source": [
    "import spotipy\n",
    "from spotipy.oauth2 import SpotifyClientCredentials\n",
    "\n",
    "cid = \"2db050f400f245738228ef384306044b\"\n",
    "secret = \"6309c1f0455b43428d2cf142e4130a64\"\n",
    "\n",
    "client_credentials_manager = SpotifyClientCredentials(client_id = cid, client_secret = secret)\n",
    "sp = spotipy.Spotify(client_credentials_manager = client_credentials_manager)"
   ]
  },
  {
   "cell_type": "code",
   "execution_count": 38,
   "metadata": {
    "scrolled": true
   },
   "outputs": [],
   "source": [
    "def getSongID(trackName, trackArtist, trackResults):\n",
    "    for track in trackResults['tracks']['items']:\n",
    "#         print(track['id'])\n",
    "#         print(track['artists'][0]['name'])\n",
    "#         print(track['name'])\n",
    "        if (track['name'].lower() == trackName.lower()) & (track['artists'][0]['name'].lower() == trackArtist.lower()):\n",
    "            return track['id']\n",
    "    return None\n",
    "\n",
    "def getAlbumID(albumName, albumArtist, searchResult):\n",
    "    for album in searchResult['albums']['items']:\n",
    "        if (album['name'].lower() == albumName.lower()) & (album['artists'][0]['name'].lower() == albumArtist.lower()):\n",
    "            return album['id']\n",
    "    return None\n",
    "\n",
    "def getAlbumSongs(albumArtist, albumTracksResults):\n",
    "    albumSongDF = pd.DataFrame(columns=[\"Title\",\"Artist\", \"SpotifyID\"])\n",
    "    for songs in albumTracksResults['items']:\n",
    "        newRow = pd.Series(data={\"Title\": songs['name'],\"Artist\": albumArtist, \"SpotifyID\": songs['id']})\n",
    "        albumSongDF = albumSongDF.append(newRow, ignore_index=True)\n",
    "    return albumSongDF"
   ]
  },
  {
   "cell_type": "code",
   "execution_count": 49,
   "metadata": {},
   "outputs": [
    {
     "data": {
      "text/html": [
       "<div>\n",
       "<style scoped>\n",
       "    .dataframe tbody tr th:only-of-type {\n",
       "        vertical-align: middle;\n",
       "    }\n",
       "\n",
       "    .dataframe tbody tr th {\n",
       "        vertical-align: top;\n",
       "    }\n",
       "\n",
       "    .dataframe thead th {\n",
       "        text-align: right;\n",
       "    }\n",
       "</style>\n",
       "<table border=\"1\" class=\"dataframe\">\n",
       "  <thead>\n",
       "    <tr style=\"text-align: right;\">\n",
       "      <th></th>\n",
       "      <th>Title</th>\n",
       "      <th>Artist</th>\n",
       "      <th>SpotifyID</th>\n",
       "    </tr>\n",
       "  </thead>\n",
       "  <tbody>\n",
       "    <tr>\n",
       "      <th>0</th>\n",
       "      <td>Fine Line</td>\n",
       "      <td>Harry Styles</td>\n",
       "      <td>6VzcQuzTNTMFnJ6rBSaLH9</td>\n",
       "    </tr>\n",
       "    <tr>\n",
       "      <th>5</th>\n",
       "      <td>Hollywood's Bleeding</td>\n",
       "      <td>Post Malone</td>\n",
       "      <td>7sWRlDoTDX8geTR8zzr2vt</td>\n",
       "    </tr>\n",
       "    <tr>\n",
       "      <th>9</th>\n",
       "      <td>Lover</td>\n",
       "      <td>Taylor Swift</td>\n",
       "      <td>1dGr1c8CrMLDpV6mPbImSI</td>\n",
       "    </tr>\n",
       "    <tr>\n",
       "      <th>14</th>\n",
       "      <td>Rudolph The Red-Nosed Reindeer</td>\n",
       "      <td>Burl Ives</td>\n",
       "      <td>47otoIkhx3fkdivEXL5OB6</td>\n",
       "    </tr>\n",
       "    <tr>\n",
       "      <th>16</th>\n",
       "      <td>What You See Is What You Get</td>\n",
       "      <td>Luke Combs</td>\n",
       "      <td>273TiTHLlHSRe5zrzs7wvD</td>\n",
       "    </tr>\n",
       "  </tbody>\n",
       "</table>\n",
       "</div>"
      ],
      "text/plain": [
       "                             Title        Artist               SpotifyID\n",
       "0                        Fine Line  Harry Styles  6VzcQuzTNTMFnJ6rBSaLH9\n",
       "5             Hollywood's Bleeding   Post Malone  7sWRlDoTDX8geTR8zzr2vt\n",
       "9                            Lover  Taylor Swift  1dGr1c8CrMLDpV6mPbImSI\n",
       "14  Rudolph The Red-Nosed Reindeer     Burl Ives  47otoIkhx3fkdivEXL5OB6\n",
       "16    What You See Is What You Get    Luke Combs  273TiTHLlHSRe5zrzs7wvD"
      ]
     },
     "execution_count": 49,
     "metadata": {},
     "output_type": "execute_result"
    }
   ],
   "source": [
    "##create two df\n",
    "songsToDeleteDF = pd.DataFrame(columns=[\"Title\",\"Artist\", \"SpotifyID\"])\n",
    "albumSongToAddDF = pd.DataFrame(columns=[\"Title\",\"Artist\", \"SpotifyID\"])\n",
    "\n",
    "#iterate through all song rows and find SpotifyID\n",
    "for index, row in songs.iterrows(): \n",
    "    #get songID from Spotify Search API\n",
    "    trackResults = sp.search(q=row['Title'], type='track', market= 'US', limit=10,offset=0)\n",
    "    songID = getSongID(row['Title'], row['Artist'], trackResults)\n",
    "    #If songID is not found, we assume it is an album and search for its albumID\n",
    "    if  songID == None:\n",
    "        #Delete the row from songs DF that does not have spotifyID since they are an album\n",
    "        songsToDeleteDF = songsToDeleteDF.append(row, ignore_index=True)\n",
    "        searchResult = sp.search(q=row['Title'], type='album', market= 'US', limit=10,offset=0)\n",
    "        albumID = getAlbumID(row['Title'], row['Artist'], searchResult)\n",
    "        #If we find an albumID, we get all the songs from that album and add it to the DF\n",
    "        if albumID != None:\n",
    "            albumTracksResults = sp.album_tracks(albumID)\n",
    "            albumSongToAddDF = pd.concat([albumSongToAddDF,getAlbumSongs(row['Artist'],albumTracksResults)], ignore_index=True)\n",
    "    else:\n",
    "        #Add the spotifyID to an existing song\n",
    "        songs.SpotifyID.iloc[index] = songID\n",
    "        \n",
    "        \n",
    "songs = pd.concat([songs,albumSongToAddDF],ignore_index=True) #add the album songs into the song DF\n",
    "songs = songs[~songs.Title.isin(songsToDeleteDF.Title)].copy() #remove album or song without spotifyID from songs DF\n",
    "songs.head()"
   ]
  },
  {
   "cell_type": "code",
   "execution_count": 62,
   "metadata": {},
   "outputs": [],
   "source": [
    "#songs.reset_index(inplace = True)\n",
    "#songs.drop(columns = ['index'], inplace = True)\n",
    "#songs.head()\n",
    "#songs.to_pickle('songsWithSpotifyID.pkl')\n",
    "#songs = pd.read_pickle('songsWithSpotifyID.pkl')"
   ]
  },
  {
   "cell_type": "code",
   "execution_count": null,
   "metadata": {},
   "outputs": [],
   "source": []
  },
  {
   "cell_type": "code",
   "execution_count": null,
   "metadata": {},
   "outputs": [],
   "source": [
    "\n",
    "\n",
    "#iterate through songs df\n",
    "#for each song in song df we make a call to spotify\n",
    "#loop through the spotify results to find the id BY checking the song name & artist name\n",
    "#if there is a match for both, then we append the song ID to the songs df as spotify id\n",
    "#if there is not song id, then we search for an album that matches the 'trackName' variable\n",
    "#we get the album id and we use \"getAlbumTracks\" func using the album id\n",
    "#put AlbumTrackResults into a temp data frame\n",
    "#NOTE: we are assuming Billboard's popularity ranking, meaning all songs in the album are popular!\n",
    "####\n",
    "#after we iterate through all songs, we should remove songs that do not have songs id (use the pandas loc function)"
   ]
  },
  {
   "cell_type": "code",
   "execution_count": null,
   "metadata": {},
   "outputs": [],
   "source": [
    "#TODO\n",
    "#if there is not song id, then we search for an album that matches the 'trackName' variable\n",
    "#we get the album id and we use \"getAlbumTracks\" func using the album id\n",
    "#put AlbumTrackResults into a temp data frame\n",
    "\n",
    "#build two functions, getalbumid & getalbumtracks"
   ]
  }
 ],
 "metadata": {
  "kernelspec": {
   "display_name": "Python 3",
   "language": "python",
   "name": "python3"
  },
  "language_info": {
   "codemirror_mode": {
    "name": "ipython",
    "version": 3
   },
   "file_extension": ".py",
   "mimetype": "text/x-python",
   "name": "python",
   "nbconvert_exporter": "python",
   "pygments_lexer": "ipython3",
   "version": "3.8.5"
  }
 },
 "nbformat": 4,
 "nbformat_minor": 2
}
