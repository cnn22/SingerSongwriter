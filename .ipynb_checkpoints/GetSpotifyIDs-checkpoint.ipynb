{
 "cells": [
  {
   "cell_type": "code",
   "execution_count": 1,
   "metadata": {},
   "outputs": [],
   "source": [
    "import pandas as pd\n",
    "import pickle\n",
    "import spotipy\n",
    "from spotipy.oauth2 import SpotifyClientCredentials\n",
    "# ! pip install spotipy"
   ]
  },
  {
   "cell_type": "code",
   "execution_count": 2,
   "metadata": {},
   "outputs": [],
   "source": [
    "songs = pd.read_pickle('songs.pkl')"
   ]
  },
  {
   "cell_type": "code",
   "execution_count": 3,
   "metadata": {},
   "outputs": [],
   "source": [
    "#only grabs rows where title doesn't contain the word 'Album'\n",
    "songs = songs.loc[~(songs.Title.str.contains('Album', regex = False))].copy() "
   ]
  },
  {
   "cell_type": "code",
   "execution_count": 4,
   "metadata": {},
   "outputs": [],
   "source": [
    "#only grabs rows where title doesn't contain the word 'Sountrack'\n",
    "songs = songs.loc[~(songs.Artist.str.contains('Soundtrack', regex = False))].copy()"
   ]
  },
  {
   "cell_type": "code",
   "execution_count": 7,
   "metadata": {},
   "outputs": [],
   "source": [
    "songs.reset_index(inplace = True)"
   ]
  },
  {
   "cell_type": "code",
   "execution_count": 8,
   "metadata": {},
   "outputs": [],
   "source": [
    "songs.drop(columns = ['index'], inplace = True)"
   ]
  },
  {
   "cell_type": "code",
   "execution_count": 9,
   "metadata": {},
   "outputs": [],
   "source": [
    "songs['SpotifyID'] = None"
   ]
  },
  {
   "cell_type": "code",
   "execution_count": 10,
   "metadata": {},
   "outputs": [
    {
     "data": {
      "text/html": [
       "<div>\n",
       "<style scoped>\n",
       "    .dataframe tbody tr th:only-of-type {\n",
       "        vertical-align: middle;\n",
       "    }\n",
       "\n",
       "    .dataframe tbody tr th {\n",
       "        vertical-align: top;\n",
       "    }\n",
       "\n",
       "    .dataframe thead th {\n",
       "        text-align: right;\n",
       "    }\n",
       "</style>\n",
       "<table border=\"1\" class=\"dataframe\">\n",
       "  <thead>\n",
       "    <tr style=\"text-align: right;\">\n",
       "      <th></th>\n",
       "      <th>Title</th>\n",
       "      <th>Artist</th>\n",
       "      <th>SpotifyID</th>\n",
       "    </tr>\n",
       "  </thead>\n",
       "  <tbody>\n",
       "    <tr>\n",
       "      <th>0</th>\n",
       "      <td>Fine Line</td>\n",
       "      <td>Harry Styles</td>\n",
       "      <td>None</td>\n",
       "    </tr>\n",
       "    <tr>\n",
       "      <th>1</th>\n",
       "      <td>Christmas</td>\n",
       "      <td>Michael Buble</td>\n",
       "      <td>None</td>\n",
       "    </tr>\n",
       "    <tr>\n",
       "      <th>2</th>\n",
       "      <td>Please Excuse Me For Being Antisocial</td>\n",
       "      <td>Roddy Ricch</td>\n",
       "      <td>None</td>\n",
       "    </tr>\n",
       "    <tr>\n",
       "      <th>3</th>\n",
       "      <td>Merry Christmas</td>\n",
       "      <td>Mariah Carey</td>\n",
       "      <td>None</td>\n",
       "    </tr>\n",
       "    <tr>\n",
       "      <th>4</th>\n",
       "      <td>When We All Fall Asleep, Where Do We Go?</td>\n",
       "      <td>Billie Eilish</td>\n",
       "      <td>None</td>\n",
       "    </tr>\n",
       "  </tbody>\n",
       "</table>\n",
       "</div>"
      ],
      "text/plain": [
       "                                      Title         Artist SpotifyID\n",
       "0                                 Fine Line   Harry Styles      None\n",
       "1                                 Christmas  Michael Buble      None\n",
       "2     Please Excuse Me For Being Antisocial    Roddy Ricch      None\n",
       "3                           Merry Christmas   Mariah Carey      None\n",
       "4  When We All Fall Asleep, Where Do We Go?  Billie Eilish      None"
      ]
     },
     "execution_count": 10,
     "metadata": {},
     "output_type": "execute_result"
    }
   ],
   "source": [
    "songs.head()"
   ]
  },
  {
   "cell_type": "code",
   "execution_count": 15,
   "metadata": {},
   "outputs": [],
   "source": [
    "cid = \"\"\n",
    "secret = \"\"\n",
    "\n",
    "#instantiating spotify client\n",
    "client_credentials_manager = SpotifyClientCredentials(client_id = cid, client_secret = secret)\n",
    "sp = spotipy.Spotify(client_credentials_manager = client_credentials_manager)"
   ]
  },
  {
   "cell_type": "code",
   "execution_count": 38,
   "metadata": {
    "scrolled": true
   },
   "outputs": [],
   "source": [
    "#getSongID takes track's name, track's Artist, and track results\n",
    "#iterate through the track results to get the name in what spotify returned and\n",
    "# test those results against what song and artist we have in the data frame\n",
    "def getSongID(trackName, trackArtist, trackResults):\n",
    "    for track in trackResults['tracks']['items']:\n",
    "        if (track['name'].lower() == trackName.lower()) & (track['artists'][0]['name'].lower() == trackArtist.lower()):\n",
    "            return track['id']\n",
    "    return None\n",
    "\n",
    "#getAlbumID takes album's name, album's Artist, and album results\n",
    "#iterate through the search results to get the name in what spotify returned and\n",
    "# test those results against what album and artist we have in the data frame\n",
    "def getAlbumID(albumName, albumArtist, searchResult):\n",
    "    for album in searchResult['albums']['items']:\n",
    "        if (album['name'].lower() == albumName.lower()) & (album['artists'][0]['name'].lower() == albumArtist.lower()):\n",
    "            return album['id']\n",
    "    return None\n",
    "\n",
    "#getAlbumSongs takes in album's artist and the album track results (which is a list of )\n",
    "#it gets the songs in the album and returns it\n",
    "def getAlbumSongs(albumArtist, albumTracksResults):\n",
    "    albumSongDF = pd.DataFrame(columns=[\"Title\",\"Artist\", \"SpotifyID\"])\n",
    "    for songs in albumTracksResults['items']:\n",
    "        newRow = pd.Series(data={\"Title\": songs['name'],\"Artist\": albumArtist, \"SpotifyID\": songs['id']})\n",
    "        albumSongDF = albumSongDF.append(newRow, ignore_index=True)\n",
    "    return albumSongDF"
   ]
  },
  {
   "cell_type": "code",
   "execution_count": 49,
   "metadata": {},
   "outputs": [
    {
     "data": {
      "text/html": [
       "<div>\n",
       "<style scoped>\n",
       "    .dataframe tbody tr th:only-of-type {\n",
       "        vertical-align: middle;\n",
       "    }\n",
       "\n",
       "    .dataframe tbody tr th {\n",
       "        vertical-align: top;\n",
       "    }\n",
       "\n",
       "    .dataframe thead th {\n",
       "        text-align: right;\n",
       "    }\n",
       "</style>\n",
       "<table border=\"1\" class=\"dataframe\">\n",
       "  <thead>\n",
       "    <tr style=\"text-align: right;\">\n",
       "      <th></th>\n",
       "      <th>Title</th>\n",
       "      <th>Artist</th>\n",
       "      <th>SpotifyID</th>\n",
       "    </tr>\n",
       "  </thead>\n",
       "  <tbody>\n",
       "    <tr>\n",
       "      <th>0</th>\n",
       "      <td>Fine Line</td>\n",
       "      <td>Harry Styles</td>\n",
       "      <td>6VzcQuzTNTMFnJ6rBSaLH9</td>\n",
       "    </tr>\n",
       "    <tr>\n",
       "      <th>5</th>\n",
       "      <td>Hollywood's Bleeding</td>\n",
       "      <td>Post Malone</td>\n",
       "      <td>7sWRlDoTDX8geTR8zzr2vt</td>\n",
       "    </tr>\n",
       "    <tr>\n",
       "      <th>9</th>\n",
       "      <td>Lover</td>\n",
       "      <td>Taylor Swift</td>\n",
       "      <td>1dGr1c8CrMLDpV6mPbImSI</td>\n",
       "    </tr>\n",
       "    <tr>\n",
       "      <th>14</th>\n",
       "      <td>Rudolph The Red-Nosed Reindeer</td>\n",
       "      <td>Burl Ives</td>\n",
       "      <td>47otoIkhx3fkdivEXL5OB6</td>\n",
       "    </tr>\n",
       "    <tr>\n",
       "      <th>16</th>\n",
       "      <td>What You See Is What You Get</td>\n",
       "      <td>Luke Combs</td>\n",
       "      <td>273TiTHLlHSRe5zrzs7wvD</td>\n",
       "    </tr>\n",
       "  </tbody>\n",
       "</table>\n",
       "</div>"
      ],
      "text/plain": [
       "                             Title        Artist               SpotifyID\n",
       "0                        Fine Line  Harry Styles  6VzcQuzTNTMFnJ6rBSaLH9\n",
       "5             Hollywood's Bleeding   Post Malone  7sWRlDoTDX8geTR8zzr2vt\n",
       "9                            Lover  Taylor Swift  1dGr1c8CrMLDpV6mPbImSI\n",
       "14  Rudolph The Red-Nosed Reindeer     Burl Ives  47otoIkhx3fkdivEXL5OB6\n",
       "16    What You See Is What You Get    Luke Combs  273TiTHLlHSRe5zrzs7wvD"
      ]
     },
     "execution_count": 49,
     "metadata": {},
     "output_type": "execute_result"
    }
   ],
   "source": [
    "#create two df\n",
    "songsToDeleteDF = pd.DataFrame(columns=[\"Title\",\"Artist\", \"SpotifyID\"])\n",
    "albumSongToAddDF = pd.DataFrame(columns=[\"Title\",\"Artist\", \"SpotifyID\"])\n",
    "\n",
    "#iterate through all song rows and find SpotifyID\n",
    "for index, row in songs.iterrows(): \n",
    "    #get songID from Spotify Search API\n",
    "    trackResults = sp.search(q=row['Title'], type='track', market= 'US', limit=10,offset=0)\n",
    "    songID = getSongID(row['Title'], row['Artist'], trackResults)\n",
    "    #If songID is not found, we assume it is an album and search for its albumID\n",
    "    if  songID == None:\n",
    "        #Delete the row from songs DF that does not have spotifyID since they are an album\n",
    "        songsToDeleteDF = songsToDeleteDF.append(row, ignore_index=True)\n",
    "        searchResult = sp.search(q=row['Title'], type='album', market= 'US', limit=10,offset=0)\n",
    "        albumID = getAlbumID(row['Title'], row['Artist'], searchResult)\n",
    "        #If we find an albumID, we get all the songs from that album and add it to the DF\n",
    "        if albumID != None:\n",
    "            albumTracksResults = sp.album_tracks(albumID)\n",
    "            albumSongToAddDF = pd.concat([albumSongToAddDF,getAlbumSongs(row['Artist'],albumTracksResults)], ignore_index=True)\n",
    "    else:\n",
    "        #Add the spotifyID to an existing song\n",
    "        songs.SpotifyID.iloc[index] = songID\n",
    "        \n",
    "        \n",
    "songs = pd.concat([songs,albumSongToAddDF],ignore_index=True) #add the album songs into the song DF\n",
    "songs = songs[~songs.Title.isin(songsToDeleteDF.Title)].copy() #remove album or song without spotifyID from songs DF\n",
    "songs.head()"
   ]
  },
  {
   "cell_type": "code",
   "execution_count": 62,
   "metadata": {},
   "outputs": [],
   "source": [
    "#songs.reset_index(inplace = True)\n",
    "#songs.drop(columns = ['index'], inplace = True)\n",
    "#songs.head()\n",
    "#songs.to_pickle('songsWithSpotifyID.pkl')\n",
    "#songs = pd.read_pickle('songsWithSpotifyID.pkl')"
   ]
  }
 ],
 "metadata": {
  "kernelspec": {
   "display_name": "Python 3",
   "language": "python",
   "name": "python3"
  },
  "language_info": {
   "codemirror_mode": {
    "name": "ipython",
    "version": 3
   },
   "file_extension": ".py",
   "mimetype": "text/x-python",
   "name": "python",
   "nbconvert_exporter": "python",
   "pygments_lexer": "ipython3",
   "version": "3.8.8"
  }
 },
 "nbformat": 4,
 "nbformat_minor": 2
}
