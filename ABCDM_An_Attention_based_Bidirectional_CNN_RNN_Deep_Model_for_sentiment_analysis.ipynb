{
  "nbformat": 4,
  "nbformat_minor": 0,
  "metadata": {
    "colab": {
      "provenance": [],
      "mount_file_id": "1m_Q0_9lRQjc6hrEacY9eiTdk_fveJpK3",
      "authorship_tag": "ABX9TyNu9U8OFY3aYAVGUqkEONq/",
      "include_colab_link": true
    },
    "kernelspec": {
      "name": "python3",
      "display_name": "Python 3"
    },
    "language_info": {
      "name": "python"
    }
  },
  "cells": [
    {
      "cell_type": "markdown",
      "metadata": {
        "id": "view-in-github",
        "colab_type": "text"
      },
      "source": [
        "<a href=\"https://colab.research.google.com/github/cnn22/SingerSongwriter/blob/main/ABCDM_An_Attention_based_Bidirectional_CNN_RNN_Deep_Model_for_sentiment_analysis.ipynb\" target=\"_parent\"><img src=\"https://colab.research.google.com/assets/colab-badge.svg\" alt=\"Open In Colab\"/></a>"
      ]
    },
    {
      "cell_type": "markdown",
      "source": [
        "# Paper\n",
        "https://www.sentic.net/attention-based-bidirectional-cnn-rnn-for-sentiment-analysis.pdf"
      ],
      "metadata": {
        "id": "7Ggrkn1dctZi"
      }
    },
    {
      "cell_type": "markdown",
      "source": [
        "# Import "
      ],
      "metadata": {
        "id": "zjqzYfXQcyRG"
      }
    },
    {
      "cell_type": "code",
      "execution_count": 6,
      "metadata": {
        "id": "lK_kQzxockMb"
      },
      "outputs": [],
      "source": [
        "import numpy as np\n",
        "\n",
        "# Get the interactive Tools for Matplotlib\n",
        "%matplotlib notebook\n",
        "import matplotlib.pyplot as plt\n",
        "plt.style.use('ggplot')\n",
        "\n",
        "from sklearn.decomposition import PCA\n",
        "\n",
        "from gensim.test.utils import datapath, get_tmpfile\n",
        "from gensim.models import KeyedVectors\n",
        "from gensim.scripts.glove2word2vec import glove2word2vec"
      ]
    },
    {
      "cell_type": "markdown",
      "source": [
        "# Embedding"
      ],
      "metadata": {
        "id": "-Vv8kQUKc3tj"
      }
    },
    {
      "cell_type": "code",
      "source": [
        "from google.colab import drive\n",
        "drive.mount('/content/drive')"
      ],
      "metadata": {
        "colab": {
          "base_uri": "https://localhost:8080/"
        },
        "id": "t08mTZuOhhFs",
        "outputId": "7c52bcc6-5ad0-4ab1-8d12-1960ddd03db8"
      },
      "execution_count": 3,
      "outputs": [
        {
          "output_type": "stream",
          "name": "stdout",
          "text": [
            "Drive already mounted at /content/drive; to attempt to forcibly remount, call drive.mount(\"/content/drive\", force_remount=True).\n"
          ]
        }
      ]
    },
    {
      "cell_type": "code",
      "source": [
        "# with open('/content/drive/MyDrive/Star Data v2/glove.6B/glove.6B.50d.txt', 'w+') as handle:\n",
        "#   word2vec_glove_file = get_tmpfile(\"glove.6B.50d.word2vec.txt\")\n",
        "#   glove2word2vec(handle, word2vec_glove_file)"
      ],
      "metadata": {
        "colab": {
          "base_uri": "https://localhost:8080/",
          "height": 205
        },
        "id": "MA4LL_VchtUR",
        "outputId": "755dd619-1cb6-471a-ce0e-181d3a249faf"
      },
      "execution_count": 13,
      "outputs": [
        {
          "output_type": "error",
          "ename": "TypeError",
          "evalue": "ignored",
          "traceback": [
            "\u001b[0;31m---------------------------------------------------------------------------\u001b[0m",
            "\u001b[0;31mTypeError\u001b[0m                                 Traceback (most recent call last)",
            "\u001b[0;32m<ipython-input-13-3b964eb88aa0>\u001b[0m in \u001b[0;36m<module>\u001b[0;34m\u001b[0m\n\u001b[1;32m      1\u001b[0m \u001b[0;32mwith\u001b[0m \u001b[0mopen\u001b[0m\u001b[0;34m(\u001b[0m\u001b[0;34m'/content/drive/MyDrive/Star Data v2/glove.6B/glove.6B.50d.txt'\u001b[0m\u001b[0;34m,\u001b[0m \u001b[0;34m'w+'\u001b[0m\u001b[0;34m)\u001b[0m \u001b[0;32mas\u001b[0m \u001b[0mhandle\u001b[0m\u001b[0;34m:\u001b[0m\u001b[0;34m\u001b[0m\u001b[0;34m\u001b[0m\u001b[0m\n\u001b[1;32m      2\u001b[0m   \u001b[0mword2vec_glove_file\u001b[0m \u001b[0;34m=\u001b[0m \u001b[0mget_tmpfile\u001b[0m\u001b[0;34m(\u001b[0m\u001b[0;34m\"glove.6B.50d.word2vec.txt\"\u001b[0m\u001b[0;34m)\u001b[0m\u001b[0;34m\u001b[0m\u001b[0;34m\u001b[0m\u001b[0m\n\u001b[0;32m----> 3\u001b[0;31m   \u001b[0mglove2word2vec\u001b[0m\u001b[0;34m(\u001b[0m\u001b[0mhandle\u001b[0m\u001b[0;34m)\u001b[0m\u001b[0;34m\u001b[0m\u001b[0;34m\u001b[0m\u001b[0m\n\u001b[0m",
            "\u001b[0;31mTypeError\u001b[0m: glove2word2vec() missing 1 required positional argument: 'word2vec_output_file'"
          ]
        }
      ]
    },
    {
      "cell_type": "code",
      "source": [
        "glove_file = datapath('/content/drive/MyDrive/Star Data v2/glove.6B/glove.6B.50d.txt')\n",
        "word2vec_glove_file = get_tmpfile(\"glove.6B.50d.word2vec.txt\")\n",
        "glove2word2vec(glove_file, word2vec_glove_file)"
      ],
      "metadata": {
        "id": "FT0KC5ekc5Hv",
        "colab": {
          "base_uri": "https://localhost:8080/"
        },
        "outputId": "7013b78f-1d4a-4dd8-94a3-61cc71f9ef91"
      },
      "execution_count": 18,
      "outputs": [
        {
          "output_type": "execute_result",
          "data": {
            "text/plain": [
              "(400001, 50)"
            ]
          },
          "metadata": {},
          "execution_count": 18
        }
      ]
    },
    {
      "cell_type": "code",
      "source": [
        "model = KeyedVectors.load_word2vec_format(word2vec_glove_file)"
      ],
      "metadata": {
        "id": "5W9tZuZ4g9DL"
      },
      "execution_count": 19,
      "outputs": []
    },
    {
      "cell_type": "code",
      "source": [
        "model.most_similar('obama')"
      ],
      "metadata": {
        "colab": {
          "base_uri": "https://localhost:8080/"
        },
        "id": "YeaUd9wDg-i5",
        "outputId": "b926d5dd-a31f-4a90-9c30-5237af516df2"
      },
      "execution_count": 20,
      "outputs": [
        {
          "output_type": "execute_result",
          "data": {
            "text/plain": [
              "[('barack', 0.9674171805381775),\n",
              " ('bush', 0.9642481207847595),\n",
              " ('clinton', 0.9606046080589294),\n",
              " ('mccain', 0.912293553352356),\n",
              " ('dole', 0.8878743052482605),\n",
              " ('gore', 0.8848039507865906),\n",
              " ('hillary', 0.8776552081108093),\n",
              " ('rodham', 0.8401790857315063),\n",
              " ('kerry', 0.8261427879333496),\n",
              " ('biden', 0.8095825910568237)]"
            ]
          },
          "metadata": {},
          "execution_count": 20
        }
      ]
    },
    {
      "cell_type": "code",
      "source": [
        "model.get_vector('obama').shape"
      ],
      "metadata": {
        "colab": {
          "base_uri": "https://localhost:8080/"
        },
        "id": "ErRbkIzFkXeZ",
        "outputId": "6320061d-31ce-459e-ba7c-f4f245e2889c"
      },
      "execution_count": 23,
      "outputs": [
        {
          "output_type": "execute_result",
          "data": {
            "text/plain": [
              "(50,)"
            ]
          },
          "metadata": {},
          "execution_count": 23
        }
      ]
    },
    {
      "cell_type": "markdown",
      "source": [
        "# Bi-GRU and Bi LSTM"
      ],
      "metadata": {
        "id": "-2GuHKfYc5zL"
      }
    },
    {
      "cell_type": "code",
      "source": [],
      "metadata": {
        "id": "D-HUNexdc9rV"
      },
      "execution_count": null,
      "outputs": []
    },
    {
      "cell_type": "markdown",
      "source": [
        "# CNN"
      ],
      "metadata": {
        "id": "XIdQRGE9c-LS"
      }
    },
    {
      "cell_type": "code",
      "source": [],
      "metadata": {
        "id": "QEFHMLI-c_x6"
      },
      "execution_count": null,
      "outputs": []
    },
    {
      "cell_type": "markdown",
      "source": [
        "# Concat and get final output"
      ],
      "metadata": {
        "id": "KJZR1uuMdAN5"
      }
    },
    {
      "cell_type": "code",
      "source": [],
      "metadata": {
        "id": "JWty4IPAdCvp"
      },
      "execution_count": null,
      "outputs": []
    }
  ]
}