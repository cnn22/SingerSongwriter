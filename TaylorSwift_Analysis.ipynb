{
  "nbformat": 4,
  "nbformat_minor": 0,
  "metadata": {
    "colab": {
      "provenance": [],
      "authorship_tag": "ABX9TyPGbk8JvTxVVDeyECr/tSLt",
      "include_colab_link": true
    },
    "kernelspec": {
      "name": "python3",
      "display_name": "Python 3"
    },
    "language_info": {
      "name": "python"
    }
  },
  "cells": [
    {
      "cell_type": "markdown",
      "metadata": {
        "id": "view-in-github",
        "colab_type": "text"
      },
      "source": [
        "<a href=\"https://colab.research.google.com/github/cnn22/SingerSongwriter/blob/main/TaylorSwift_Analysis.ipynb\" target=\"_parent\"><img src=\"https://colab.research.google.com/assets/colab-badge.svg\" alt=\"Open In Colab\"/></a>"
      ]
    },
    {
      "cell_type": "code",
      "execution_count": null,
      "metadata": {
        "id": "7Htb4mJ9DO22"
      },
      "outputs": [],
      "source": [
        "import pandas as pd\n",
        "import pickle\n",
        "import spotipy\n",
        "from spotipy.oauth2 import SpotifyClientCredentials"
      ]
    },
    {
      "cell_type": "code",
      "source": [
        "# !pip install spotipy"
      ],
      "metadata": {
        "id": "jIjJvmyiDZfX"
      },
      "execution_count": null,
      "outputs": []
    },
    {
      "cell_type": "markdown",
      "source": [
        "# 1. Gather Data"
      ],
      "metadata": {
        "id": "Y2yPDRPDuQgD"
      }
    },
    {
      "cell_type": "markdown",
      "source": [
        "## 1.1 Get Lyrics"
      ],
      "metadata": {
        "id": "VduwFzh73C7t"
      }
    },
    {
      "cell_type": "code",
      "source": [
        "#get all of taylor swift's albums\n",
        "url = \"https://taylor-swift-api.sarbo.workers.dev/albums\"\n",
        "response = requests.get(url)\n",
        "\n",
        "if response.status_code == 200:\n",
        "  data = response.json()\n",
        "  albums = pd.DataFrame(data)\n",
        "  # print(albums)\n",
        "else:\n",
        "  print(f'Failed to retrieve data. Status code: {response.status_code}')"
      ],
      "metadata": {
        "id": "EQoBr_IywNuz"
      },
      "execution_count": null,
      "outputs": []
    },
    {
      "cell_type": "code",
      "source": [
        "# gets all of taylor's songs for all albums\n",
        "url = 'https://taylor-swift-api.sarbo.workers.dev/songs'\n",
        "response = requests.get(url)\n",
        "\n",
        "if response.status_code == 200:\n",
        "  data = response.json()\n",
        "  songs = pd.DataFrame(data)\n",
        "  # print(songs)\n",
        "else:\n",
        "  print(f'Failed to retrieve data. Status code: {response.status_code}')"
      ],
      "metadata": {
        "id": "toAEQC0rvo2h"
      },
      "execution_count": null,
      "outputs": []
    },
    {
      "cell_type": "code",
      "source": [
        "#get lyrics\n",
        "lyrics_url = 'https://taylor-swift-api.sarbo.workers.dev/lyrics/'\n",
        "lyrics_df = pd.DataFrame(columns=['song_title', 'lyrics'])\n",
        "\n",
        "for index, row in songs.iterrows():\n",
        "  song = row['song_id']\n",
        "  url = f'{lyrics_url}{song}'\n",
        "  response = requests.get(url)\n",
        "\n",
        "  if response.status_code == 200:\n",
        "    data = response.json()\n",
        "    lyrics = data['lyrics']\n",
        "    song_title = data['song_title']\n",
        "    new_row = pd.DataFrame({'song_title': [song_title], 'lyrics': [lyrics]})\n",
        "    lyrics_df = pd.concat([lyrics_df, new_row], ignore_index = True)\n",
        "  else:\n",
        "    print(f'Failed to retrieve data. Status code: {response.status_code}')"
      ],
      "metadata": {
        "id": "R7-16QdfvzvE"
      },
      "execution_count": null,
      "outputs": []
    },
    {
      "cell_type": "code",
      "source": [
        "lyrics = pd.merge(songs, lyrics_df, left_on ='title', right_on = 'song_title', how = 'inner').drop(columns=['song_title'])\n",
        "albums = albums.rename(columns={'title':'album_title'})\n",
        "lyrics = pd.merge(lyrics, albums, on = 'album_id', how = 'inner')\n",
        "# lyrics.to_csv('all_taylor_swift_lyrics.csv', index = True)"
      ],
      "metadata": {
        "id": "bgfA4d3_v-P3"
      },
      "execution_count": null,
      "outputs": []
    },
    {
      "cell_type": "markdown",
      "source": [
        "\n",
        "## 1.2 Get song attributes"
      ],
      "metadata": {
        "id": "e5vQDZCnDiI7"
      }
    },
    {
      "cell_type": "code",
      "source": [
        "songs = pd.read_csv('all_taylor_swift_lyrics.csv', index_col = False)"
      ],
      "metadata": {
        "id": "F_SEWfges7HN"
      },
      "execution_count": 120,
      "outputs": []
    },
    {
      "cell_type": "code",
      "source": [
        "songs['Artist'] = 'Taylor Swift'\n",
        "songs['SpotifyID'] = None\n",
        "songs[\"Tempo\"] = None\n",
        "songs[\"Loudness\"] = None\n",
        "songs[\"Key\"] = None\n",
        "songs[\"isExplicit\"] = None\n",
        "songs[\"Danceability\"] = None\n",
        "songs[\"Energy\"] = None\n",
        "songs[\"Liveness\"] = None\n",
        "songs[\"Duration\"] = None\n",
        "songs[\"Popularity\"] = None"
      ],
      "metadata": {
        "id": "xKzXIS5FvZ_-"
      },
      "execution_count": 123,
      "outputs": []
    },
    {
      "cell_type": "code",
      "source": [
        "cid = \"\"\n",
        "secret = \"\"\n",
        "\n",
        "#initiating Spotify client\n",
        "client_credentials_manager = SpotifyClientCredentials(client_id = cid, client_secret = secret)\n",
        "sp = spotipy.Spotify(client_credentials_manager = client_credentials_manager)"
      ],
      "metadata": {
        "id": "1GQeXwGHIle6"
      },
      "execution_count": 148,
      "outputs": []
    },
    {
      "cell_type": "code",
      "source": [
        "#getSongID takes track's name, track's Artist, and track results\n",
        "#iterate through the track results to get the name in what spotify returned and\n",
        "# test those results against what song and artist we have in the data frame\n",
        "def getSongID(trackName, trackArtist, trackResults):\n",
        "    for track in trackResults['tracks']['items']:\n",
        "        if (track['name'].lower() == trackName.lower()) & (track['artists'][0]['name'].lower() == trackArtist.lower()):\n",
        "            return track['id']\n",
        "    return None"
      ],
      "metadata": {
        "id": "eD3DOIKK8n4E"
      },
      "execution_count": 108,
      "outputs": []
    },
    {
      "cell_type": "code",
      "source": [
        "#getExplicit function that takes in a songID and returns if the song is explicit or not\n",
        "def getExplicit(songID):\n",
        "    return sp.track(songID)['explicit']"
      ],
      "metadata": {
        "id": "PZY8OjNvBIGa"
      },
      "execution_count": 109,
      "outputs": []
    },
    {
      "cell_type": "code",
      "source": [
        "#getTrackAttributes function that takes in a songID and returns song attributes such as, Tempo, Loudness, Key and Duration\n",
        "def getTrackAttributes(songID):\n",
        "    return sp.audio_features(tracks=songID)[0]"
      ],
      "metadata": {
        "id": "IEpdzlgNBJkq"
      },
      "execution_count": 110,
      "outputs": []
    },
    {
      "cell_type": "code",
      "source": [
        "def getPopularity(songID):\n",
        "  return sp.track(songID)['popularity']"
      ],
      "metadata": {
        "id": "D_cdLC8zEDOp"
      },
      "execution_count": 112,
      "outputs": []
    },
    {
      "cell_type": "code",
      "source": [
        "#getSongKey function that takes in a pitch class and returns the key. Reference: https://en.wikipedia.org/wiki/Pitch_class\n",
        "def getSongKey(pitchClass):\n",
        "    if pitchClass == 0:\n",
        "        return 'C'\n",
        "    elif pitchClass == 1:\n",
        "        return 'C#, Db'\n",
        "    elif pitchClass == 2:\n",
        "        return 'D'\n",
        "    elif pitchClass == 3:\n",
        "        return 'D#, Eb'\n",
        "    elif pitchClass == 4:\n",
        "        return 'E'\n",
        "    elif pitchClass == 5:\n",
        "        return 'F'\n",
        "    elif pitchClass == 6:\n",
        "        return 'F#, Gb'\n",
        "    elif pitchClass == 7:\n",
        "        return 'G'\n",
        "    elif pitchClass == 8:\n",
        "        return 'G#, Ab'\n",
        "    elif pitchClass == 9:\n",
        "        return 'A'\n",
        "    elif pitchClass == 10:\n",
        "        return 'A# Bb'\n",
        "    elif pitchClass == 11:\n",
        "        return 'B'\n",
        "    else: return None"
      ],
      "metadata": {
        "id": "vQ1IsQJ9BMpi"
      },
      "execution_count": 113,
      "outputs": []
    },
    {
      "cell_type": "code",
      "source": [
        "for index, row in songs.head().iterrows():\n",
        "  trackResults = sp.search(q=row['title'], type='track', market= 'US', limit=10,offset=0)\n",
        "  songID = getSongID(row['title'], row['Artist'], trackResults)\n",
        "  # print(songID)\n",
        "  songs.SpotifyID.iloc[index] = songID"
      ],
      "metadata": {
        "id": "EWRKCdQRURWP",
        "colab": {
          "base_uri": "https://localhost:8080/"
        },
        "outputId": "fff10390-eedd-480b-c263-2055fd2ca8fe"
      },
      "execution_count": 129,
      "outputs": [
        {
          "output_type": "stream",
          "name": "stderr",
          "text": [
            "<ipython-input-129-ebd82787d332>:5: SettingWithCopyWarning: \n",
            "A value is trying to be set on a copy of a slice from a DataFrame\n",
            "\n",
            "See the caveats in the documentation: https://pandas.pydata.org/pandas-docs/stable/user_guide/indexing.html#returning-a-view-versus-a-copy\n",
            "  songs.SpotifyID.iloc[index] = songID\n"
          ]
        }
      ]
    },
    {
      "cell_type": "code",
      "source": [
        "songs.loc[songs['title'] == 'tis the damn season', 'SpotifyID'] = '4GBkffrtA51p17JH35irGA'\n",
        "songs.loc[songs['title'] == \"Soon You'll Get Better\", 'SpotifyID'] = '4AYtqFyFbX0Xkc2wtcygTr'\n",
        "songs.loc[songs['title'] == \"It's Nice To Have A Friend\", 'SpotifyID'] = '1SmiQ65iSAbPto6gPFlBYm'\n",
        "songs.loc[songs['title'] == \"Don't Blame Me\", 'SpotifyID'] = '1R0a2iXumgCiFb7HEZ7gUE'\n",
        "songs.loc[songs['title'] == \"New Year's Day\", 'SpotifyID'] = '7F5oktn5YOsR9eR5YsFtqb'\n",
        "songs.loc[songs['title'] == \"Question…?\", 'SpotifyID'] = '0heeNYlwOGuUSe7TgUD27B'\n",
        "songs.loc[songs['title'] == \"Snow on the Beach\", 'SpotifyID'] = '4zmKGsrXjLmljb5fTaBTot'\n",
        "songs.loc[songs['title'] == \"So It Goes…\", 'SpotifyID'] = '5PxFv9yJEg9dxvbZggykro'\n",
        "songs.loc[songs['title'] == \"it's time to go\", 'SpotifyID'] = '6RvmQShxVQwJ0AWMtP6JoU'"
      ],
      "metadata": {
        "id": "eUR7wcaLUIOm"
      },
      "execution_count": 143,
      "outputs": []
    },
    {
      "cell_type": "code",
      "source": [
        "songs = songs[~songs.SpotifyID.isnull()]"
      ],
      "metadata": {
        "id": "R1VKHLJJzvIl"
      },
      "execution_count": 150,
      "outputs": []
    },
    {
      "cell_type": "code",
      "source": [
        "#iteratte through songs in songs data frame (which we pulled from billboard.com) to grab song attributes\n",
        "#using Spotify's API for things like, isExplicit, tempo, loudness, duration, release date.\n",
        "\n",
        "for index, row in songs.iterrows():\n",
        "    #get explicit attribute from Get Track API\n",
        "    explicitValue = getExplicit(row['SpotifyID'])\n",
        "    attributes = getTrackAttributes(row['SpotifyID'])\n",
        "\n",
        "    #filling in values\n",
        "    songs.at[index, 'Tempo'] = attributes['tempo']\n",
        "    songs.at[index, 'Loudness'] = attributes['loudness']\n",
        "    songs.at[index, 'Key'] = getSongKey(attributes['key'])\n",
        "    songs.at[index, 'isExplicit'] = explicitValue\n",
        "    songs.at[index, 'Danceability'] = attributes['danceability']\n",
        "    songs.at[index, 'Energy'] = attributes['energy']\n",
        "    songs.at[index, 'Liveness']= attributes['liveness']\n",
        "    songs.at[index, 'Duration'] = attributes['duration_ms']/1000 #converting from milliseconds to seconds\n",
        "    songs.at[index, 'Popularity'] = getPopularity(row['SpotifyID'])"
      ],
      "metadata": {
        "id": "TVsX0TcG5ZEA"
      },
      "execution_count": 153,
      "outputs": []
    },
    {
      "cell_type": "code",
      "source": [
        "songs.to_csv('TAYLOR_SWIFT_FINAL_DATASET.csv', index = False)"
      ],
      "metadata": {
        "id": "wq2YvhJe6WyQ"
      },
      "execution_count": 156,
      "outputs": []
    },
    {
      "cell_type": "markdown",
      "source": [
        "# 2. Sentiment Analysis"
      ],
      "metadata": {
        "id": "zM9FIlKo7NW9"
      }
    },
    {
      "cell_type": "code",
      "source": [
        "import pandas as pd\n",
        "import pickle as pk\n",
        "from vaderSentiment.vaderSentiment import SentimentIntensityAnalyzer"
      ],
      "metadata": {
        "id": "dzfynark7RQO"
      },
      "execution_count": 159,
      "outputs": []
    },
    {
      "cell_type": "code",
      "source": [
        "# !pip install vaderSentiment"
      ],
      "metadata": {
        "id": "y-v8-Ek26nlh"
      },
      "execution_count": 158,
      "outputs": []
    },
    {
      "cell_type": "code",
      "source": [
        "# songs = pd.read_csv('TAYLOR_SWIFT_FINAL_DATASET.csv')"
      ],
      "metadata": {
        "id": "0oiKA-rQB6F2"
      },
      "execution_count": null,
      "outputs": []
    },
    {
      "cell_type": "code",
      "source": [
        "analyzer = SentimentIntensityAnalyzer()\n",
        "\n",
        "sentiment_scores = []\n",
        "\n",
        "for index, row in songs.iterrows():\n",
        "  song = row['lyrics']\n",
        "  sentiment = analyzer.polarity_scores(song)\n",
        "  sentiment_scores.append({\n",
        "      'Title': row['title'],\n",
        "      'Album': row['album_title'],\n",
        "      'Positive': sentiment['pos'],\n",
        "      'Neutral': sentiment['neu'],\n",
        "      'Negative': sentiment['neg'],\n",
        "      'Compound': sentiment['compound']\n",
        "  })"
      ],
      "metadata": {
        "id": "UklviPE_CCgI"
      },
      "execution_count": 162,
      "outputs": []
    },
    {
      "cell_type": "code",
      "source": [
        "for sentiment_data in sentiment_scores:\n",
        "    print(f\"Album: {sentiment_data['Album']}\")\n",
        "    print(f\"Track: {sentiment_data['Title']}\")\n",
        "    print(f\"Positive: {sentiment_data['Positive']}\")\n",
        "    print(f\"Neutral: {sentiment_data['Neutral']}\")\n",
        "    print(f\"Negative: {sentiment_data['Negative']}\")\n",
        "    print(f\"Compound: {sentiment_data['Compound']}\")\n",
        "    print(\"\\n\")  # Add a newline for better readability between song data"
      ],
      "metadata": {
        "id": "5gE75khM7O__"
      },
      "execution_count": null,
      "outputs": []
    },
    {
      "cell_type": "code",
      "source": [
        "sentiment_df = pd.DataFrame(sentiment_scores)"
      ],
      "metadata": {
        "id": "_khrgaqj8iZh"
      },
      "execution_count": 168,
      "outputs": []
    },
    {
      "cell_type": "code",
      "source": [
        "sentiment_df"
      ],
      "metadata": {
        "colab": {
          "base_uri": "https://localhost:8080/",
          "height": 424
        },
        "id": "W5BsAaDT8mPb",
        "outputId": "85a79425-9d99-4cb6-b71c-8c705d35d616"
      },
      "execution_count": 169,
      "outputs": [
        {
          "output_type": "execute_result",
          "data": {
            "text/plain": [
              "                          Title      Album  Positive  Neutral  Negative  \\\n",
              "0                   Blank Space       1989     0.164    0.688     0.149   \n",
              "1                         Style       1989     0.096    0.898     0.007   \n",
              "2              Out Of The Woods       1989     0.227    0.766     0.007   \n",
              "3    All You Had to Do Was Stay       1989     0.128    0.850     0.022   \n",
              "4                  Shake It Off       1989     0.089    0.500     0.411   \n",
              "..                          ...        ...       ...      ...       ...   \n",
              "129   Bigger Than the Whole Sky  Midnights     0.000    0.957     0.043   \n",
              "130                       Paris  Midnights     0.220    0.734     0.046   \n",
              "131                      Glitch  Midnights     0.116    0.862     0.022   \n",
              "132                 Dear Reader  Midnights     0.205    0.729     0.066   \n",
              "133              Hits Different  Midnights     0.158    0.733     0.109   \n",
              "\n",
              "     Compound  \n",
              "0      0.8537  \n",
              "1      0.9894  \n",
              "2      0.9995  \n",
              "3      0.9932  \n",
              "4     -0.9998  \n",
              "..        ...  \n",
              "129   -0.8665  \n",
              "130    0.9971  \n",
              "131    0.9750  \n",
              "132    0.9921  \n",
              "133    0.9816  \n",
              "\n",
              "[134 rows x 6 columns]"
            ],
            "text/html": [
              "\n",
              "  <div id=\"df-54444f45-0cf9-49f0-a915-99e0d377a2bf\" class=\"colab-df-container\">\n",
              "    <div>\n",
              "<style scoped>\n",
              "    .dataframe tbody tr th:only-of-type {\n",
              "        vertical-align: middle;\n",
              "    }\n",
              "\n",
              "    .dataframe tbody tr th {\n",
              "        vertical-align: top;\n",
              "    }\n",
              "\n",
              "    .dataframe thead th {\n",
              "        text-align: right;\n",
              "    }\n",
              "</style>\n",
              "<table border=\"1\" class=\"dataframe\">\n",
              "  <thead>\n",
              "    <tr style=\"text-align: right;\">\n",
              "      <th></th>\n",
              "      <th>Title</th>\n",
              "      <th>Album</th>\n",
              "      <th>Positive</th>\n",
              "      <th>Neutral</th>\n",
              "      <th>Negative</th>\n",
              "      <th>Compound</th>\n",
              "    </tr>\n",
              "  </thead>\n",
              "  <tbody>\n",
              "    <tr>\n",
              "      <th>0</th>\n",
              "      <td>Blank Space</td>\n",
              "      <td>1989</td>\n",
              "      <td>0.164</td>\n",
              "      <td>0.688</td>\n",
              "      <td>0.149</td>\n",
              "      <td>0.8537</td>\n",
              "    </tr>\n",
              "    <tr>\n",
              "      <th>1</th>\n",
              "      <td>Style</td>\n",
              "      <td>1989</td>\n",
              "      <td>0.096</td>\n",
              "      <td>0.898</td>\n",
              "      <td>0.007</td>\n",
              "      <td>0.9894</td>\n",
              "    </tr>\n",
              "    <tr>\n",
              "      <th>2</th>\n",
              "      <td>Out Of The Woods</td>\n",
              "      <td>1989</td>\n",
              "      <td>0.227</td>\n",
              "      <td>0.766</td>\n",
              "      <td>0.007</td>\n",
              "      <td>0.9995</td>\n",
              "    </tr>\n",
              "    <tr>\n",
              "      <th>3</th>\n",
              "      <td>All You Had to Do Was Stay</td>\n",
              "      <td>1989</td>\n",
              "      <td>0.128</td>\n",
              "      <td>0.850</td>\n",
              "      <td>0.022</td>\n",
              "      <td>0.9932</td>\n",
              "    </tr>\n",
              "    <tr>\n",
              "      <th>4</th>\n",
              "      <td>Shake It Off</td>\n",
              "      <td>1989</td>\n",
              "      <td>0.089</td>\n",
              "      <td>0.500</td>\n",
              "      <td>0.411</td>\n",
              "      <td>-0.9998</td>\n",
              "    </tr>\n",
              "    <tr>\n",
              "      <th>...</th>\n",
              "      <td>...</td>\n",
              "      <td>...</td>\n",
              "      <td>...</td>\n",
              "      <td>...</td>\n",
              "      <td>...</td>\n",
              "      <td>...</td>\n",
              "    </tr>\n",
              "    <tr>\n",
              "      <th>129</th>\n",
              "      <td>Bigger Than the Whole Sky</td>\n",
              "      <td>Midnights</td>\n",
              "      <td>0.000</td>\n",
              "      <td>0.957</td>\n",
              "      <td>0.043</td>\n",
              "      <td>-0.8665</td>\n",
              "    </tr>\n",
              "    <tr>\n",
              "      <th>130</th>\n",
              "      <td>Paris</td>\n",
              "      <td>Midnights</td>\n",
              "      <td>0.220</td>\n",
              "      <td>0.734</td>\n",
              "      <td>0.046</td>\n",
              "      <td>0.9971</td>\n",
              "    </tr>\n",
              "    <tr>\n",
              "      <th>131</th>\n",
              "      <td>Glitch</td>\n",
              "      <td>Midnights</td>\n",
              "      <td>0.116</td>\n",
              "      <td>0.862</td>\n",
              "      <td>0.022</td>\n",
              "      <td>0.9750</td>\n",
              "    </tr>\n",
              "    <tr>\n",
              "      <th>132</th>\n",
              "      <td>Dear Reader</td>\n",
              "      <td>Midnights</td>\n",
              "      <td>0.205</td>\n",
              "      <td>0.729</td>\n",
              "      <td>0.066</td>\n",
              "      <td>0.9921</td>\n",
              "    </tr>\n",
              "    <tr>\n",
              "      <th>133</th>\n",
              "      <td>Hits Different</td>\n",
              "      <td>Midnights</td>\n",
              "      <td>0.158</td>\n",
              "      <td>0.733</td>\n",
              "      <td>0.109</td>\n",
              "      <td>0.9816</td>\n",
              "    </tr>\n",
              "  </tbody>\n",
              "</table>\n",
              "<p>134 rows × 6 columns</p>\n",
              "</div>\n",
              "    <div class=\"colab-df-buttons\">\n",
              "\n",
              "  <div class=\"colab-df-container\">\n",
              "    <button class=\"colab-df-convert\" onclick=\"convertToInteractive('df-54444f45-0cf9-49f0-a915-99e0d377a2bf')\"\n",
              "            title=\"Convert this dataframe to an interactive table.\"\n",
              "            style=\"display:none;\">\n",
              "\n",
              "  <svg xmlns=\"http://www.w3.org/2000/svg\" height=\"24px\" viewBox=\"0 -960 960 960\">\n",
              "    <path d=\"M120-120v-720h720v720H120Zm60-500h600v-160H180v160Zm220 220h160v-160H400v160Zm0 220h160v-160H400v160ZM180-400h160v-160H180v160Zm440 0h160v-160H620v160ZM180-180h160v-160H180v160Zm440 0h160v-160H620v160Z\"/>\n",
              "  </svg>\n",
              "    </button>\n",
              "\n",
              "  <style>\n",
              "    .colab-df-container {\n",
              "      display:flex;\n",
              "      gap: 12px;\n",
              "    }\n",
              "\n",
              "    .colab-df-convert {\n",
              "      background-color: #E8F0FE;\n",
              "      border: none;\n",
              "      border-radius: 50%;\n",
              "      cursor: pointer;\n",
              "      display: none;\n",
              "      fill: #1967D2;\n",
              "      height: 32px;\n",
              "      padding: 0 0 0 0;\n",
              "      width: 32px;\n",
              "    }\n",
              "\n",
              "    .colab-df-convert:hover {\n",
              "      background-color: #E2EBFA;\n",
              "      box-shadow: 0px 1px 2px rgba(60, 64, 67, 0.3), 0px 1px 3px 1px rgba(60, 64, 67, 0.15);\n",
              "      fill: #174EA6;\n",
              "    }\n",
              "\n",
              "    .colab-df-buttons div {\n",
              "      margin-bottom: 4px;\n",
              "    }\n",
              "\n",
              "    [theme=dark] .colab-df-convert {\n",
              "      background-color: #3B4455;\n",
              "      fill: #D2E3FC;\n",
              "    }\n",
              "\n",
              "    [theme=dark] .colab-df-convert:hover {\n",
              "      background-color: #434B5C;\n",
              "      box-shadow: 0px 1px 3px 1px rgba(0, 0, 0, 0.15);\n",
              "      filter: drop-shadow(0px 1px 2px rgba(0, 0, 0, 0.3));\n",
              "      fill: #FFFFFF;\n",
              "    }\n",
              "  </style>\n",
              "\n",
              "    <script>\n",
              "      const buttonEl =\n",
              "        document.querySelector('#df-54444f45-0cf9-49f0-a915-99e0d377a2bf button.colab-df-convert');\n",
              "      buttonEl.style.display =\n",
              "        google.colab.kernel.accessAllowed ? 'block' : 'none';\n",
              "\n",
              "      async function convertToInteractive(key) {\n",
              "        const element = document.querySelector('#df-54444f45-0cf9-49f0-a915-99e0d377a2bf');\n",
              "        const dataTable =\n",
              "          await google.colab.kernel.invokeFunction('convertToInteractive',\n",
              "                                                    [key], {});\n",
              "        if (!dataTable) return;\n",
              "\n",
              "        const docLinkHtml = 'Like what you see? Visit the ' +\n",
              "          '<a target=\"_blank\" href=https://colab.research.google.com/notebooks/data_table.ipynb>data table notebook</a>'\n",
              "          + ' to learn more about interactive tables.';\n",
              "        element.innerHTML = '';\n",
              "        dataTable['output_type'] = 'display_data';\n",
              "        await google.colab.output.renderOutput(dataTable, element);\n",
              "        const docLink = document.createElement('div');\n",
              "        docLink.innerHTML = docLinkHtml;\n",
              "        element.appendChild(docLink);\n",
              "      }\n",
              "    </script>\n",
              "  </div>\n",
              "\n",
              "\n",
              "<div id=\"df-a28b4899-fa8b-478e-a56f-8ee78bc5804d\">\n",
              "  <button class=\"colab-df-quickchart\" onclick=\"quickchart('df-a28b4899-fa8b-478e-a56f-8ee78bc5804d')\"\n",
              "            title=\"Suggest charts.\"\n",
              "            style=\"display:none;\">\n",
              "\n",
              "<svg xmlns=\"http://www.w3.org/2000/svg\" height=\"24px\"viewBox=\"0 0 24 24\"\n",
              "     width=\"24px\">\n",
              "    <g>\n",
              "        <path d=\"M19 3H5c-1.1 0-2 .9-2 2v14c0 1.1.9 2 2 2h14c1.1 0 2-.9 2-2V5c0-1.1-.9-2-2-2zM9 17H7v-7h2v7zm4 0h-2V7h2v10zm4 0h-2v-4h2v4z\"/>\n",
              "    </g>\n",
              "</svg>\n",
              "  </button>\n",
              "\n",
              "<style>\n",
              "  .colab-df-quickchart {\n",
              "      --bg-color: #E8F0FE;\n",
              "      --fill-color: #1967D2;\n",
              "      --hover-bg-color: #E2EBFA;\n",
              "      --hover-fill-color: #174EA6;\n",
              "      --disabled-fill-color: #AAA;\n",
              "      --disabled-bg-color: #DDD;\n",
              "  }\n",
              "\n",
              "  [theme=dark] .colab-df-quickchart {\n",
              "      --bg-color: #3B4455;\n",
              "      --fill-color: #D2E3FC;\n",
              "      --hover-bg-color: #434B5C;\n",
              "      --hover-fill-color: #FFFFFF;\n",
              "      --disabled-bg-color: #3B4455;\n",
              "      --disabled-fill-color: #666;\n",
              "  }\n",
              "\n",
              "  .colab-df-quickchart {\n",
              "    background-color: var(--bg-color);\n",
              "    border: none;\n",
              "    border-radius: 50%;\n",
              "    cursor: pointer;\n",
              "    display: none;\n",
              "    fill: var(--fill-color);\n",
              "    height: 32px;\n",
              "    padding: 0;\n",
              "    width: 32px;\n",
              "  }\n",
              "\n",
              "  .colab-df-quickchart:hover {\n",
              "    background-color: var(--hover-bg-color);\n",
              "    box-shadow: 0 1px 2px rgba(60, 64, 67, 0.3), 0 1px 3px 1px rgba(60, 64, 67, 0.15);\n",
              "    fill: var(--button-hover-fill-color);\n",
              "  }\n",
              "\n",
              "  .colab-df-quickchart-complete:disabled,\n",
              "  .colab-df-quickchart-complete:disabled:hover {\n",
              "    background-color: var(--disabled-bg-color);\n",
              "    fill: var(--disabled-fill-color);\n",
              "    box-shadow: none;\n",
              "  }\n",
              "\n",
              "  .colab-df-spinner {\n",
              "    border: 2px solid var(--fill-color);\n",
              "    border-color: transparent;\n",
              "    border-bottom-color: var(--fill-color);\n",
              "    animation:\n",
              "      spin 1s steps(1) infinite;\n",
              "  }\n",
              "\n",
              "  @keyframes spin {\n",
              "    0% {\n",
              "      border-color: transparent;\n",
              "      border-bottom-color: var(--fill-color);\n",
              "      border-left-color: var(--fill-color);\n",
              "    }\n",
              "    20% {\n",
              "      border-color: transparent;\n",
              "      border-left-color: var(--fill-color);\n",
              "      border-top-color: var(--fill-color);\n",
              "    }\n",
              "    30% {\n",
              "      border-color: transparent;\n",
              "      border-left-color: var(--fill-color);\n",
              "      border-top-color: var(--fill-color);\n",
              "      border-right-color: var(--fill-color);\n",
              "    }\n",
              "    40% {\n",
              "      border-color: transparent;\n",
              "      border-right-color: var(--fill-color);\n",
              "      border-top-color: var(--fill-color);\n",
              "    }\n",
              "    60% {\n",
              "      border-color: transparent;\n",
              "      border-right-color: var(--fill-color);\n",
              "    }\n",
              "    80% {\n",
              "      border-color: transparent;\n",
              "      border-right-color: var(--fill-color);\n",
              "      border-bottom-color: var(--fill-color);\n",
              "    }\n",
              "    90% {\n",
              "      border-color: transparent;\n",
              "      border-bottom-color: var(--fill-color);\n",
              "    }\n",
              "  }\n",
              "</style>\n",
              "\n",
              "  <script>\n",
              "    async function quickchart(key) {\n",
              "      const quickchartButtonEl =\n",
              "        document.querySelector('#' + key + ' button');\n",
              "      quickchartButtonEl.disabled = true;  // To prevent multiple clicks.\n",
              "      quickchartButtonEl.classList.add('colab-df-spinner');\n",
              "      try {\n",
              "        const charts = await google.colab.kernel.invokeFunction(\n",
              "            'suggestCharts', [key], {});\n",
              "      } catch (error) {\n",
              "        console.error('Error during call to suggestCharts:', error);\n",
              "      }\n",
              "      quickchartButtonEl.classList.remove('colab-df-spinner');\n",
              "      quickchartButtonEl.classList.add('colab-df-quickchart-complete');\n",
              "    }\n",
              "    (() => {\n",
              "      let quickchartButtonEl =\n",
              "        document.querySelector('#df-a28b4899-fa8b-478e-a56f-8ee78bc5804d button');\n",
              "      quickchartButtonEl.style.display =\n",
              "        google.colab.kernel.accessAllowed ? 'block' : 'none';\n",
              "    })();\n",
              "  </script>\n",
              "</div>\n",
              "    </div>\n",
              "  </div>\n"
            ]
          },
          "metadata": {},
          "execution_count": 169
        }
      ]
    },
    {
      "cell_type": "code",
      "source": [
        "songs.columns"
      ],
      "metadata": {
        "colab": {
          "base_uri": "https://localhost:8080/"
        },
        "id": "A3heeLay8nEB",
        "outputId": "b7374df1-e8db-41ea-c681-e42979400060"
      },
      "execution_count": 170,
      "outputs": [
        {
          "output_type": "execute_result",
          "data": {
            "text/plain": [
              "Index(['song_id', 'title', 'album_id', 'lyrics', 'album_title', 'release_date',\n",
              "       'Artist', 'SpotifyID', 'Tempo', 'Loudness', 'Key', 'isExplicit',\n",
              "       'Danceability', 'Energy', 'Liveness', 'Duration', 'Popularity'],\n",
              "      dtype='object')"
            ]
          },
          "metadata": {},
          "execution_count": 170
        }
      ]
    },
    {
      "cell_type": "code",
      "source": [],
      "metadata": {
        "id": "9jjvWOVs9ctJ"
      },
      "execution_count": null,
      "outputs": []
    }
  ]
}