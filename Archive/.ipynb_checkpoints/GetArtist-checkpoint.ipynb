{
 "cells": [
  {
   "cell_type": "code",
   "execution_count": null,
   "metadata": {},
   "outputs": [],
   "source": [
    "#TODO: GET ARTIST\n",
    "#Artist -> "
   ]
  },
  {
   "cell_type": "code",
   "execution_count": 1,
   "metadata": {},
   "outputs": [
    {
     "name": "stdout",
     "output_type": "stream",
     "text": [
      "Collecting wikipedia-api\n",
      "  Downloading Wikipedia-API-0.5.4.tar.gz (18 kB)\n",
      "Requirement already satisfied: requests in /Users/arridoarfiadi/opt/anaconda3/lib/python3.8/site-packages (from wikipedia-api) (2.24.0)\n",
      "Requirement already satisfied: idna<3,>=2.5 in /Users/arridoarfiadi/opt/anaconda3/lib/python3.8/site-packages (from requests->wikipedia-api) (2.10)\n",
      "Requirement already satisfied: chardet<4,>=3.0.2 in /Users/arridoarfiadi/opt/anaconda3/lib/python3.8/site-packages (from requests->wikipedia-api) (3.0.4)\n",
      "Requirement already satisfied: certifi>=2017.4.17 in /Users/arridoarfiadi/opt/anaconda3/lib/python3.8/site-packages (from requests->wikipedia-api) (2020.6.20)\n",
      "Requirement already satisfied: urllib3!=1.25.0,!=1.25.1,<1.26,>=1.21.1 in /Users/arridoarfiadi/opt/anaconda3/lib/python3.8/site-packages (from requests->wikipedia-api) (1.25.11)\n",
      "Building wheels for collected packages: wikipedia-api\n",
      "  Building wheel for wikipedia-api (setup.py) ... \u001b[?25ldone\n",
      "\u001b[?25h  Created wheel for wikipedia-api: filename=Wikipedia_API-0.5.4-py3-none-any.whl size=13462 sha256=115612634bfde523f16faa740ab6903eef9af3462c006b663459199da5350312\n",
      "  Stored in directory: /Users/arridoarfiadi/Library/Caches/pip/wheels/ed/88/e3/da3d4d73cb91d659488cfa25913b84bbc26febec99d257bce9\n",
      "Successfully built wikipedia-api\n",
      "Installing collected packages: wikipedia-api\n",
      "Successfully installed wikipedia-api-0.5.4\n"
     ]
    }
   ],
   "source": [
    "! pip install wikipedia-api\n",
    "import wikipediaapi"
   ]
  },
  {
   "cell_type": "code",
   "execution_count": 13,
   "metadata": {},
   "outputs": [],
   "source": [
    "wikiAPI = wikipediaapi.Wikipedia('en')\n",
    "page_py = wikiAPI.page('Burl Ives')"
   ]
  },
  {
   "cell_type": "code",
   "execution_count": 3,
   "metadata": {},
   "outputs": [
    {
     "data": {
      "text/plain": [
       "wikipediaapi.WikipediaPage"
      ]
     },
     "execution_count": 3,
     "metadata": {},
     "output_type": "execute_result"
    }
   ],
   "source": [
    "type(page_py)"
   ]
  },
  {
   "cell_type": "code",
   "execution_count": 14,
   "metadata": {},
   "outputs": [
    {
     "data": {
      "text/plain": [
       "True"
      ]
     },
     "execution_count": 14,
     "metadata": {},
     "output_type": "execute_result"
    }
   ],
   "source": [
    "page_py.exists()"
   ]
  },
  {
   "cell_type": "code",
   "execution_count": 24,
   "metadata": {},
   "outputs": [],
   "source": [
    "ives_page = wikiAPI.page('Harry Styles')"
   ]
  },
  {
   "cell_type": "code",
   "execution_count": 18,
   "metadata": {},
   "outputs": [],
   "source": [
    "eilish_page = wikiAPI.page('Billie Eilish')"
   ]
  },
  {
   "cell_type": "code",
   "execution_count": 25,
   "metadata": {},
   "outputs": [
    {
     "data": {
      "text/plain": [
       "'Harry Edward Styles (born 1 February 1994) is an English singer, songwriter, and actor. His musical career began in 2010 as a solo contestant on the British music competition series The X Factor. Following his elimination early on, he was brought back to join the boy band One Direction, which went on to become one of the best-selling boy bands of all time.\\nStyles released his self-titled debut solo album through Columbia Records in 2017. It debuted at number one in the UK and the US, and became one of the world\\'s top-ten best-selling albums of the year. Its lead single, \"Sign of the Times\", topped the UK Singles Chart. He made his acting debut in Christopher Nolan\\'s 2017 war film Dunkirk. Styles\\' second album, Fine Line (2019), debuted atop the US Billboard 200 with the biggest first-week sales by an English male artist in history, and was listed among Rolling Stone\\'s \"500 Greatest Albums of All Time\" in 2020. Its fourth single, \"Watermelon Sugar\", topped the US Billboard Hot 100.\\nThroughout his career, Styles has earned several accolades, including a Brit Award, an American Music Award, two ARIA Music Awards, and a Billboard Music Award. Aside from music, he is also known for his flamboyant fashion, and is the first man to appear solo on the cover of Vogue magazine.'"
      ]
     },
     "execution_count": 25,
     "metadata": {},
     "output_type": "execute_result"
    }
   ],
   "source": [
    "ives_page.summary"
   ]
  },
  {
   "cell_type": "code",
   "execution_count": 20,
   "metadata": {},
   "outputs": [
    {
     "data": {
      "text/plain": [
       "'Billie Eilish Pirate Baird O\\'Connell ( EYE-lish; born December 18, 2001) is an American singer-songwriter. She first gained attention in 2015 when she uploaded the song \"Ocean Eyes\" to SoundCloud, which was subsequently released by the Interscope Records subsidiary Darkroom. The song was written and produced by her brother Finneas O\\'Connell, with whom she collaborates on music and live shows. Her debut EP, Don\\'t Smile at Me (2017), became a sleeper hit, reaching the top 15 in the US, UK, Canada, and Australia.\\nEilish\\'s debut studio album, When We All Fall Asleep, Where Do We Go? (2019), debuted atop the US Billboard 200, reached number-one in the UK, and became one of the best-selling albums of 2019. The album\\'s fifth single \"Bad Guy\" became her first number-one song on the Billboard Hot 100. In 2020, she performed the theme song \"No Time to Die\" for the James Bond film of the same name, which became her first number-one single in the UK. Her later singles \"Everything I Wanted\", \"My Future\", and \"Therefore I Am\" peaked within the top 10 in the US and UK.\\nHer accolades include five Grammy Awards, two American Music Awards, two Guinness World Records, three MTV Video Music Awards, and one Brit Award. She is the youngest person and the second in history to win the four main Grammy categories—Best New Artist, Record of the Year, Song of the Year and Album of the Year—in the same year. In 2019, Time magazine placed her on their inaugural Time 100 Next list. Eilish is the 26th-highest-certified artist of the digital singles era, according to the RIAA.'"
      ]
     },
     "execution_count": 20,
     "metadata": {},
     "output_type": "execute_result"
    }
   ],
   "source": [
    "eilish_page.summary"
   ]
  },
  {
   "cell_type": "code",
   "execution_count": null,
   "metadata": {},
   "outputs": [],
   "source": []
  }
 ],
 "metadata": {
  "kernelspec": {
   "display_name": "Python 3",
   "language": "python",
   "name": "python3"
  },
  "language_info": {
   "codemirror_mode": {
    "name": "ipython",
    "version": 3
   },
   "file_extension": ".py",
   "mimetype": "text/x-python",
   "name": "python",
   "nbconvert_exporter": "python",
   "pygments_lexer": "ipython3",
   "version": "3.8.5"
  }
 },
 "nbformat": 4,
 "nbformat_minor": 4
}
